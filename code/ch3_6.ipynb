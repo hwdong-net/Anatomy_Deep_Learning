{
 "cells": [
  {
   "cell_type": "markdown",
   "metadata": {},
   "source": [
    "本书配套视频课程：[解剖深度学习原理，从0实现深度学习库](https://ke.qq.com/course/2900371?tuin=ac5537fd) \n",
    "\n",
    "更多代码或学习资料将向购买视频课程或书的学生提供。\n",
    "\n",
    "\n",
    "+ 博客网站：[https://hwdong-net.github.io](https://hwdong-net.github.io)\n",
    "+ youtube频道: [hwdong](http://www.youtube.com/c/hwdong)\n",
    "+ bilibili网站：[hw-dong](https://space.bilibili.com/281453312)\n",
    "\n",
    "## 3.6 softmax回归\n",
    "\n",
    "### 3.6.1 spiral数据集\n",
    "\n",
    "下面的代码生成一个二维平面上的3分类数据集："
   ]
  },
  {
   "cell_type": "code",
   "execution_count": 1,
   "metadata": {},
   "outputs": [
    {
     "data": {
      "image/png": "[encoded data removed]",
      "text/plain": [
       "<Figure size 432x288 with 1 Axes>"
      ]
     },
     "metadata": {
      "needs_background": "light"
     },
     "output_type": "display_data"
    }
   ],
   "source": [
    "import numpy as np\n",
    "import matplotlib.pyplot as plt\n",
    "%matplotlib inline\n",
    "\n",
    "np.random.seed(100)\n",
    "\n",
    "def gen_spiral_dataset(N=100,D=2,K=3):\n",
    "    N = 100 # number of points per class\n",
    "    D = 2 # dimensionality\n",
    "    K = 3 # number of classes\n",
    "    X = np.zeros((N*K,D)) # data matrix (each row = single example)\n",
    "    y = np.zeros(N*K, dtype='uint8') # class labels\n",
    "    for j in range(K):\n",
    "        ix = range(N*j,N*(j+1))\n",
    "        r = np.linspace(0.0,1,N) # radius\n",
    "        t = np.linspace(j*4,(j+1)*4,N) + np.random.randn(N)*0.2  # theta\n",
    "        X[ix] = np.c_[r*np.sin(t), r*np.cos(t)]\n",
    "        y[ix] = j\n",
    "    return X,y\n",
    "\n",
    "N = 100 # number of points per class\n",
    "D = 2 # dimensionality\n",
    "K = 3 # number of classes\n",
    "\n",
    "X_spiral,y_spiral = gen_spiral_dataset()\n",
    "# lets visualize the data:\n",
    "plt.scatter(X_spiral[:, 0], X_spiral[:, 1], c=y_spiral, s=20, cmap=plt.cm.spring) #s=40, cmap=plt.cm.Spectral)\n",
    "plt.show()"
   ]
  },
  {
   "cell_type": "markdown",
   "metadata": {},
   "source": [
    "### 3.6.2 softmax函数"
   ]
  },
  {
   "cell_type": "code",
   "execution_count": 2,
   "metadata": {},
   "outputs": [],
   "source": [
    "import numpy as np\n",
    "\n",
    "def softmax(x):\n",
    "    e_x = np.exp(x)\n",
    "    return e_x / e_x.sum()"
   ]
  },
  {
   "cell_type": "code",
   "execution_count": 3,
   "metadata": {},
   "outputs": [
    {
     "data": {
      "text/plain": [
       "array([0.8360188 , 0.11314284, 0.05083836])"
      ]
     },
     "execution_count": 3,
     "metadata": {},
     "output_type": "execute_result"
    }
   ],
   "source": [
    "z = [3.0, 1.0, 0.2]\n",
    "softmax(z)"
   ]
  },
  {
   "cell_type": "code",
   "execution_count": 4,
   "metadata": {},
   "outputs": [
    {
     "name": "stderr",
     "output_type": "stream",
     "text": [
      "<ipython-input-2-e3aa77d695fd>:4: RuntimeWarning: overflow encountered in exp\n",
      "  e_x = np.exp(x)\n",
      "<ipython-input-2-e3aa77d695fd>:5: RuntimeWarning: invalid value encountered in true_divide\n",
      "  return e_x / e_x.sum()\n"
     ]
    },
    {
     "data": {
      "text/plain": [
       "array([ 0., nan])"
      ]
     },
     "execution_count": 4,
     "metadata": {},
     "output_type": "execute_result"
    }
   ],
   "source": [
    "z = [100,1000]\n",
    "softmax(z)"
   ]
  },
  {
   "cell_type": "markdown",
   "metadata": {},
   "source": [
    "因此，可以先求出所有${z_i}$的最大值a，然后用${z_i-a}$去计算softmax()函数值。"
   ]
  },
  {
   "cell_type": "code",
   "execution_count": 5,
   "metadata": {},
   "outputs": [
    {
     "name": "stdout",
     "output_type": "stream",
     "text": [
      "[0. 1.]\n"
     ]
    },
    {
     "data": {
      "text/plain": [
       "array([7.12457641e-218, 1.00000000e+000])"
      ]
     },
     "execution_count": 5,
     "metadata": {},
     "output_type": "execute_result"
    }
   ],
   "source": [
    "def softmax(x):   \n",
    "    e_x = np.exp(x - np.max(x))\n",
    "    return e_x / e_x.sum()\n",
    "\n",
    "print(softmax(z))\n",
    "z = [500,1000]\n",
    "softmax(z)"
   ]
  },
  {
   "cell_type": "code",
   "execution_count": 6,
   "metadata": {},
   "outputs": [
    {
     "data": {
      "text/plain": [
       "array([[0.00548473, 0.01490905, 0.04052699],\n",
       "       [0.8140064 , 0.01490905, 0.11016379]])"
      ]
     },
     "execution_count": 6,
     "metadata": {},
     "output_type": "execute_result"
    }
   ],
   "source": [
    "z = np.array([[1, 2, 3],[6, 2, 4]])\n",
    "softmax(z)"
   ]
  },
  {
   "cell_type": "markdown",
   "metadata": {},
   "source": [
    "对多个样本，应计算它们各自的softmax()函数值，即对每个样本单独计算其softmax值向量。正确代码应该是:"
   ]
  },
  {
   "cell_type": "code",
   "execution_count": 8,
   "metadata": {},
   "outputs": [
    {
     "data": {
      "text/plain": [
       "array([[0.09003057, 0.24472847, 0.66524096],\n",
       "       [0.86681333, 0.01587624, 0.11731043]])"
      ]
     },
     "execution_count": 8,
     "metadata": {},
     "output_type": "execute_result"
    }
   ],
   "source": [
    "def softmax(x):   \n",
    "    a= np.max(x,axis=-1,keepdims=True)  \n",
    "    e_x = np.exp(x - a)\n",
    "    return e_x /np.sum(e_x,axis=-1,keepdims=True)\n",
    "\n",
    "softmax(z)"
   ]
  },
  {
   "cell_type": "code",
   "execution_count": 9,
   "metadata": {},
   "outputs": [
    {
     "data": {
      "text/plain": [
       "array([[0.09003057, 0.24472847, 0.66524096],\n",
       "       [0.86681333, 0.01587624, 0.11731043]])"
      ]
     },
     "execution_count": 9,
     "metadata": {},
     "output_type": "execute_result"
    }
   ],
   "source": [
    "def softmax(x):\n",
    "    e_x=np.exp(x-np.max(x,axis=-1,keepdims=True))\n",
    "    return e_x /np.sum(e_x,axis=-1,keepdims=True)\n",
    "\n",
    "softmax(z)"
   ]
  },
  {
   "cell_type": "markdown",
   "metadata": {},
   "source": [
    "一般的，假设$\\pmb z = (z_1,z_2,\\cdots,z_k,\\cdots,z_C)$，用$f(\\pmb z)$表示$softmax(\\pmb z)$函数，则有：\n",
    "\n",
    "$$f_i = \\frac{e^{z_i}}{\\sum_{k=1}^C e^{z_k}}$$\n",
    "\n",
    "其中，$\\sum_{i=1}^C f_i = 1$。\n",
    "\n",
    "$\\pmb f$关于$\\pmb z$的梯度可如下计算："
   ]
  },
  {
   "cell_type": "code",
   "execution_count": 10,
   "metadata": {},
   "outputs": [],
   "source": [
    "def softmax_gradient(z):    \n",
    "    f = softmax(z)\n",
    "    grad = -np.outer(f, f) + np.diag(f.flatten())\n",
    "    return grad"
   ]
  },
  {
   "cell_type": "markdown",
   "metadata": {},
   "source": [
    "用df表示某个其他变量$L$关于$f$的梯度，则$L$关于$z$的梯度的python计算代码如下："
   ]
  },
  {
   "cell_type": "code",
   "execution_count": 11,
   "metadata": {},
   "outputs": [],
   "source": [
    "def softmax_backward(z,df):    \n",
    "    f = softmax(z)\n",
    "    grad = -np.outer(f, f) + np.diag(f.flatten())\n",
    "    \n",
    "    return df@grad"
   ]
  },
  {
   "cell_type": "markdown",
   "metadata": {},
   "source": [
    "### 3.6.3 softmax回归\n",
    "\n",
    "$$f(\\pmb x) =  softmax (\\pmb x\\pmb W_{,1},\\pmb x\\pmb W_{,2},\\pmb x\\pmb W_{,3}) =  softmax(\\pmb x \\pmb W) $$\n",
    "\n",
    "$$L(\\pmb W) = -\\frac{1}{m} \\sum_{i=1}^{m} log({f^{(i)}_{y^{(i)}}}) $$\n",
    "\n",
    "$$L(\\pmb W) = -\\frac{1}{m} \\sum_{i=1}^{m} log({f^{(i)}_{y^{(i)}}})  = -\\frac{1}{m} sum (log \\pmb F_{\\pmb y}) $$\n",
    "\n",
    "计算交叉熵的python代码如下："
   ]
  },
  {
   "cell_type": "code",
   "execution_count": 12,
   "metadata": {},
   "outputs": [],
   "source": [
    "def cross_entropy(F,y):\n",
    "    m = len(F) #y.shape[0]\n",
    "    log_Fy = -np.log(F[range(m),y])    \n",
    "    return np.sum(log_Fy) / m  "
   ]
  },
  {
   "cell_type": "markdown",
   "metadata": {},
   "source": [
    "用这个函数计算例子中的交叉熵："
   ]
  },
  {
   "cell_type": "code",
   "execution_count": 13,
   "metadata": {},
   "outputs": [
    {
     "name": "stdout",
     "output_type": "stream",
     "text": [
      "0.8573992140459634\n",
      "0.8573992140459634\n"
     ]
    }
   ],
   "source": [
    "F = np.array([[0.2,0.5,0.3],[0.2,0.6,0.2]])  #每行对应一个样本\n",
    "Y = np.array([2,1])\n",
    "\n",
    "print(-1/2*(np.log(0.3)+np.log(0.6)))\n",
    "print(cross_entropy(F,Y))"
   ]
  },
  {
   "cell_type": "markdown",
   "metadata": {},
   "source": [
    "对于一个样本，如果其对应的$y^{(i)}$的第j个分量$y^{(i)}_j = 1$，即该样本属于第j类，则该样本的交叉熵损失可写成：\n",
    "\n",
    "$$-\\log(f^{(i)}_j) =-y^{(i)}_j \\log(f^{(i)}_j) = - \\sum_{j=1}^C y^{(i)}_j \\log(f^{(i)}_j) = -y^{(i)} \\cdot log(f^{(i)}) $$\n",
    "\n",
    "针对one-hot形式表示的目标值，可以将所有样本的交叉熵损失写成如下形式：\n",
    "\n",
    "$$\\begin{aligned}L(\\pmb W) &= -\\frac{1}{m} \\sum_{i=1}^m y^{(i)}\\cdot log(f^{(i)})= -\\frac{1}{m} np.sum(Y \\odot log(F) )\\end{aligned}$$"
   ]
  },
  {
   "cell_type": "markdown",
   "metadata": {},
   "source": [
    "对应的python计算代码如下："
   ]
  },
  {
   "cell_type": "code",
   "execution_count": 15,
   "metadata": {},
   "outputs": [
    {
     "name": "stdout",
     "output_type": "stream",
     "text": [
      "0.8573992140459634\n"
     ]
    }
   ],
   "source": [
    "def cross_entropy_one_hot(F,Y):\n",
    "    m = len(F) \n",
    "    return -np.sum(Y*np.log(F))/m  # -(1./m) *np.sum(np.multiply(y, np.log(f)))\n",
    "\n",
    "F = np.array([[0.2,0.5,0.3],[0.2,0.6,0.2]])  #每行对应一个样本\n",
    "Y = np.array([[0,0,1],[0,1,0]])\n",
    "\n",
    "print(cross_entropy_one_hot(F,Y))"
   ]
  },
  {
   "cell_type": "markdown",
   "metadata": {},
   "source": [
    "### 3.6.5 通过加权和计算交叉熵损失"
   ]
  },
  {
   "cell_type": "code",
   "execution_count": 16,
   "metadata": {},
   "outputs": [],
   "source": [
    "def softmax(Z):\n",
    "    A = np.exp(Z-np.max(Z,axis=1,keepdims=True))\n",
    "    return A/np.sum(A,axis=1,keepdims=True)\n",
    "\n",
    "def softmax_cross_entropy(Z,y):\n",
    "    m = len(Z)\n",
    "    F = softmax(Z)\n",
    "    log_Fy = -np.log(F[range(m),y])\n",
    "    return  np.sum(log_Fy) / m"
   ]
  },
  {
   "cell_type": "code",
   "execution_count": 17,
   "metadata": {},
   "outputs": [
    {
     "data": {
      "text/plain": [
       "31.500003072148047"
      ]
     },
     "execution_count": 17,
     "metadata": {},
     "output_type": "execute_result"
    }
   ],
   "source": [
    "Z = np.array([[2,25,13],[54,3,11]])  #每行对应一个样本\n",
    "y = np.array([2,1])\n",
    "softmax_cross_entropy(Z,y)"
   ]
  },
  {
   "cell_type": "markdown",
   "metadata": {},
   "source": [
    "如果目标标签是one-hot向量形式，则下面代码从加权和计算交叉熵损失："
   ]
  },
  {
   "cell_type": "code",
   "execution_count": 18,
   "metadata": {},
   "outputs": [],
   "source": [
    "def softmax_cross_entropy_one_hot(Z, y):    \n",
    "    F = softmax(Z)\n",
    "    loss =  -np.sum(y*np.log(F),axis=1)\n",
    "    return np.mean(loss)  "
   ]
  },
  {
   "cell_type": "code",
   "execution_count": 19,
   "metadata": {},
   "outputs": [
    {
     "data": {
      "text/plain": [
       "31.500003072148047"
      ]
     },
     "execution_count": 19,
     "metadata": {},
     "output_type": "execute_result"
    }
   ],
   "source": [
    "Z = np.array([[2,25,13],[54,3,11]])  #每行对应一个样本\n",
    "y = np.array([[0, 0, 1],[0, 1, 0]])\n",
    "softmax_cross_entropy_one_hot(Z,y)"
   ]
  },
  {
   "cell_type": "markdown",
   "metadata": {},
   "source": [
    "### 3.6.6 softmax回归的梯度计算\n",
    "\n",
    "$$\\nabla_Z{\\mathcal L} = \\pmb F -\\pmb I_i$$\n",
    "\n",
    "或者\n",
    "\n",
    "$$\\nabla_Z{\\mathcal L} = \\pmb F -\\pmb Y$$"
   ]
  },
  {
   "cell_type": "code",
   "execution_count": 21,
   "metadata": {},
   "outputs": [],
   "source": [
    "def grad_softmax_crossentropy(Z,y):\n",
    "    F = softmax(Z)\n",
    "    I_i = np.zeros_like(Z)\n",
    "    I_i[np.arange(len(Z)),y] = 1   \n",
    "    return (F - I_i) / Z.shape[0]"
   ]
  },
  {
   "cell_type": "code",
   "execution_count": 22,
   "metadata": {},
   "outputs": [],
   "source": [
    "def grad_softmax_cross_entropy(Z,y):\n",
    "    m = len(Z)\n",
    "    F = softmax(Z) \n",
    "    F[range(m),y] -= 1\n",
    "    return F/m  "
   ]
  },
  {
   "cell_type": "code",
   "execution_count": 23,
   "metadata": {},
   "outputs": [
    {
     "data": {
      "text/plain": [
       "array([[ 5.13090829e-11,  4.99996928e-01, -4.99996928e-01],\n",
       "       [ 5.00000000e-01, -5.00000000e-01,  1.05756552e-19]])"
      ]
     },
     "execution_count": 23,
     "metadata": {},
     "output_type": "execute_result"
    }
   ],
   "source": [
    "Z = np.array([[2,25,13],[54,3,11]])  #每行对应一个样本\n",
    "y = np.array([2,1])\n",
    "grad_softmax_cross_entropy(Z,y)\n",
    "#grad_softmax_crossentropy(Z,y)"
   ]
  },
  {
   "cell_type": "markdown",
   "metadata": {},
   "source": [
    "为了确保分析梯度计算没有错误，可以用1.4)节的通用数值梯度函数计算交叉熵关于Z的数值梯度和上述的分析梯度进行比较："
   ]
  },
  {
   "cell_type": "code",
   "execution_count": 26,
   "metadata": {},
   "outputs": [
    {
     "name": "stdout",
     "output_type": "stream",
     "text": [
      "num_grad [array([[ 0.        ,  0.49999693, -0.49999693],\n",
      "       [ 0.5       , -0.5       ,  0.        ]])]\n"
     ]
    }
   ],
   "source": [
    "def loss_f():\n",
    "    return softmax_cross_entropy(Z,y)\n",
    "\n",
    "import util\n",
    "Z = Z.astype(float)        #注意：必须将整数数组转化成float类型\n",
    "print(\"num_grad\",util.numerical_gradient(loss_f,[Z]))"
   ]
  },
  {
   "cell_type": "markdown",
   "metadata": {},
   "source": [
    "如果样本目标是使用one-hot向量表示的，则计算交叉熵关于Z的梯度代码如下："
   ]
  },
  {
   "cell_type": "code",
   "execution_count": 27,
   "metadata": {},
   "outputs": [
    {
     "data": {
      "text/plain": [
       "array([[ 5.13090829e-11,  4.99996928e-01, -4.99996928e-01],\n",
       "       [ 5.00000000e-01, -5.00000000e-01,  1.05756552e-19]])"
      ]
     },
     "execution_count": 27,
     "metadata": {},
     "output_type": "execute_result"
    }
   ],
   "source": [
    "def grad_softmax_crossentropy_one_hot(Z, y):   #y是用one-hot向量表示的\n",
    "    F = softmax(Z) \n",
    "    return (F - y)/Z.shape[0]\n",
    "\n",
    "Z = np.array([[2,25,13],[54,3,11]])  #每行对应一个样本\n",
    "y = np.array([[0, 0, 1],[0, 1, 0]])\n",
    "grad_softmax_crossentropy_one_hot(Z,y)"
   ]
  },
  {
   "cell_type": "markdown",
   "metadata": {},
   "source": [
    "则损失函数关于权重$\\pmb W$的梯度的向量形式是：\n",
    "\n",
    "$$ \\frac {\\partial{\\mathcal L}} {\\partial{\\pmb W } } = {\\pmb X}^T {(\\pmb F-\\pmb Y)} \\tag{3-61}$$\n",
    "\n",
    "同样，可以给softmax回归的交叉熵损失添加正则项，如果用整数表示目标值，即损失函数变为：\n",
    "\n",
    "$$L(\\pmb W) = -\\frac{1}{m} \\sum_{i=1}^{m} log({f^{(i)}_{y^{(i)}}}) +\\lambda \\|\\pmb W\\|^2  \\tag{3-62}$$\n",
    "\n",
    "如果用one-hot向量表示目标值，则即损失函数变为：\n",
    "\n",
    "$$L(\\pmb W) =-\\frac{1}{m} \\sum_{i=1}^m y^{(i)}\\dot log(f^{(i)}) +\\lambda \\|W\\|^2  \\tag{3-63} $$\n",
    "\n",
    "\n",
    "则损失函数关于权重$\\pmb W$的梯度是：\n",
    "\n",
    "$$ \\frac {\\partial{\\mathcal L}} {\\partial{\\pmb W } } = {\\pmb X}^T {(\\pmb F-\\pmb Y)} +2 \\lambda \\pmb W  \\tag{3-64}$$\n",
    "\n",
    "根据梯度的计算公式，可以很容易写出损失函数关于$\\pmb W$的梯度的计算代码。下列代码中，假设X表示多个样本的数据特征矩阵，y表示目标值向量，reg是正则化参数$\\lambda$，loss_softmax()和gradient_softmax()分别计算损失函数的损失和关于$\\pmb W$的梯度："
   ]
  },
  {
   "cell_type": "code",
   "execution_count": 28,
   "metadata": {},
   "outputs": [],
   "source": [
    "def gradient_softmax(W,X,y,reg):\n",
    "    m = len(X)\n",
    "    Z=  np.dot(X,W)\n",
    "    \n",
    "    I_i = np.zeros_like(Z)\n",
    "    I_i[np.arange(len(Z)),y] = 1\n",
    "    F = softmax(Z)\n",
    "    #F = np.exp(Z) / np.exp(Z).sum(axis=-1,keepdims=True)\n",
    "    grad =  (1 / m) * np.dot(X.T,F - I_i)      # Z.shape[0]\n",
    "    grad = grad +2*reg*W\n",
    "    return grad\n",
    "\n",
    "def loss_softmax(W,X,y,reg):\n",
    "    m = len(X)\n",
    "    Z=  np.dot(X,W)   \n",
    "    loss =  softmax_cross_entropy(Z,y)+reg*np.sum(W*W)\n",
    "    return loss  \n",
    "\n",
    "\n",
    "def loss_softmax_(W,X,y,reg):\n",
    "    m = len(X)\n",
    "    Z=  np.dot(X,W) \n",
    "    Z_i_y_i = Z[np.arange(len(Z)),y]\n",
    "    negtive_log_prob = - Z_i_y_i + np.log(np.sum(np.exp(Z),axis=-1))\n",
    "    loss =  np.mean(negtive_log_prob)+reg*np.sum(W*W)\n",
    "    return loss  "
   ]
  },
  {
   "cell_type": "markdown",
   "metadata": {},
   "source": [
    "用下列数据测试一下这个函数："
   ]
  },
  {
   "cell_type": "code",
   "execution_count": 29,
   "metadata": {},
   "outputs": [
    {
     "name": "stdout",
     "output_type": "stream",
     "text": [
      "[[ 0.30213245 -1.75779321  1.69566076]\n",
      " [ 0.5254108  -2.19194012  2.22652932]]\n",
      "2.0863049636282662\n",
      "2.0863049636282662\n"
     ]
    }
   ],
   "source": [
    "X = np.array([[2,3],[4,5]])  #每行对应一个样本,每个样本是2个特征\n",
    "y = np.array([2,1])             #类别数是3\n",
    "W = np.array([[0.1,0.2,0.3],[0.4,0.2,0.8]])  #  2X3矩阵\n",
    "\n",
    "reg = 0.2;\n",
    "\n",
    "print(gradient_softmax(W,X,y,reg))\n",
    "print(loss_softmax(W,X,y,reg))\n",
    "print(loss_softmax_(W,X,y,reg))"
   ]
  },
  {
   "cell_type": "markdown",
   "metadata": {},
   "source": [
    "如果用one-hot向量表示每个样本的目标值，y表示多个样本的目标值构成的矩阵，则下面的loss_softmax_onthot()和gradient_softmax_onthot()分别计算损失函数的损失和关于$\\pmb W$的梯度："
   ]
  },
  {
   "cell_type": "code",
   "execution_count": 30,
   "metadata": {},
   "outputs": [],
   "source": [
    "def gradient_softmax_onehot(W,X,y,reg):\n",
    "    m = len(X)   #样本数目\n",
    "    nC = W.shape[1]   #类别数目\n",
    "    #y_one_hot = np.eye(nC)[y[:,0]]\n",
    "    y_one_hot = y\n",
    "    \n",
    "    Z = np.dot(X,W)      # Z是加权和\n",
    "    F = softmax(Z)       # F是概率矩阵\n",
    "    grad = (1 / m) * np.dot(X.T,(F - y_one_hot)) + 2*reg*W \n",
    "    return grad\n",
    "\n",
    "def loss_softmax_onehot(W,X,y,reg):\n",
    "    m = len(X)  #First we get the number of training examples\n",
    "    nC = W.shape[1]\n",
    "    #y_one_hot = np.eye(nC)[y[:,0]]\n",
    "    y_one_hot = y\n",
    "    \n",
    "   # y_mat = oneHotIt(y)  #将整数类编码转换为one-hot向量形式\n",
    "    Z = np.dot(X,W)       # Z是加权和\n",
    "    F = softmax(Z)        # F是概率矩阵\n",
    "    loss = (-1 / m) * np.sum(y_one_hot * np.log(F)) + (reg)*np.sum(W*W) \n",
    "    return loss"
   ]
  },
  {
   "cell_type": "code",
   "execution_count": 31,
   "metadata": {},
   "outputs": [
    {
     "name": "stdout",
     "output_type": "stream",
     "text": [
      "[[ 0.30213245 -1.75779321  1.69566076]\n",
      " [ 0.5254108  -2.19194012  2.22652932]]\n",
      "2.0863049636282662\n"
     ]
    }
   ],
   "source": [
    "X = np.array([[2,3],[4,5]])  #每行对应一个样本,每个样本是2个特征\n",
    "y = np.array([[0,0,1],[0,1,0]])             #类别数是3\n",
    "W = np.array([[0.1,0.2,0.3],[0.4,0.2,0.8]])  #  2X3矩阵\n",
    "\n",
    "reg = 0.2;\n",
    "print(gradient_softmax_onehot(W,X,y,reg))\n",
    "print(loss_softmax_onehot(W,X,y,reg))"
   ]
  },
  {
   "cell_type": "markdown",
   "metadata": {},
   "source": [
    "### 3.6.7 softmax回归的梯度下降法的实现\n",
    "\n",
    "在此基础上的梯度下降算法代码如下："
   ]
  },
  {
   "cell_type": "code",
   "execution_count": 32,
   "metadata": {},
   "outputs": [],
   "source": [
    "def gradient_descent_softmax(w,X, y, reg=0., alpha=0.01, iterations=100,gamma = 0.8,epsilon=1e-8):\n",
    "    X = np.hstack((np.ones((X.shape[0], 1), dtype=X.dtype),X))  #添加一列特征1  \n",
    "    v= np.zeros_like(w)\n",
    "    #losses = []\n",
    "    w_history=[] \n",
    "    for i in range(0,iterations):\n",
    "        gradient = gradient_softmax(w,X,y,reg)\n",
    "        if np.max(np.abs(gradient))<epsilon:\n",
    "            print(\"gradient is small enough!\")\n",
    "            print(\"iterated num is :\",i)\n",
    "            break            \n",
    "        \n",
    "        w = w - (alpha * gradient)\n",
    "        #v = gamma*v+alpha* gradientz\n",
    "        #w= w-v\n",
    "        #losses.append(loss)\n",
    "        w_history.append(w)\n",
    "    return w_history"
   ]
  },
  {
   "cell_type": "markdown",
   "metadata": {},
   "source": [
    "对一组样本(X,y)，下面的辅助函数计算历史记录w_history里的每个模型参数对应的模型损失："
   ]
  },
  {
   "cell_type": "code",
   "execution_count": 33,
   "metadata": {},
   "outputs": [],
   "source": [
    "def compute_loss_history(w_history,X,y,reg=0.,OneHot=False):\n",
    "    loss_history=[]\n",
    "    X = np.hstack((np.ones((X.shape[0], 1), dtype=X.dtype),X))\n",
    "    if OneHot:\n",
    "        for w in w_history:\n",
    "            loss_history.append(loss_softmax_onthot(w,X,y,reg))\n",
    "    else: \n",
    "        for w in w_history:\n",
    "            loss_history.append(loss_softmax(w,X,y,reg))\n",
    "    return loss_history"
   ]
  },
  {
   "cell_type": "markdown",
   "metadata": {},
   "source": [
    "### 2.6.8  spiral数据集的softmax回归"
   ]
  },
  {
   "cell_type": "code",
   "execution_count": 34,
   "metadata": {},
   "outputs": [
    {
     "name": "stdout",
     "output_type": "stream",
     "text": [
      "w:  [[-0.05920585  0.00607797  0.05312788]\n",
      " [ 1.1810134   1.02222379 -2.20323719]\n",
      " [-2.39215667  2.77296386 -0.3808072 ]]\n",
      "[1.0681234262911812, 0.8321410771358214, 0.788734093154218, 0.7757732070848885, 0.7709659484297107, 0.7689671616291273, 0.7680780120185511, 0.76766521456332, 0.7674681036477377, 0.7673721797769464]\n"
     ]
    },
    {
     "data": {
      "text/plain": [
       "[<matplotlib.lines.Line2D at 0x233bdfd7b20>]"
      ]
     },
     "execution_count": 34,
     "metadata": {},
     "output_type": "execute_result"
    },
    {
     "data": {
      "image/png": "[encoded data removed]",
      "text/plain": [
       "<Figure size 432x288 with 1 Axes>"
      ]
     },
     "metadata": {
      "needs_background": "light"
     },
     "output_type": "display_data"
    }
   ],
   "source": [
    "X_spiral,y_spiral = gen_spiral_dataset()\n",
    "X = X_spiral\n",
    "y = y_spiral\n",
    "\n",
    "alpha = 1e-0\n",
    "iterations  =200\n",
    "reg = 1e-3\n",
    "\n",
    "w = np.zeros([X.shape[1]+1,len(np.unique(y))])\n",
    "w_history = gradient_descent_softmax(w,X,y,reg,alpha,iterations)\n",
    "w = w_history[-1]\n",
    "print(\"w: \",w)\n",
    "loss_history = compute_loss_history(w_history,X,y,reg)\n",
    "print(loss_history[:-1:len(loss_history)//10])\n",
    "plt.plot(loss_history, color='r')"
   ]
  },
  {
   "cell_type": "markdown",
   "metadata": {},
   "source": [
    "下面函数可以计算训练模型在一批数据(X,y)上的预测准确性："
   ]
  },
  {
   "cell_type": "code",
   "execution_count": 35,
   "metadata": {},
   "outputs": [],
   "source": [
    "def getAccuracy(w,X,y):\n",
    "    X = np.hstack((np.ones((X.shape[0], 1), dtype=X.dtype),X))  #添加一列特征1 \n",
    "    probs = softmax(np.dot(X,w))\n",
    "    predicts = np.argmax(probs,axis=1) \n",
    "    accuracy = sum(predicts == y)/(float(len(y)))\n",
    "    return accuracy"
   ]
  },
  {
   "cell_type": "markdown",
   "metadata": {},
   "source": [
    "对刚才的数据集用getAccuracy()计算训练得到的softmax模型的预测准确度。"
   ]
  },
  {
   "cell_type": "code",
   "execution_count": 36,
   "metadata": {},
   "outputs": [
    {
     "data": {
      "text/plain": [
       "0.5133333333333333"
      ]
     },
     "execution_count": 36,
     "metadata": {},
     "output_type": "execute_result"
    }
   ],
   "source": [
    "getAccuracy(w,X_spiral,y_spiral)"
   ]
  },
  {
   "cell_type": "markdown",
   "metadata": {},
   "source": [
    "下面代码绘制出对于这个问题的softmax模型的分类边界："
   ]
  },
  {
   "cell_type": "code",
   "execution_count": 37,
   "metadata": {},
   "outputs": [
    {
     "data": {
      "text/plain": [
       "(-1.9181692991988153, 1.901830700801188)"
      ]
     },
     "execution_count": 37,
     "metadata": {},
     "output_type": "execute_result"
    },
    {
     "data": {
      "image/png": "[encoded data removed]",
      "text/plain": [
       "<Figure size 432x288 with 1 Axes>"
      ]
     },
     "metadata": {
      "needs_background": "light"
     },
     "output_type": "display_data"
    }
   ],
   "source": [
    "# plot the resulting classifier\n",
    "h = 0.02\n",
    "x_min, x_max = X[:, 0].min() - 1, X[:, 0].max() + 1\n",
    "y_min, y_max = X[:, 1].min() - 1, X[:, 1].max() + 1\n",
    "xx, yy = np.meshgrid(np.arange(x_min, x_max, h),\n",
    "                     np.arange(y_min, y_max, h))\n",
    "\n",
    "Z = np.dot(np.c_[np.ones(xx.size),xx.ravel(), yy.ravel()], w) \n",
    "Z = np.argmax(Z, axis=1)\n",
    "Z = Z.reshape(xx.shape)\n",
    "fig = plt.figure()\n",
    "plt.contourf(xx, yy, Z, cmap=plt.cm.Spectral, alpha=0.3)\n",
    "plt.scatter(X[:, 0], X[:, 1], c=y, s=40, cmap=plt.cm.Spectral)\n",
    "plt.xlim(xx.min(), xx.max())\n",
    "plt.ylim(yy.min(), yy.max())\n",
    "#fig.savefig('spiral_linear.png')"
   ]
  },
  {
   "cell_type": "markdown",
   "metadata": {},
   "source": [
    "可见softmax回归本质上仍然是线性函数模型，表现在图形上其分割线都是一些直线，很难对数据进行非线性分割，模型的准确度是 0.5366666666666666 。"
   ]
  },
  {
   "cell_type": "markdown",
   "metadata": {},
   "source": [
    "## 3.7 批梯度下降法和随机梯度下降法\n",
    "\n",
    "下面代码读取MNIST手写数字训练集："
   ]
  },
  {
   "cell_type": "code",
   "execution_count": 39,
   "metadata": {},
   "outputs": [
    {
     "name": "stdout",
     "output_type": "stream",
     "text": [
      "(50000, 784) (50000,)\n",
      "(10000, 784) (10000,)\n",
      "(10000, 784) (10000,)\n",
      "float32 int64\n",
      "0.98828125 4\n",
      "0 9\n"
     ]
    }
   ],
   "source": [
    "import pickle, gzip, urllib.request, json\n",
    "import numpy as np\n",
    "import os.path\n",
    "\n",
    "if not os.path.isfile(\"mnist.pkl.gz\"):\n",
    "    # Load the dataset\n",
    "    urllib.request.urlretrieve(\"http://deeplearning.net/data/mnist/mnist.pkl.gz\", \"mnist.pkl.gz\")\n",
    "    \n",
    "with gzip.open('mnist.pkl.gz', 'rb') as f:\n",
    "    train_set, valid_set, test_set = pickle.load(f, encoding='latin1')\n",
    "\n",
    "train_X, train_y = train_set\n",
    "valid_X, valid_y = valid_set\n",
    "test_X, test_y = valid_set\n",
    "print(train_X.shape,train_y.shape)\n",
    "print(valid_X.shape,valid_y.shape)\n",
    "print(test_X.shape,test_y.shape)\n",
    "print(train_X.dtype,train_y.dtype)\n",
    "print(train_X[9][300],train_y[9])\n",
    "print(np.min(train_y),np.max(train_y))"
   ]
  },
  {
   "cell_type": "markdown",
   "metadata": {},
   "source": [
    "可视化其中的一幅图像："
   ]
  },
  {
   "cell_type": "code",
   "execution_count": 40,
   "metadata": {},
   "outputs": [
    {
     "data": {
      "image/png": "[encoded data removed]",
      "text/plain": [
       "<Figure size 432x288 with 4 Axes>"
      ]
     },
     "metadata": {
      "needs_background": "light"
     },
     "output_type": "display_data"
    }
   ],
   "source": [
    "import matplotlib.pyplot as plt\n",
    "%matplotlib inline\n",
    "digit = train_X[9].reshape(28,28)\n",
    "plt.subplot(1,2,1)\n",
    "plt.imshow(digit)\n",
    "plt.colorbar()\n",
    "plt.subplot(1,2,2)\n",
    "plt.imshow(digit,cmap='gray')\n",
    "plt.colorbar()\n",
    "plt.show()"
   ]
  },
  {
   "cell_type": "markdown",
   "metadata": {},
   "source": [
    "继续输出该样本中的少数像素值（数据特征）。"
   ]
  },
  {
   "cell_type": "code",
   "execution_count": 41,
   "metadata": {},
   "outputs": [
    {
     "name": "stdout",
     "output_type": "stream",
     "text": [
      "(50000, 784)\n",
      "[0.         0.         0.         0.         0.         0.\n",
      " 0.         0.         0.         0.         0.         0.\n",
      " 0.         0.         0.         0.         0.75       0.984375\n",
      " 0.73046875 0.         0.         0.         0.         0.\n",
      " 0.         0.         0.         0.         0.         0.\n",
      " 0.         0.         0.         0.         0.         0.\n",
      " 0.2421875  0.72265625 0.0703125  0.         0.         0.\n",
      " 0.         0.34765625 0.921875   0.84765625 0.18359375 0.\n",
      " 0.         0.        ]\n"
     ]
    }
   ],
   "source": [
    "print(train_X.shape)\n",
    "print(train_X[9][200:250])"
   ]
  },
  {
   "cell_type": "code",
   "execution_count": 42,
   "metadata": {},
   "outputs": [
    {
     "data": {
      "text/plain": [
       "10"
      ]
     },
     "execution_count": 42,
     "metadata": {},
     "output_type": "execute_result"
    }
   ],
   "source": [
    "len(np.unique(train_y))"
   ]
  },
  {
   "cell_type": "markdown",
   "metadata": {},
   "source": [
    "### 3.7.2 用部分训练样本训练逻辑回归\n",
    "\n",
    "训练集的样本数目达到50000个，用整个训练集的样本进行训练，每次计算都需要消耗很多资源和时间，为了提高训练效率，可以从中取出部分数据，如用batch=500个样本进行训练："
   ]
  },
  {
   "cell_type": "code",
   "execution_count": 43,
   "metadata": {},
   "outputs": [
    {
     "name": "stdout",
     "output_type": "stream",
     "text": [
      "w:  [[-0.1081236   0.15722483 -0.03458512 ...  0.14556747 -0.28445635\n",
      "  -0.0646967 ]\n",
      " [ 0.          0.          0.         ...  0.          0.\n",
      "   0.        ]\n",
      " [ 0.          0.          0.         ...  0.          0.\n",
      "   0.        ]\n",
      " ...\n",
      " [ 0.          0.          0.         ...  0.          0.\n",
      "   0.        ]\n",
      " [ 0.          0.          0.         ...  0.          0.\n",
      "   0.        ]\n",
      " [ 0.          0.          0.         ...  0.          0.\n",
      "   0.        ]]\n",
      "[2.291196965908743, 0.8358952420130783, 0.6737094231518491, 0.5552073298551986, 0.5205304526858188, 0.47774180354644386, 0.4642950154766653, 0.45662996516999915, 0.45159800707999115, 0.3368287901629059]\n"
     ]
    }
   ],
   "source": [
    "batch = 500\n",
    "\n",
    "alpha  =1e-2\n",
    "iterations  =1000\n",
    "reg = 1e-3\n",
    "\n",
    "w_history=[]\n",
    "\n",
    "w = np.zeros([train_X.shape[1]+1,len(np.unique(train_y))])\n",
    "for i in range(5):\n",
    "    s = i*batch\n",
    "    X = train_X[s :s+batch,:]\n",
    "    y = train_y[s :s+batch]\n",
    "    w_history_batch = gradient_descent_softmax(w,X,y,reg,alpha,iterations)\n",
    "    w = w_history_batch[-1]\n",
    "    w_history.extend(w_history_batch)\n",
    "    \n",
    "print(\"w: \",w)\n",
    "loss_history = compute_loss_history(w_history,X,y,reg)\n",
    "print(loss_history[:-1:len(loss_history)//10])"
   ]
  },
  {
   "cell_type": "markdown",
   "metadata": {},
   "source": [
    "分别计算模型函数在训练集、验证集、测试集上的准确性："
   ]
  },
  {
   "cell_type": "code",
   "execution_count": 44,
   "metadata": {},
   "outputs": [
    {
     "name": "stdout",
     "output_type": "stream",
     "text": [
      "训练集的准确性： 0.86746\n",
      "验证集的准确性： 0.8837\n",
      "测试集的准确性： 0.8837\n"
     ]
    }
   ],
   "source": [
    "print(\"训练集的准确性：\",getAccuracy(w,train_X,train_y))\n",
    "print(\"验证集的准确性：\",getAccuracy(w,valid_X,valid_y))\n",
    "print(\"测试集的准确性：\",getAccuracy(w,test_X,test_y))"
   ]
  },
  {
   "cell_type": "markdown",
   "metadata": {},
   "source": [
    "绘制训练集和验证集的迭代损失学习曲线："
   ]
  },
  {
   "cell_type": "code",
   "execution_count": 45,
   "metadata": {},
   "outputs": [
    {
     "data": {
      "image/png": "[encoded data removed]",
      "text/plain": [
       "<Figure size 432x288 with 1 Axes>"
      ]
     },
     "metadata": {
      "needs_background": "light"
     },
     "output_type": "display_data"
    }
   ],
   "source": [
    "loss_history_valid = compute_loss_history(w_history,valid_X[0:1000,:],valid_y[0:1000],reg)\n",
    "\n",
    "plt.plot(loss_history, color='r')\n",
    "plt.plot(loss_history_valid, color='b') \n",
    "plt.ylim(0,5)\n",
    "plt.xlabel('iterations')\n",
    "plt.ylabel('loss')\n",
    "plt.title('iterative learning curve')\n",
    "plt.legend(['train', 'valid'])\n",
    "plt.ylim(-0.2,3)\n",
    "plt.show()      "
   ]
  },
  {
   "cell_type": "markdown",
   "metadata": {},
   "source": [
    "### 3.7.3 批梯度下降法及实现\n",
    "\n",
    "批梯度下降法的一般做法是：\n",
    "+ 1) 对原训练集中的样本次序重新排列，即打乱原训练集中样本的次序。\n",
    "+ 2) 对重排后的训练集，从头开始，依次取出一小批样本，用这一批样本计算模型函数损失的梯度，并更新模型参数。\n",
    "+ 3) 多次重复 1),2)。\n",
    "上述中的1),2)完成了对训练集中几乎所有样本的一趟遍历，在这一趟遍历中用不同的一小批样本对模型参数进行了更新。因此，这个1),2)的过程称为一个epoch。3)表示执行多次的epoch。"
   ]
  },
  {
   "cell_type": "markdown",
   "metadata": {},
   "source": [
    "打乱一个列表的次序可用numpy.random.shuffle()函数，例如："
   ]
  },
  {
   "cell_type": "code",
   "execution_count": 46,
   "metadata": {},
   "outputs": [
    {
     "name": "stdout",
     "output_type": "stream",
     "text": [
      "[0, 1, 2, 3, 4]\n",
      "[2, 1, 0, 3, 4]\n"
     ]
    }
   ],
   "source": [
    "m=5\n",
    "indices = list(range(m))\n",
    "print(indices)\n",
    "np.random.shuffle(indices)\n",
    "print(indices)"
   ]
  },
  {
   "cell_type": "markdown",
   "metadata": {},
   "source": [
    "对应一个数据集(X,y)，可定义一个迭代器函数data_iter()，用于打乱原数据集的次序，并每次从数据集中返回batchsize大小的一小批训练样本："
   ]
  },
  {
   "cell_type": "code",
   "execution_count": 47,
   "metadata": {},
   "outputs": [],
   "source": [
    "def data_iter(X,y,batch_size,shuffle=False):\n",
    "    m = len(X)  \n",
    "    indices = list(range(m))\n",
    "    if shuffle:                 # shuffle是True表示打乱次序\n",
    "        np.random.shuffle(indices)\n",
    "    for i in range(0, m - batch_size + 1, batch_size):\n",
    "        batch_indices = np.array(indices[i: min(i + batch_size, m)])      \n",
    "        yield X.take(batch_indices,axis=0), y.take(batch_indices,axis=0)   "
   ]
  },
  {
   "cell_type": "markdown",
   "metadata": {},
   "source": [
    "批梯度下降法的代码实现："
   ]
  },
  {
   "cell_type": "code",
   "execution_count": 48,
   "metadata": {},
   "outputs": [],
   "source": [
    "def batch_gradient_descent_softmax(w,X, y, epochs,batchsize = 50,shuffle = False,\n",
    "                                   reg=0., alpha=0.01, gamma = 0.8,epsilon=1e-8): \n",
    "    w_history = []\n",
    "    X = np.hstack((np.ones((X.shape[0], 1), dtype=X.dtype),X)) \n",
    "    for epoch in range(epochs):\n",
    "        for X_batch,y_batch in data_iter(X,y,batchsize,shuffle):\n",
    "            gradient = gradient_softmax(w,X_batch,y_batch,reg)\n",
    "            if np.max(np.abs(gradient))<epsilon:\n",
    "                print(\"gradient is small enough!\")\n",
    "                print(\"iterated num is :\",i)\n",
    "                break          \n",
    "            w = w - (alpha * gradient)\n",
    "            w_history.append(w)\n",
    "    return w_history"
   ]
  },
  {
   "cell_type": "markdown",
   "metadata": {},
   "source": [
    "对Mnist手写数字识别训练集，执行这个批梯度下降法："
   ]
  },
  {
   "cell_type": "code",
   "execution_count": 49,
   "metadata": {},
   "outputs": [
    {
     "name": "stdout",
     "output_type": "stream",
     "text": [
      "w:  [[-0.09799915  0.19013309 -0.03203123 ...  0.14410694 -0.35215659\n",
      "  -0.05804954]\n",
      " [ 0.          0.          0.         ...  0.          0.\n",
      "   0.        ]\n",
      " [ 0.          0.          0.         ...  0.          0.\n",
      "   0.        ]\n",
      " ...\n",
      " [ 0.          0.          0.         ...  0.          0.\n",
      "   0.        ]\n",
      " [ 0.          0.          0.         ...  0.          0.\n",
      "   0.        ]\n",
      " [ 0.          0.          0.         ...  0.          0.\n",
      "   0.        ]]\n",
      "[2.293262307414389, 0.825868886995949, 0.643869466832342, 0.570418897469662, 0.5338953881876869, 0.5070184011149137, 0.4900678967579153, 0.47706039807365735, 0.46572411077892795, 0.4613240435830291]\n"
     ]
    }
   ],
   "source": [
    "import matplotlib.pyplot as plt\n",
    "%matplotlib inline\n",
    "\n",
    "batchsize = 50\n",
    "epochs = 5\n",
    "shuffle = True\n",
    "alpha = 0.01\n",
    "reg = 1e-3\n",
    "gamma = 0.8\n",
    "\n",
    "X,y = train_X,train_y\n",
    "w = np.zeros([X.shape[1]+1,len(np.unique(y))])   \n",
    "w_history = batch_gradient_descent_softmax(w,train_X,train_y,epochs,batchsize,\n",
    "                                                shuffle,reg,alpha,gamma)\n",
    "w = w_history[-1]\n",
    "print(\"w: \",w)\n",
    "X,y = train_X[0:1000,:],train_y[0:1000]\n",
    "loss_history = compute_loss_history(w_history,X,y,reg)\n",
    "print(loss_history[:-1:len(loss_history)//10])"
   ]
  },
  {
   "cell_type": "markdown",
   "metadata": {},
   "source": [
    "下面输出模型在不同样本集上的准确度。"
   ]
  },
  {
   "cell_type": "code",
   "execution_count": 50,
   "metadata": {},
   "outputs": [
    {
     "name": "stdout",
     "output_type": "stream",
     "text": [
      "训练集的准确性： 0.89342\n",
      "验证集的准确性： 0.9056\n",
      "测试集的准确性： 0.9056\n"
     ]
    }
   ],
   "source": [
    "print(\"训练集的准确性：\",getAccuracy(w,train_X,train_y))\n",
    "print(\"验证集的准确性：\",getAccuracy(w,valid_X,valid_y))\n",
    "print(\"测试集的准确性：\",getAccuracy(w,test_X,test_y))"
   ]
  },
  {
   "cell_type": "markdown",
   "metadata": {},
   "source": [
    "绘制迭代学习曲线："
   ]
  },
  {
   "cell_type": "code",
   "execution_count": 51,
   "metadata": {},
   "outputs": [
    {
     "data": {
      "image/png": "[encoded data removed]",
      "text/plain": [
       "<Figure size 432x288 with 1 Axes>"
      ]
     },
     "metadata": {
      "needs_background": "light"
     },
     "output_type": "display_data"
    }
   ],
   "source": [
    "loss_history_valid = compute_loss_history(w_history,valid_X[0:1000,:],valid_y[0:1000],reg)\n",
    "\n",
    "plt.plot(loss_history, color='r')\n",
    "plt.plot(loss_history_valid, color='b') \n",
    "plt.ylim(0,5)\n",
    "plt.xlabel('iterations')\n",
    "plt.ylabel('loss')\n",
    "plt.title('iterative learning curve')\n",
    "plt.legend(['train', 'valid'])\n",
    "plt.ylim(-0.2,3)\n",
    "plt.show()    "
   ]
  },
  {
   "cell_type": "markdown",
   "metadata": {},
   "source": [
    "模型参数矩阵 𝑊 是一个 𝑛×𝐶 矩阵，其每一列对应一个类似逻辑回归的分类器，该列的权值用于从数据中提取能判断数据中和该类相关的特征。对于MNIST图像分类的模型参数 𝑊 ，可将其某一列（对应某个分类）的784大小的权重参数以图像形式显示出来。如下面的代码显示第0列（对应数字0的那个类）的权重参数，将这列向量转化为 28×28 大小的图像矩阵："
   ]
  },
  {
   "cell_type": "code",
   "execution_count": 52,
   "metadata": {},
   "outputs": [
    {
     "data": {
      "image/png": "[encoded data removed]",
      "text/plain": [
       "<Figure size 432x288 with 1 Axes>"
      ]
     },
     "metadata": {
      "needs_background": "light"
     },
     "output_type": "display_data"
    }
   ],
   "source": [
    "c = 0\n",
    "plt.imshow(w[1:,c].reshape((28,28)))\n",
    "plt.show()"
   ]
  },
  {
   "cell_type": "markdown",
   "metadata": {},
   "source": [
    "Fasion MNIST训练集的softmax回归"
   ]
  },
  {
   "cell_type": "code",
   "execution_count": 55,
   "metadata": {},
   "outputs": [
    {
     "name": "stdout",
     "output_type": "stream",
     "text": [
      "(60000, 784) (60000,)\n",
      "uint8 uint8\n"
     ]
    }
   ],
   "source": [
    "import mnist_reader\n",
    "X_train, y_train = mnist_reader.load_mnist('data/fashion', kind='train')\n",
    "X_test, y_test = mnist_reader.load_mnist('data/fashion', kind='t10k')\n",
    "print(X_train.shape,y_train.shape)\n",
    "print(X_train.dtype,y_train.dtype)"
   ]
  },
  {
   "cell_type": "markdown",
   "metadata": {},
   "source": [
    "显示其中的一些图像："
   ]
  },
  {
   "cell_type": "code",
   "execution_count": 56,
   "metadata": {},
   "outputs": [
    {
     "name": "stdout",
     "output_type": "stream",
     "text": [
      "(60000, 28, 28)\n"
     ]
    },
    {
     "data": {
      "image/png": "[encoded data removed]",
      "text/plain": [
       "<Figure size 432x288 with 9 Axes>"
      ]
     },
     "metadata": {
      "needs_background": "light"
     },
     "output_type": "display_data"
    }
   ],
   "source": [
    "from matplotlib import pyplot\n",
    "trainX = X_train.reshape(-1,28,28)\n",
    "print(trainX.shape)\n",
    "#lot first few images\n",
    "for i in range(9):\n",
    "    # define subplot\n",
    "    pyplot.subplot(330 + 1 + i)\n",
    "    # plot raw pixel data\n",
    "    pyplot.imshow(trainX[i], cmap=pyplot.get_cmap('gray'))\n",
    "# show the figure\n",
    "pyplot.show()"
   ]
  },
  {
   "cell_type": "code",
   "execution_count": 57,
   "metadata": {},
   "outputs": [
    {
     "name": "stdout",
     "output_type": "stream",
     "text": [
      "(60000, 784) (60000,)\n",
      "(10000, 784) (10000,)\n",
      "float32 uint8\n",
      "0.2829032\n",
      "0.29028687\n"
     ]
    }
   ],
   "source": [
    "train_X = X_train.astype('float32')/255.0\n",
    "test_X = X_test.astype('float32')/255.0\n",
    "print(train_X.shape,y_train.shape)\n",
    "print(test_X.shape,y_test.shape)\n",
    "print(test_X.dtype,y_test.dtype)\n",
    "print(np.mean(train_X[0:1000,:]))\n",
    "print(np.mean(test_X[0:1000,:]))\n",
    "train_y = y_train"
   ]
  },
  {
   "cell_type": "code",
   "execution_count": 58,
   "metadata": {},
   "outputs": [
    {
     "data": {
      "text/plain": [
       "10"
      ]
     },
     "execution_count": 58,
     "metadata": {},
     "output_type": "execute_result"
    }
   ],
   "source": [
    "len(np.unique(train_y))"
   ]
  },
  {
   "cell_type": "code",
   "execution_count": 59,
   "metadata": {},
   "outputs": [
    {
     "name": "stdout",
     "output_type": "stream",
     "text": [
      "w:  [[ 7.13872271e-02 -6.25326773e-02 -7.78654011e-02 ... -6.73204510e-02\n",
      "  -2.25992186e-01 -3.96112186e-01]\n",
      " [-1.39405080e-05 -3.38717194e-06 -1.81418678e-05 ... -1.26165734e-06\n",
      "  -4.97543204e-06 -1.66549973e-06]\n",
      " [ 1.27561238e-04 -2.00792089e-06 -4.44557588e-06 ... -7.95648528e-06\n",
      "  -5.68093074e-05 -2.09169948e-05]\n",
      " ...\n",
      " [-1.37307415e-02 -1.60786537e-03  1.83036097e-02 ... -4.47168080e-03\n",
      "  -1.36509944e-02 -2.70972393e-03]\n",
      " [-4.61674182e-03 -3.50748604e-04  3.85299716e-03 ... -1.58283627e-03\n",
      "  -5.53167732e-03 -1.48483069e-04]\n",
      " [-2.10709303e-04 -1.07533380e-04  7.93387181e-04 ... -1.84603646e-04\n",
      "  -8.60373296e-04  1.02873073e-04]]\n",
      "[2.2761396889046304, 0.7964752797732344, 0.6907536377516504, 0.6407071871107026, 0.615104492285584, 0.5934714313862737, 0.5762885729260426, 0.5647093666411506, 0.5580982571652005, 0.5463751608858817]\n"
     ]
    }
   ],
   "source": [
    "import matplotlib.pyplot as plt\n",
    "%matplotlib inline\n",
    "\n",
    "batchsize = 50\n",
    "epochs = 5\n",
    "shuffle = True\n",
    "alpha = 0.01\n",
    "reg = 1e-3\n",
    "gamma = 0.8\n",
    "\n",
    "w = np.zeros([train_X.shape[1]+1,len(np.unique(train_y))])   \n",
    "w_history = batch_gradient_descent_softmax(w,train_X,train_y,epochs,batchsize,\n",
    "                                                shuffle,reg,alpha,gamma)\n",
    "w = w_history[-1]\n",
    "print(\"w: \",w)\n",
    "X,y = train_X[0:1000,:],train_y[0:1000]\n",
    "loss_history = compute_loss_history(w_history,X,y,reg)\n",
    "print(loss_history[:-1:len(loss_history)//10])"
   ]
  },
  {
   "cell_type": "code",
   "execution_count": 60,
   "metadata": {},
   "outputs": [
    {
     "data": {
      "text/plain": [
       "[<matplotlib.lines.Line2D at 0x233bdeb1490>]"
      ]
     },
     "execution_count": 60,
     "metadata": {},
     "output_type": "execute_result"
    },
    {
     "data": {
      "image/png": "[encoded data removed]",
      "text/plain": [
       "<Figure size 432x288 with 1 Axes>"
      ]
     },
     "metadata": {
      "needs_background": "light"
     },
     "output_type": "display_data"
    }
   ],
   "source": [
    "plt.plot(loss_history)"
   ]
  },
  {
   "cell_type": "code",
   "execution_count": 61,
   "metadata": {},
   "outputs": [
    {
     "data": {
      "image/png": "[encoded data removed]",
      "text/plain": [
       "<Figure size 432x288 with 1 Axes>"
      ]
     },
     "metadata": {
      "needs_background": "light"
     },
     "output_type": "display_data"
    }
   ],
   "source": [
    "loss_history_valid = compute_loss_history(w_history,test_X[0:1000,:],test_y[0:1000],reg)\n",
    "\n",
    "plt.plot(loss_history, color='r')\n",
    "plt.plot(loss_history_valid, color='b') \n",
    "plt.ylim(0,5)\n",
    "plt.xlabel('iterations')\n",
    "plt.ylabel('loss')\n",
    "plt.title('iterative learning curve')\n",
    "plt.legend(['train', 'valid'])\n",
    "plt.ylim(-0.2,3)\n",
    "plt.show()  "
   ]
  },
  {
   "cell_type": "code",
   "execution_count": 62,
   "metadata": {},
   "outputs": [
    {
     "name": "stdout",
     "output_type": "stream",
     "text": [
      "训练集的准确性： 0.82795\n",
      "测试集的准确性： 0.0997\n"
     ]
    }
   ],
   "source": [
    "print(\"训练集的准确性：\",getAccuracy(w,train_X,train_y))\n",
    "print(\"测试集的准确性：\",getAccuracy(w,test_X,test_y))"
   ]
  },
  {
   "cell_type": "markdown",
   "metadata": {},
   "source": [
    "### 3.7.4 随机梯度下降法\n",
    "\n",
    "批梯度下降法每次迭代只用一小批样本，而随机梯度下降法更加极端，每次迭代只用一个样本。因此，要执行随机梯度下降，只要将上述代码中调用批梯度下降法前将批大小batchsize修改为1，即每次只用一个样本更新模型参数，为了节省训练时间，将epochs改为2次："
   ]
  },
  {
   "cell_type": "code",
   "execution_count": 63,
   "metadata": {},
   "outputs": [
    {
     "name": "stdout",
     "output_type": "stream",
     "text": [
      "w:  [[ 3.43980083e-01 -3.82689114e-01 -7.55376465e-02 ... -4.76886905e-02\n",
      "  -4.25716194e-01 -1.09449897e+00]\n",
      " [-1.86327347e-04 -8.12335257e-06 -1.44934912e-04 ... -1.14782815e-06\n",
      "  -5.92479477e-05 -5.37628266e-06]\n",
      " [ 7.51956062e-04 -7.79895436e-07 -5.96445960e-06 ... -1.39582421e-05\n",
      "  -6.60711501e-04 -2.38648043e-05]\n",
      " ...\n",
      " [-4.42026477e-02 -7.47829152e-03  7.41820965e-02 ... -8.84571836e-03\n",
      "  -7.05771139e-02 -3.17087510e-03]\n",
      " [-2.04871398e-02 -9.44509010e-04  2.08531136e-02 ... -2.77501709e-03\n",
      "  -3.71061063e-02  4.02894187e-03]\n",
      " [-8.15255742e-04 -5.30418756e-04  4.76885923e-03 ... -7.14505216e-04\n",
      "  -4.01528037e-03  1.51593039e-03]]\n"
     ]
    }
   ],
   "source": [
    "batchsize=1\n",
    "epochs = 2\n",
    "w = np.zeros([train_X.shape[1]+1,len(np.unique(train_y))])   \n",
    "w_history = batch_gradient_descent_softmax(w,train_X,train_y,epochs,batchsize,\n",
    "                                                shuffle,reg,alpha,gamma)\n",
    "w = w_history[-1]\n",
    "print(\"w: \",w)"
   ]
  },
  {
   "cell_type": "code",
   "execution_count": 64,
   "metadata": {},
   "outputs": [
    {
     "name": "stdout",
     "output_type": "stream",
     "text": [
      "训练集的准确性： 0.8041166666666667\n",
      "测试集的准确性： 0.785\n"
     ]
    }
   ],
   "source": [
    "print(\"训练集的准确性：\",getAccuracy(w,train_X,train_y))\n",
    "print(\"测试集的准确性：\",getAccuracy(w,test_X,y_test))"
   ]
  },
  {
   "cell_type": "code",
   "execution_count": null,
   "metadata": {},
   "outputs": [],
   "source": []
  }
 ],
 "metadata": {
  "kernelspec": {
   "display_name": "Python 3",
   "language": "python",
   "name": "python3"
  },
  "language_info": {
   "codemirror_mode": {
    "name": "ipython",
    "version": 3
   },
   "file_extension": ".py",
   "mimetype": "text/x-python",
   "name": "python",
   "nbconvert_exporter": "python",
   "pygments_lexer": "ipython3",
   "version": "3.8.2"
  }
 },
 "nbformat": 4,
 "nbformat_minor": 4
}
