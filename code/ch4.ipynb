{
 "cells": [
  {
   "cell_type": "markdown",
   "metadata": {},
   "source": [
    "本书配套视频课程：[解剖深度学习原理，从0实现深度学习库](https://ke.qq.com/course/2900371?tuin=ac5537fd) \n",
    "\n",
    "更多代码或学习资料将向购买视频课程或书的学生提供。\n",
    "\n",
    "\n",
    "+ 博客网站：[https://hwdong-net.github.io](https://hwdong-net.github.io)\n",
    "+ youtube频道: [hwdong](http://www.youtube.com/c/hwdong)\n",
    "+ bilibili网站：[hw-dong](https://space.bilibili.com/281453312)\n",
    "\n",
    "# 第4章 神经网络\n",
    "\n",
    "## 4.1 神经网络（Neural Network）\n",
    "\n",
    "### 4.1.2 激活函数\n",
    "\n",
    "#### 1.  阶跃函数sign(x)"
   ]
  },
  {
   "cell_type": "code",
   "execution_count": null,
   "metadata": {},
   "outputs": [],
   "source": [
    "def sign(x):\n",
    "    return np.array(x > 0, dtype=np.int)\n",
    "\n",
    "def grad_sign(x):\n",
    "    return np.zeros_like(x)"
   ]
  },
  {
   "cell_type": "code",
   "execution_count": null,
   "metadata": {},
   "outputs": [],
   "source": [
    "import numpy as np\n",
    "import matplotlib.pylab as plt\n",
    "%matplotlib inline\n",
    "\n",
    "x = np.arange(-5.0,5.0, 0.1)\n",
    "plt.ylim(-0.1, 1.1) # 指定y轴的范围\n",
    "plt.plot(x, sign(x),label=\"sigmoid\")\n",
    "plt.plot(x, grad_sign(x),label=\"derivative\")\n",
    "plt.legend(loc=\"upper right\", frameon=False)\n",
    "plt.show()"
   ]
  },
  {
   "cell_type": "markdown",
   "metadata": {},
   "source": [
    "#### 2. tanh函数\n",
    "\n",
    "tanh函数：\n",
    "\n",
    "$$tanh(x)=(e^x-e^{-x})/(e^x+e^{-x})\\tag{4-5}$$\n",
    "\n",
    "它的导函数是：\n",
    "\n",
    "$$\\begin{aligned}tanh'(x)&=[(e^x+e^{-x})(e^x+e^{-x})-(e^x-e^{-x})(e^x-e^{-x})]/(e^x+e^{-x})^2\\\\&=1-((e^x-e^{-x})^2)/(e^x+e^{-x})^2=1-tanh^2(x) \\end{aligned}\\tag{4-6}$$\n",
    "\n",
    "numpy提供了计算tanh的计算函数tanh()，下面代码计算tanh'(x)，并绘制tanh(x)和tanh'(x)的函数曲线："
   ]
  },
  {
   "cell_type": "code",
   "execution_count": null,
   "metadata": {},
   "outputs": [],
   "source": [
    "def grad_tanh(x):\n",
    "    a = np.tanh(x)\n",
    "    return 1 - a**2"
   ]
  },
  {
   "cell_type": "code",
   "execution_count": null,
   "metadata": {},
   "outputs": [],
   "source": [
    "x = np.arange(-5.0, 5.0, 0.1)\n",
    "plt.plot(x, np.tanh(x),label=\"tanh\")\n",
    "plt.plot(x, grad_tanh(x),label=\"derivative\")\n",
    "plt.legend(loc=\"upper right\", frameon=False)\n",
    "plt.show()"
   ]
  },
  {
   "cell_type": "markdown",
   "metadata": {},
   "source": [
    "#### 4. ReLU函数\n",
    "\n",
    "ReLU函数f(x)在x大于0 时，直接输出x，否则，输出0：\n",
    "\n",
    "$$Relu(x)= \\begin{cases} x &  (x > 0)\\\\\n",
    "          0 & (x \\leq 0)\\end{cases}  \\tag{4-7}$$\n",
    "          \n",
    "其导数：\n",
    "\n",
    "$$Relu'(x)= \\begin{cases} 1 &  (x > 0)\\\\\n",
    "          0 & (x \\leq 0)\\end{cases}\\tag{4-8}$$\n",
    "\n",
    "下面代码计算Relu(x),Relu'(x)，并绘制Relu(x),Relu'(x)的函数曲线："
   ]
  },
  {
   "cell_type": "code",
   "execution_count": null,
   "metadata": {},
   "outputs": [],
   "source": [
    "def relu(x):\n",
    "    return np.maximum(0, x)\n",
    "def grad_relu(x):\n",
    "    return 1. * (x > 0)\n",
    "\n",
    "x = np.arange(-5.0, 5.0, 0.1)\n",
    "plt.plot(x, relu(x),label=\"relu\")\n",
    "plt.plot(x, grad_relu(x),label=\"derivative\")\n",
    "plt.legend(loc=\"upper right\", frameon=False)\n",
    "plt.show()"
   ]
  },
  {
   "cell_type": "markdown",
   "metadata": {},
   "source": [
    "Relu函数还有一些变种，如LeakRelu函数：\n",
    "\n",
    "$$LeakRelu(x)= \\begin{cases} x &  (x > 0)\\\\\n",
    "          kx & (x \\leq 0)\\end{cases}  \\tag{4-9}$$\n",
    "          \n",
    "其导数：\n",
    "\n",
    "$$LeakRelu'(x)= \\begin{cases} 1 &  (x > 0)\\\\\n",
    "          k & (x \\leq 0)\\end{cases}\\tag{4-10}$$\n",
    "\n",
    "下面代码计算$LeakRelu(x),LeakRelu'(x)$，并绘制$LeakRelu(x),LeakRelu'(x)$的函数曲线："
   ]
  },
  {
   "cell_type": "code",
   "execution_count": null,
   "metadata": {},
   "outputs": [],
   "source": [
    "import numpy as np\n",
    "def leakRelu(x,k=0.2):\n",
    "    y = np.copy( x )\n",
    "    y[ y < 0 ] *= k        \n",
    "    return y\n",
    "\n",
    "def grad_leakRelu(x,k=0.2):\n",
    "    return np.clip(x > 0, k, 1.0)\n",
    "    grad = np.ones_like(x)\n",
    "    grad[x < 0] = alpha\n",
    "    return grad\n",
    "  \n",
    "x = np.arange(-5.0, 5.0, 0.1)\n",
    "plt.plot(x, leakRelu(x),label=\"leakrelu\")\n",
    "plt.plot(x, grad_leakRelu(x),label=\"derivative\")\n",
    "plt.legend(loc=\"upper right\", frameon=False)\n",
    "plt.show()"
   ]
  },
  {
   "cell_type": "markdown",
   "metadata": {},
   "source": [
    "### 4.1.3 神经网络和深度学习\n",
    "\n",
    "神经网络的正向计算（前向传播）可用下面的python代码实现"
   ]
  },
  {
   "cell_type": "code",
   "execution_count": null,
   "metadata": {},
   "outputs": [],
   "source": [
    "import numpy as np\n",
    "\n",
    "def sigmoid(x):\n",
    "    return 1 / (1 + np.exp(-x))\n",
    "\n",
    "g1 = sigmoid\n",
    "\n",
    "g2 = sigmoid\n",
    "\n",
    "# x和W1,b1\n",
    "x = np.array([1.0, 0.5])              # 输入x： 1x2行向量\n",
    "W1 = np.array([[0.1, 0.3,0.5,0.2],\n",
    "               [0.4,0.6,0.7, 0.1]])   # W1 ： 2x4矩阵\n",
    "b1 = np.array([0.1, 0.2, 0.3,0.4])    # 偏置b1： 1x4行向量\n",
    "print(\"x.shape\",x.shape)                        # (2,)\n",
    "print(\"W1.shape\",W1.shape)                       # (2, 4)\n",
    "print(\"b1.shape\",b1.shape)                       # (4,)\n",
    "\n",
    "# 从输入x和W1,b1计算z1和a1的值\n",
    "z1 = np.dot(x,W1) + b1                # (1,4)\n",
    "a1 = g1(z1)                      # (1,4)\n",
    "print(\"z1\",z1)                             # (4,)\n",
    "print(\"a1\",a1) \n",
    "\n",
    "# a1、W2,b2\n",
    "W2 = np.array([[0.1, 1.4,0.2],[2.5, 0.6, 0.3],[1.1,0.7,0.8],[0.3,1.5,2.1]])\n",
    "b2 = np.array([0.1, 2,0.3])\n",
    "print(\"a2.shape\",a1.shape) # (4,)\n",
    "print(\"W2.shape\",W2.shape) # (2, 4)\n",
    "print(\"b2.shape\",b2.shape) # (2,)\n",
    "\n",
    "# 从a1、W2,b2计算z2和a2的值\n",
    "z2 = np.dot(a1,W2) + b2\n",
    "a2 = g2(z2)\n",
    "print(\"z2\",z2)\n",
    "print(\"a2\",a2)"
   ]
  },
  {
   "cell_type": "markdown",
   "metadata": {},
   "source": [
    "###  4.1.4 多个样本的正向计算\n"
   ]
  },
  {
   "cell_type": "code",
   "execution_count": null,
   "metadata": {},
   "outputs": [],
   "source": [
    "X = np.array([[1.0, 2.],[3.0,4.0]])\n",
    "W1 = np.array([[0.1, 0.3,0.5,0.2],\n",
    "               [0.4,0.6,0.7, 0.1]])   # W1 ： 2x4矩阵\n",
    "b1 = np.array([0.1, 0.2, 0.3,0.4])    # 偏置b1： 1x4行向量\n",
    "\n",
    "print(\"X.shape\",X.shape) # (2,2)\n",
    "print(\"W1.shape\",W1.shape) # (2, 4)\n",
    "print(\"b1.shape\",b1.shape) # (4,)\n",
    "\n",
    "# 计算第1层的Z1,A1\n",
    "Z1 = np.dot(X,W1) + b1\n",
    "A1 = sigmoid(Z1)\n",
    "print(\"Z1:\",Z1)\n",
    "print(\"A1:\",A1)\n",
    "\n",
    "W2 = np.array([[0.1, 1.4,0.2],[2.5, 0.6, 0.3],[1.1,0.7,0.8],[0.3,1.5,2.1]])\n",
    "b2 = np.array([0.1, 2,0.3])\n",
    "print(\"A1.shape\",A1.shape) # (2,)\n",
    "print(\"W2.shape\",W2.shape) # (4, 2)\n",
    "print(\"b2.shape\",b2.shape) # (4,)\n",
    "\n",
    "# 计算第1层的Z2,A2\n",
    "Z2 = np.dot(A1,W2) + b2\n",
    "A2 = sigmoid(Z2)\n",
    "print(\"Z2:\",Z2)\n",
    "print(\"A2:\",A2)"
   ]
  },
  {
   "cell_type": "markdown",
   "metadata": {},
   "source": [
    "### 4.1.6 损失函数\n",
    "\n",
    "#### 1. 均方差损失\n",
    "\n",
    "对于一个样本$(\\pmb f^{(i)},\\pmb y^{(i)} )$，$\\frac{1}{2}{{\\|(\\pmb f^{(i)}-\\pmb y^{(i)} \\|}_2}^2$的计算代码如下："
   ]
  },
  {
   "cell_type": "code",
   "execution_count": null,
   "metadata": {},
   "outputs": [],
   "source": [
    "import numpy as np\n",
    "f = np.array([0.1, 0.2,0.5])\n",
    "y = np.array([0.3, 0.4,0.2])\n",
    "loss =  np.sum((f - y) ** 2)/2 \n",
    "print(loss)"
   ]
  },
  {
   "cell_type": "markdown",
   "metadata": {},
   "source": [
    "对于多个样本，$\\mathcal L(\\pmb F,\\pmb Y)= \\frac{1}{2m}{{\\|(\\pmb f^{(i)}-\\pmb y^{(i)} \\|}_2}^2$可用如下代码计算："
   ]
  },
  {
   "cell_type": "code",
   "execution_count": 64,
   "metadata": {},
   "outputs": [
    {
     "name": "stdout",
     "output_type": "stream",
     "text": [
      "0.08499999999999999\n"
     ]
    }
   ],
   "source": [
    "F = np.array([[0.1, 0.2,0.5],[0.1, 0.2,0.5]])\n",
    "Y = np.array([[0.3, 0.4,0.2],[0.3, 0.4,0.2]])\n",
    "\n",
    "m = F.shape[0] #len(F)\n",
    "loss =  np.sum((F - Y) ** 2)/(2*m)\n",
    "# loss = (np.square(H-Y)).mean() \n",
    "print(loss)"
   ]
  },
  {
   "cell_type": "code",
   "execution_count": null,
   "metadata": {},
   "outputs": [],
   "source": [
    "可以将均方差写成一个函数："
   ]
  },
  {
   "cell_type": "code",
   "execution_count": 6,
   "metadata": {},
   "outputs": [
    {
     "ename": "NameError",
     "evalue": "name 'F' is not defined",
     "output_type": "error",
     "traceback": [
      "\u001b[1;31m---------------------------------------------------------------------------\u001b[0m",
      "\u001b[1;31mNameError\u001b[0m                                 Traceback (most recent call last)",
      "\u001b[1;32m<ipython-input-6-c4972a9dfba5>\u001b[0m in \u001b[0;36m<module>\u001b[1;34m\u001b[0m\n\u001b[0;32m      6\u001b[0m     \u001b[1;32mreturn\u001b[0m \u001b[0mloss\u001b[0m\u001b[1;33m\u001b[0m\u001b[1;33m\u001b[0m\u001b[0m\n\u001b[0;32m      7\u001b[0m \u001b[1;33m\u001b[0m\u001b[0m\n\u001b[1;32m----> 8\u001b[1;33m \u001b[0mmse_loss\u001b[0m\u001b[1;33m(\u001b[0m\u001b[0mF\u001b[0m\u001b[1;33m,\u001b[0m\u001b[0mY\u001b[0m\u001b[1;33m,\u001b[0m\u001b[1;32mTrue\u001b[0m\u001b[1;33m)\u001b[0m\u001b[1;33m\u001b[0m\u001b[1;33m\u001b[0m\u001b[0m\n\u001b[0m",
      "\u001b[1;31mNameError\u001b[0m: name 'F' is not defined"
     ]
    }
   ],
   "source": [
    "def mse_loss(F,Y,divid_2=False):\n",
    "    m = F.shape[0]\n",
    "    loss =  np.sum((F - Y) ** 2)/m\n",
    "    if divid_2:\n",
    "        loss/=2\n",
    "    return loss\n",
    "\n",
    "mse_loss(F,Y,True)"
   ]
  },
  {
   "cell_type": "markdown",
   "metadata": {},
   "source": [
    "#### 2. 二分类交叉熵损失\n",
    "\n",
    "对于二分类问题，输出层只有一个逻辑回归的神经元，输出一个样本属于某个分类（如类别1）的概率，所有样本的概率输出构成一个向量$\\pmb f$，训练样本的目标值用1或0表示样本属于哪个分类。所有样本的目标值构成的向量用$\\pmb y$表示。则交叉熵损失是：\n",
    "\n",
    "$$\\begin{aligned}\n",
    "L(\\pmb f,\\pmb y) = \\frac{1}{m} \\sum_{i=1}^m L_i( {y}^{(i)}, {f}^{(i)}) = -\\frac{1}{m} \\sum_{i=1}^{m} \\left[  y^{(i)} \\log(f^{(i)}) + (1- y^{(i)})\\log(1- f^{(i)}) \\right] \\\\\n",
    " = -\\frac{1}{m}np.sum (\\pmb y \\log{\\pmb f} +(1-\\pmb y) \\log(1-\\pmb f))\n",
    "\\end{aligned}  \\tag{4-30}$$\n",
    "\n",
    "其中$y^{(i)}$值为1或0，表示样本所属的类别，$f^{(i)}$表示样本属于值为1的类别的概率。\n",
    "\n",
    "二分类交叉熵损失可用下面的代码计算。\n",
    "```python\n",
    "- (1./m)*np.sum(np.multiply(y,np.log(f)) + np.multiply((1 - y), np.log(1 - f)))\n",
    "```\n",
    "例如："
   ]
  },
  {
   "cell_type": "code",
   "execution_count": null,
   "metadata": {},
   "outputs": [],
   "source": [
    "f = np.array([0.1, 0.2,0.5])   #3个样本对应分类1的概率\n",
    "y = np.array([0,   1,   0])   #3个样本对应的分类\n",
    "m = y.shape[0]\n",
    "\n",
    "loss = - (1./m)*np.sum(np.multiply(y,np.log(f)) + np.multiply((1 - y), np.log(1 - f)))\n",
    "print(loss)  "
   ]
  },
  {
   "cell_type": "markdown",
   "metadata": {},
   "source": [
    "为防止f或1-f出现0值导致log()函数值异常，可以在计算对数中，增加一个很小的量 𝜖 ，因此可以编写下面的二分类交叉熵损失函数"
   ]
  },
  {
   "cell_type": "code",
   "execution_count": null,
   "metadata": {},
   "outputs": [],
   "source": [
    "def binary_cross_entropy(f,y,epsilon = 1e-8):\n",
    "    #np.sum(y*np.log(f+epsilon)+ (1-y)*np.log(1-f+epsilon), axis=1)   \n",
    "    m = len(y)\n",
    "    return - (1./m)*np.sum(np.multiply(y,np.log(f+epsilon)) + \n",
    "                           np.multiply((1 - y), np.log(1 - f+epsilon)))    \n",
    "\n",
    "binary_cross_entropy(f,y)"
   ]
  },
  {
   "cell_type": "markdown",
   "metadata": {},
   "source": [
    "3. 多分类交叉熵损失\n",
    "\n",
    "上述是针对二分类问题的交叉熵损失， 可以推广到超过2类的多分类问题，$f^{(i)}_c$表示第i个样本属于第c个类别的概率，$y^{(i)}_c$用1或0值第i个样本是否属于类别c，即用one-hot向量$y^{(i)}$表示样本目标值。根据第3章的softmax回归，可知多个样本的交叉熵损失如下：\n",
    "\n",
    "$${L}(\\pmb f,\\pmb y)= \\frac{1}{m}  \\sum_{i=1}^m {L}_i(\\mathbf{y}^{(i)},\\mathbf{f}^{(i)}) = -\\frac{1}{m} \\sum_{i=1}^m \\sum_{c=1}^{C} y^{(i)}_c \\cdot \\log( f^{(i)}_c )= -\\frac{1}{m} \\sum_{i=1}^m y^{(i)} \\cdot \\log( f^{(i)}) \\tag{4-31}$$\n",
    "\n",
    "如果所有样本的目标值都采用的是one-hot向量，根据第3章，对于m个样本，可以将${\\mathcal L}(\\pmb {f},\\pmb{y})$写成向量化的Hadamard乘积：\n",
    "\n",
    "$${\\mathcal L}(\\pmb {f},\\pmb{y})= -\\frac{1}{m}sum( \\mathbf{y} \\odot \\log(\\mathbf{f}))\\tag{4-32}$$\n",
    "\n",
    "用numpy代码可写成： \n",
    "```\n",
    "-(1./m)*np.sum(np.multiply(y, np.log(f)))\n",
    "```"
   ]
  },
  {
   "cell_type": "code",
   "execution_count": null,
   "metadata": {},
   "outputs": [],
   "source": [
    "def cross_entropy_loss_onehot(F,Y):\n",
    "    m = len(F)  #F.shape[0] \n",
    "    return -(1./m) *np.sum(np.multiply(Y, np.log(F)))\n",
    "\n",
    "F = np.array([[0.2,0.5,0.3],[0.4,0.3,0.3]])\n",
    "Y = np.array([[0,0,1],[1,0,0]])\n",
    "cross_entropy_loss_onehot(F,Y)"
   ]
  },
  {
   "cell_type": "markdown",
   "metadata": {},
   "source": [
    "如果每个样本的目标值不是用one-hot向量表示的，而是用一个整数表示该样本属于哪个分类。对于C分类问题，这些整数值是$0,1,2,\\cdots,C-1$用于表示样本属于哪个类，如用一个整数如2表示样本属于第3类。此时该样本的交叉熵损失就是$f^{(i)}$的对应分量（即下标2对应的分类$f^{(i)}_2$）的负log值，即$-log f^{(i)}_2$。\n",
    "\n",
    "对于整数表示样本的目标分类，多分类交叉熵损失为：\n",
    "\n",
    "$${\\mathcal L}(\\pmb f,\\pmb y)= \\frac{1}{m}  \\sum_{i=1}^m {L}_i(\\pmb{y}^{(i)},\\pmb{f}^{(i)}) =  -\\frac{1}{m} \\sum_{i=1}^m  \\log( f^{(i)}_{y^{(i)}}) \\tag{4-33}$$\n",
    "\n",
    "其中$y^{(i)}$表示第i个样本所属分类对应的整数值（下标）。\n",
    "\n",
    "因此，可以定义如下的多分类交叉熵计算函数："
   ]
  },
  {
   "cell_type": "code",
   "execution_count": 7,
   "metadata": {},
   "outputs": [],
   "source": [
    "def cross_entropy_loss(F,Y,onehot=False):\n",
    "    m = len(F) #F.shape[0]      #样本数\n",
    "    if onehot:\n",
    "        return -(1./m) *np.sum(np.multiply(Y, np.log(F)))\n",
    "    else: return  - (1./m) *np.sum( np.log(F[range(m),Y]) )  # F[i]中对应Y[i]的那个分类的log值   "
   ]
  },
  {
   "cell_type": "code",
   "execution_count": null,
   "metadata": {},
   "outputs": [],
   "source": [
    "F = np.array([[0.2,0.5,0.3],[0.4,0.3,0.3]])  #每行对应一个样本\n",
    "Y = np.array([2,0])  #第1个样本属于第2类、第2个样本属于第0类\n",
    "\n",
    "cross_entropy_loss(F,Y)"
   ]
  },
  {
   "cell_type": "markdown",
   "metadata": {},
   "source": [
    "### 4.1.7 基于数值梯度的神经网络训练"
   ]
  },
  {
   "cell_type": "code",
   "execution_count": null,
   "metadata": {},
   "outputs": [],
   "source": [
    "import numpy as np\n",
    "\n",
    "def initialize_parameters(n_x, n_h, n_o):\n",
    "    np.random.seed(2)            # 固定种子，使得每次运行这个代码的随机数的值总是同样的   \n",
    "  \n",
    "    W1 = np.random.randn(n_x,n_h)* 0.01\n",
    "    b1 = np.zeros((1,n_h))\n",
    "    W2 = np.random.randn(n_h,n_o) * 0.01\n",
    "    b2 = np.zeros((1,n_o))\n",
    "   \n",
    "    assert (W1.shape == (n_x, n_h))\n",
    "    assert (b1.shape == (1, n_h))\n",
    "    assert (W2.shape == (n_h, n_o))\n",
    "    assert (b2.shape == (1, n_o))\n",
    "    \n",
    "    parameters = [W1,b1,W2,b2]\n",
    "    return parameters"
   ]
  },
  {
   "cell_type": "markdown",
   "metadata": {},
   "source": [
    "测试一下这个函数"
   ]
  },
  {
   "cell_type": "code",
   "execution_count": null,
   "metadata": {},
   "outputs": [],
   "source": [
    "n_x, n_h, n_o = 2,4,3\n",
    "parameters = initialize_parameters(n_x, n_h, n_o)\n",
    "print(\"W1 = \" + str(parameters[0]))\n",
    "print(\"b1 = \" + str(parameters[1]))\n",
    "print(\"W2 = \" + str(parameters[2]))\n",
    "print(\"b2 = \" + str(parameters[3]))"
   ]
  },
  {
   "cell_type": "markdown",
   "metadata": {},
   "source": [
    "编写正向计算的函数forward_propagation(X, parameters)："
   ]
  },
  {
   "cell_type": "code",
   "execution_count": null,
   "metadata": {},
   "outputs": [],
   "source": [
    "def sigmoid(x):\n",
    "    return 1 / (1 + np.exp(-x))\n",
    "\n",
    "def forward_propagation(X, parameters):     \n",
    "    W1,b1,W2,b2 = parameters      \n",
    "   \n",
    "    Z1 = np.dot(X,W1) + b1    # Z1形状： (3,2)(2,4)+(1,4)=>(3,4)  \n",
    "    A1 = np.tanh(Z1)\n",
    "    Z2 = np.dot(A1,W2) + b2   # Z2形状： (3,4)(4,3)+(1,3)=>(3,3) \n",
    "    #A2 = sigmoid(Z2)  \n",
    "   \n",
    "    assert(Z2.shape == (X.shape[0],3))\n",
    "    return Z2"
   ]
  },
  {
   "cell_type": "markdown",
   "metadata": {},
   "source": [
    "测试一下这个函数："
   ]
  },
  {
   "cell_type": "code",
   "execution_count": null,
   "metadata": {},
   "outputs": [],
   "source": [
    "X = np.array([[1.,2.],[3.,4.],[5.,6.]])  #每行对应一个样本\n",
    "\n",
    "Z2 = forward_propagation(X, parameters)\n",
    "print(Z2)"
   ]
  },
  {
   "cell_type": "markdown",
   "metadata": {},
   "source": [
    "正向计算函数输出了属于每个类的得分$Z$，得分可用softmax()函数转化为属于每个类的概率，然后和真正目标值计算多分类交叉熵损失。函数softmax_cross_entropy()和函数softmax_cross_entropy_reg()根据输出得分值Z和真实值y计算交叉熵损失，后者包含了正则项损失（reg是正则项系数）。"
   ]
  },
  {
   "cell_type": "code",
   "execution_count": 22,
   "metadata": {},
   "outputs": [],
   "source": [
    "def softmax(Z):\n",
    "    exp_Z = np.exp(Z-np.max(Z,axis=1,keepdims=True))\n",
    "    return exp_Z/np.sum(exp_Z,axis=1,keepdims=True)\n",
    "\n",
    "def softmax_cross_entropy(Z, y, onehot=False):\n",
    "    m = len(Z)\n",
    "    F = softmax(Z)\n",
    "    if onehot:\n",
    "        loss = -np.sum(y*np.log(F))/m\n",
    "    else:\n",
    "        y.flatten()\n",
    "        log_Fy = -np.log(F[range(m),y])        \n",
    "        loss = np.sum(log_Fy) / m\n",
    "    return loss\n",
    "\n",
    "def softmax_cross_entropy_reg(Z, Y, parameters,onehot=False,reg=1e-3):\n",
    "    W1 = parameters[0]  \n",
    "    W2 = parameters[2]\n",
    "    L  = softmax_cross_entropy(Z,y,onehot)+ reg*(np.sum(W1**2)+np.sum(W2**2))    \n",
    "    assert(isinstance(L, float))    \n",
    "    return L"
   ]
  },
  {
   "cell_type": "code",
   "execution_count": null,
   "metadata": {},
   "outputs": [],
   "source": [
    "y = np.array([2,0,1])  #每行对应一个样本\n",
    "softmax_cross_entropy_reg(Z2,y,parameters)"
   ]
  },
  {
   "cell_type": "markdown",
   "metadata": {},
   "source": [
    "通常希望，输入一组数据X和对应的目标值y，神经网络能计算出损失函数值，因此，将正向计算和单独的交叉熵损失计算函数合并在一起："
   ]
  },
  {
   "cell_type": "code",
   "execution_count": null,
   "metadata": {},
   "outputs": [],
   "source": [
    "def compute_loss_reg(f,loss,X, Y, parameters,reg=1e-3):\n",
    "    Z2 = f(X,parameters)\n",
    "    return loss(Z2,y,parameters,reg)"
   ]
  },
  {
   "cell_type": "markdown",
   "metadata": {},
   "source": [
    "测试一下这个函数："
   ]
  },
  {
   "cell_type": "code",
   "execution_count": null,
   "metadata": {},
   "outputs": [],
   "source": [
    "reg  =1e-3\n",
    "compute_loss_reg(forward_propagation,softmax_cross_entropy_reg, X, y, parameters,reg)"
   ]
  },
  {
   "cell_type": "markdown",
   "metadata": {},
   "source": [
    "定义一个返回计算损失函数对象的函数f()，将它和模型参数传给2.4)节的通用数值梯度计算函数计算神经网络的数值梯度。"
   ]
  },
  {
   "cell_type": "code",
   "execution_count": null,
   "metadata": {},
   "outputs": [],
   "source": [
    "import util\n",
    "\n",
    "def f():\n",
    "    return compute_loss_reg(forward_propagation,softmax_cross_entropy_reg, X, y, parameters,reg)\n",
    "num_grads = util.numerical_gradient(f,parameters)\n",
    "print(num_grads[0])\n",
    "print(num_grads[3])"
   ]
  },
  {
   "cell_type": "markdown",
   "metadata": {},
   "source": [
    "现在可以修改前面的梯度下降法，训练神经网络模型了："
   ]
  },
  {
   "cell_type": "code",
   "execution_count": null,
   "metadata": {},
   "outputs": [],
   "source": [
    "def max_abs(grads):\n",
    "    return max([np.max(np.abs(grad)) for grad in grads])\n",
    "    \n",
    "def gradient_descent_ANN(f,X, y,parameters, reg=0., alpha=0.01, \n",
    "                         iterations=100,gamma = 0.8,epsilon=1e-8):   \n",
    "    losses = []\n",
    "    for i in range(0,iterations):\n",
    "        loss = f()\n",
    "        grads = util.numerical_gradient(f, parameters)      \n",
    "        if max_abs(grads)<epsilon:\n",
    "            print(\"gradient is small enough!\")\n",
    "            print(\"iterated num is :\",i)\n",
    "            break  \n",
    "        for param, grad in zip(parameters, grads):\n",
    "            param-=alpha * grad  \n",
    "            \n",
    "        losses.append(loss)\n",
    "    return parameters,losses"
   ]
  },
  {
   "cell_type": "markdown",
   "metadata": {},
   "source": [
    "现在再次测试前面的螺旋数据点集，为了说明完成的训练过程，重新将神经网络重新定义为中间隐含层的神经元数目为5。"
   ]
  },
  {
   "cell_type": "code",
   "execution_count": null,
   "metadata": {},
   "outputs": [],
   "source": [
    "import numpy as np\n",
    "import matplotlib.pyplot as plt\n",
    "%matplotlib inline\n",
    "\n",
    "np.random.seed(100)\n",
    "\n",
    "def gen_spiral_dataset(N=100,D=2,K=3):   \n",
    "    X = np.zeros((N*K,D)) # data matrix (each row = single example)\n",
    "    y = np.zeros(N*K, dtype='uint8') # class labels\n",
    "    for j in range(K):\n",
    "        ix = range(N*j,N*(j+1))\n",
    "        r = np.linspace(0.0,1,N) # radius\n",
    "        t = np.linspace(j*4,(j+1)*4,N) + np.random.randn(N)*0.2  # theta\n",
    "        X[ix] = np.c_[r*np.sin(t), r*np.cos(t)]\n",
    "        y[ix] = j\n",
    "    return X,y\n",
    "\n",
    "N,D,K = 100 ,2,3\n",
    "\n",
    "X_spiral,y_spiral = gen_spiral_dataset()\n",
    "plt.scatter(X_spiral[:, 0], X_spiral[:, 1], c=y_spiral, s=40, cmap=plt.cm.Spectral)\n",
    "plt.show()"
   ]
  },
  {
   "cell_type": "code",
   "execution_count": null,
   "metadata": {},
   "outputs": [],
   "source": [
    "X = X_spiral\n",
    "y = y_spiral\n",
    "n_x, n_h, n_o = 2,5,3\n",
    "parameters = initialize_parameters(n_x, n_h, n_o)\n",
    "alpha = 1e-0\n",
    "iterations  =1000\n",
    "lambda_ = 1e-3\n",
    "parameters,losses = gradient_descent_ANN(f,X,y,parameters,lambda_, alpha, iterations)\n",
    "for param in parameters:\n",
    "    print(param)\n",
    "print(losses[:-1:len(losses)//10])\n",
    "plt.plot(losses, color='r')"
   ]
  },
  {
   "cell_type": "markdown",
   "metadata": {},
   "source": [
    "下面的函数通过比较预测结果和目标值，计算模型在样本集 (𝑋,𝑦) 上的预测准确度："
   ]
  },
  {
   "cell_type": "code",
   "execution_count": null,
   "metadata": {},
   "outputs": [],
   "source": [
    "def getAccuracy(X,y,parameters):\n",
    "    predicts = forward_propagation(X,parameters)    \n",
    "    #probs = softmax(np.dot(X,w))\n",
    "    predicts = np.argmax(predicts,axis=1) \n",
    "    accuracy = sum(predicts == y)/(float(len(y)))\n",
    "    return accuracy"
   ]
  },
  {
   "cell_type": "code",
   "execution_count": null,
   "metadata": {},
   "outputs": [],
   "source": [
    "getAccuracy(X,y,parameters)"
   ]
  },
  {
   "cell_type": "markdown",
   "metadata": {},
   "source": [
    "模型在训练集上的预测准确度达到了0.943，而原来的softmax回归模型的预测准确度只有0.516。再次用类似前面的代码画出决策区域："
   ]
  },
  {
   "cell_type": "code",
   "execution_count": null,
   "metadata": {},
   "outputs": [],
   "source": [
    "# plot the resulting classifier\n",
    "h = 0.02\n",
    "x_min, x_max = X[:, 0].min() - 1, X[:, 0].max() + 1\n",
    "y_min, y_max = X[:, 1].min() - 1, X[:, 1].max() + 1\n",
    "xx, yy = np.meshgrid(np.arange(x_min, x_max, h),\n",
    "                     np.arange(y_min, y_max, h))\n",
    "\n",
    "XX = np.c_[xx.ravel(), yy.ravel()]\n",
    "Z = forward_propagation(XX,parameters)\n",
    "Z = np.argmax(Z, axis=1)\n",
    "Z = Z.reshape(xx.shape)\n",
    "fig = plt.figure()\n",
    "plt.contourf(xx, yy, Z, cmap=plt.cm.Spectral, alpha=0.3)\n",
    "plt.scatter(X[:, 0], X[:, 1], c=y, s=40, cmap=plt.cm.Spectral)\n",
    "plt.xlim(xx.min(), xx.max())\n",
    "plt.ylim(yy.min(), yy.max())\n",
    "#fig.savefig('spiral_linear.png')"
   ]
  },
  {
   "cell_type": "markdown",
   "metadata": {},
   "source": [
    "可以看到2层神经网络模型的决策曲线不再是直线而可以是任意弯曲的曲线。"
   ]
  },
  {
   "cell_type": "markdown",
   "metadata": {},
   "source": [
    "## 4.2 反向求导\n",
    "### 4.2.3 损失函数关于输出的梯度\n",
    "#### 1. 二分类交叉熵损失函数关于输出的梯度"
   ]
  },
  {
   "cell_type": "code",
   "execution_count": null,
   "metadata": {},
   "outputs": [],
   "source": [
    "import numpy as np\n",
    "def sigmoid(x):\n",
    "    return 1 / (1 + np.exp(-x))\n",
    "\n",
    "def binary_cross_entropy(f,y,epsilon = 1e-8):\n",
    "    #np.sum(y*np.log(f+epsilon)+ (1-y)*np.log(1-f+epsilon), axis=1)    \n",
    "    m = len(y)\n",
    "    return - (1./m)*np.sum(np.multiply(y,np.log(f+epsilon)) + np.multiply((1 - y), np.log(1 - f+epsilon)))\n",
    "\n",
    "def binary_cross_entropy_grad(out,y,sigmoid_out = True,epsilon = 1e-8):\n",
    "    if sigmoid_out:\n",
    "        f = out\n",
    "        grad = ((f-y)/(f*(1-f)+epsilon)  )/(len(y)) \n",
    "    else:\n",
    "        f = sigmoid(out) # out is z\n",
    "        grad = (f-y)/(len(y)) \n",
    "   \n",
    "\n",
    "def binary_cross_entropy_loss_grad(out,y,sigmoid_out = True,epsilon = 1e-8):     \n",
    "    if sigmoid_out: \n",
    "        f = out\n",
    "        grad = ((f-y)/(f*(1-f)+epsilon)  )/(len(y))         \n",
    "    else: \n",
    "        f = sigmoid(out) # out is z\n",
    "        grad = (f-y)/(len(y)) \n",
    "    loss = binary_cross_entropy(f,y,epsilon)\n",
    "    return loss,grad"
   ]
  },
  {
   "cell_type": "code",
   "execution_count": null,
   "metadata": {},
   "outputs": [],
   "source": [
    "z = np.array([-4, 5,2])   #3个样本对应分类的得分\n",
    "f = sigmoid(z)  #3个样本对应分类1的概率\n",
    "y = np.array([0,   1,   0])   #3个样本对应的分类\n",
    "\n",
    "loss,grad = binary_cross_entropy_loss_grad(z,y,False)\n",
    "print(loss,grad)\n",
    "loss,grad = binary_cross_entropy_loss_grad(f,y)\n",
    "print(loss,grad)"
   ]
  },
  {
   "cell_type": "markdown",
   "metadata": {},
   "source": [
    "#### 2. 均方差损失函数关于输出的梯度 \n",
    "对于多个样本构成的矩阵$\\pmb{F},\\pmb{Y}$，则均方差$L(\\pmb{F},\\pmb{Y}) = \\frac{1}{2m}\\sum_{i=1}^m{{\\|(\\pmb f^{(i)}-\\pmb y^{(i)} \\|}_2}^2$关于$\\pmb{F}$梯度就是 $\\frac{1}{m}(\\pmb{F}-\\pmb{Y})$。因为$\\pmb F=\\pmb Z$，即：\n",
    "\n",
    "$$\\frac{\\partial\\mathcal{L}}{\\partial{\\pmb Z}} = \\frac{\\partial\\mathcal{L}}{\\partial{\\pmb F}} = \\frac{1}{m}(\\pmb{F}-\\pmb{Y})\\tag{4-39}$$"
   ]
  },
  {
   "cell_type": "code",
   "execution_count": 5,
   "metadata": {},
   "outputs": [],
   "source": [
    "def mse_loss_grad(f,y):\n",
    "    m = len(f)\n",
    "    loss = (1./m)*np.sum((f-y)**2)# np.square(f-y))\n",
    "    grad = (2./m)*(f-y)\n",
    "    return loss,grad"
   ]
  },
  {
   "cell_type": "markdown",
   "metadata": {},
   "source": [
    "#### 3. 多分类的交叉熵损失函数关于输出的梯度 "
   ]
  },
  {
   "cell_type": "code",
   "execution_count": 27,
   "metadata": {},
   "outputs": [],
   "source": [
    "def softmax(Z):\n",
    "    A = np.exp(Z-np.max(Z,axis=-1,keepdims=True))\n",
    "    return A/np.sum(A,axis=-1,keepdims=True)\n",
    "\n",
    "def cross_entropy_grad(Z,Y,onehot = False,softmax_out=False):  \n",
    "    if softmax_out:\n",
    "        F = Z\n",
    "    else:\n",
    "        F = softmax(Z)\n",
    "    if onehot:\n",
    "        dZ = (F - Y) /len(Z)\n",
    "    else:\n",
    "        m = len(Y)\n",
    "        dZ = F.copy()\n",
    "        dZ[np.arange(m),Y] -= 1\n",
    "        dZ /= m\n",
    "        #I_i = np.zeros_like(Z)\n",
    "        #I_i[np.arange(len(Z)),Y] = 1    \n",
    "        #return (F - I_i) /len(Z)  #Z.shape[0]\n",
    "    return dZ"
   ]
  },
  {
   "cell_type": "markdown",
   "metadata": {},
   "source": [
    "### 4.2.5  2层神经网络的python实现"
   ]
  },
  {
   "cell_type": "code",
   "execution_count": null,
   "metadata": {},
   "outputs": [],
   "source": [
    "from util import *\n",
    "def dRelu(x):\n",
    "    return 1 * (x > 0)\n",
    "\n",
    "def max_abs(s):\n",
    "    max_value = 0\n",
    "    for x in s:\n",
    "        max_value_ = np.max(np.abs(x))\n",
    "        if(max_value_>max_value):\n",
    "            max_value = max_value_\n",
    "    return max_value\n",
    "\n",
    "class TwoLayerNN:\n",
    "    def __init__(self, input_units, hidden_units,output_units):\n",
    "        # initialize parameters randomly\n",
    "        n = input_units\n",
    "        h = hidden_units\n",
    "        K = output_units\n",
    "      \n",
    "        self.W1 = 0.01 * np.random.randn(n,h)\n",
    "        self.b1 = np.zeros((1,h))\n",
    "        self.W2 = 0.01 * np.random.randn(h,K)\n",
    "        self.b2 = np.zeros((1,K))        \n",
    "        \n",
    "        \n",
    "    def train(self,X,y,reg=0,iterations=10000, learning_rate=1e-0,epsilon = 1e-8):\n",
    "        m = X.shape[0]\n",
    "        W1 =  self.W1\n",
    "        b1 =  self.b1\n",
    "        W2 =  self.W2\n",
    "        b2 =  self.b2        \n",
    "        for i in range(iterations):\n",
    "            # forward evaluate class scores, [N x K]\n",
    "            Z1 = np.dot(X, W1) + b1\n",
    "            A1 = np.maximum(0,Z1)  #ReLU activation\n",
    "            Z2 = np.dot(A1, W2) + b2\n",
    "            \n",
    "            data_loss = softmax_cross_entropy(Z2,y)\n",
    "            reg_loss = reg*np.sum(W1*W1) + reg*np.sum(W2*W2)\n",
    "            loss = data_loss + reg_loss\n",
    "            if i % 1000 == 0:\n",
    "                print(\"iteration %d: loss %f\" % (i, loss))\n",
    "    \n",
    "            # backward \n",
    "            dZ2 = cross_entropy_grad(Z2,y)\n",
    "            dW2 = np.dot(A1.T, dZ2) +2*reg*W2\n",
    "            db2 = np.sum(dZ2, axis=0, keepdims=True)\n",
    "            dA1 = np.dot(dZ2,W2.T)\n",
    "            \n",
    "        \n",
    "            dA1[A1 <= 0] = 0\n",
    "            dZ1 = dA1\n",
    "            #dZ1 = dA1*dReLU(A1)   \n",
    "            #dZ1 = np.multiply(dA1,dRelu(A1) )           \n",
    "            dW1 = np.dot(X.T, dZ1)+2*reg*W1\n",
    "            db1 = np.sum(dZ1, axis=0, keepdims=True)      \n",
    "            \n",
    "            if max_abs([dW2,db2,dW1,db1])<epsilon:\n",
    "                print(\"gradient is small enough at iter : \",i);\n",
    "                break\n",
    "          \n",
    "          \n",
    "             # perform a parameter update\n",
    "            W1 += -learning_rate * dW1\n",
    "            b1 += -learning_rate * db1\n",
    "            W2 += -learning_rate * dW2\n",
    "            b2 += -learning_rate * db2\n",
    "        return W1,b1,W2,b2  \n",
    "    \n",
    "    def predict(self,X):\n",
    "        Z1 = np.dot(X, W1) + b1\n",
    "        A1 = np.maximum(0,Z1)  #ReLU activation\n",
    "        Z2 = np.dot(A1, W2) + b2\n",
    "        return Z2"
   ]
  },
  {
   "cell_type": "code",
   "execution_count": null,
   "metadata": {},
   "outputs": [],
   "source": [
    "import numpy as np\n",
    "import matplotlib.pyplot as plt\n",
    "%matplotlib inline\n",
    "import  data_set  as ds\n",
    "\n",
    "np.random.seed(89)\n",
    "X,y = ds.gen_spiral_dataset()\n",
    "\n",
    "# lets visualize the data:\n",
    "plt.scatter(X[:, 0], X[:, 1], c=y, s=20, cmap=plt.cm.spring)\n",
    "plt.show()"
   ]
  },
  {
   "cell_type": "code",
   "execution_count": null,
   "metadata": {},
   "outputs": [],
   "source": [
    "nn = TwoLayerNN(2,100,3)\n",
    "W1,b1,W2,b2 = nn.train(X,y)"
   ]
  },
  {
   "cell_type": "markdown",
   "metadata": {},
   "source": [
    "用下面的代码输出训练模型的准确性："
   ]
  },
  {
   "cell_type": "code",
   "execution_count": null,
   "metadata": {},
   "outputs": [],
   "source": [
    "# evaluate training set accuracy\n",
    "#A1 = np.maximum(0, np.dot(X, W1) + b1)\n",
    "#Z2 = np.dot(A1, W2) + b2\n",
    "Z2 = nn.predict(X)\n",
    "predicted_class = np.argmax(Z2, axis=1)\n",
    "print ('training accuracy: %.2f' % (np.mean(predicted_class == y)))"
   ]
  },
  {
   "cell_type": "markdown",
   "metadata": {},
   "source": [
    "可见，用分析导数计算梯度训练的模型更加准确，达到了99%。下列代码可视化的决策边界也优于用数值梯度训练的模型的决策边界："
   ]
  },
  {
   "cell_type": "code",
   "execution_count": null,
   "metadata": {},
   "outputs": [],
   "source": [
    "# plot the resulting classifier\n",
    "h = 0.02\n",
    "x_min, x_max = X[:, 0].min() - 1, X[:, 0].max() + 1\n",
    "y_min, y_max = X[:, 1].min() - 1, X[:, 1].max() + 1\n",
    "xx, yy = np.meshgrid(np.arange(x_min, x_max, h),\n",
    "                     np.arange(y_min, y_max, h))\n",
    "XX = np.c_[xx.ravel(), yy.ravel()]\n",
    "Z = nn.predict(XX)\n",
    "Z = np.argmax(Z, axis=1)\n",
    "Z = Z.reshape(xx.shape)\n",
    "fig = plt.figure()\n",
    "plt.contourf(xx, yy, Z, cmap=plt.cm.Spectral, alpha=0.8)\n",
    "plt.scatter(X[:, 0], X[:, 1], c=y, s=20, cmap=plt.cm.spring)\n",
    "plt.xlim(xx.min(), xx.max())\n",
    "plt.ylim(yy.min(), yy.max())\n",
    "#fig.savefig('spiral_net.png')"
   ]
  },
  {
   "cell_type": "markdown",
   "metadata": {},
   "source": [
    "### 4.3 实现一个简单的深度学习框架\n",
    "\n",
    "4.3.2  网络层的代码实现\n",
    "\n",
    "Layer类表示一个抽象的神经网络层，除初始化构造函数init()外，主要包含2个方法：前向计算forward(self, x)接受输入x产生输出、反向求导backward(self,grad)接受反向传进来的梯度grad，grad是损失函数关于其输出的梯度，来自于其后一层（对于最后一层，grad就是损失函数关于输出层输出的梯度）。backward()计算该层相关参数的梯度（如累加和z和权值参数W）。"
   ]
  },
  {
   "cell_type": "code",
   "execution_count": 12,
   "metadata": {},
   "outputs": [],
   "source": [
    "class Layer:\n",
    "    def __init__(self):\n",
    "        pass\n",
    "    def forward(self, x):        \n",
    "        raise NotImplementedError\n",
    "        \n",
    "    def backward(self, grad):      \n",
    "        raise NotImplementedError"
   ]
  },
  {
   "cell_type": "markdown",
   "metadata": {},
   "source": [
    "下面是网络层代码的实现："
   ]
  },
  {
   "cell_type": "code",
   "execution_count": 13,
   "metadata": {},
   "outputs": [],
   "source": [
    "class Layer:\n",
    "    def __init__(self):\n",
    "        pass\n",
    "    def forward(self, x):        \n",
    "        raise NotImplementedError\n",
    "        \n",
    "    def backward(self, grad):      \n",
    "        raise NotImplementedError\n",
    "\n",
    "class Dense(Layer):\n",
    "    def __init__(self, input_dim, out_dim,activation=None): \n",
    "        super().__init__()\n",
    "        self.W = np.random.randn(input_dim, out_dim) * 0.01  #0.01 * np.random.randn\n",
    "        self.b = np.zeros((1,out_dim))  #np.zeros(out_dim)     \n",
    "      \n",
    "        self.activation = activation\n",
    "        self.A = None\n",
    "        \n",
    "    def forward(self, x):\n",
    "        # f(x) = xw+b\n",
    "        self.x = x\n",
    "        Z = np.matmul(x, self.W) + self.b\n",
    "        self.A = self.g(Z)       \n",
    "        return self.A\n",
    "    \n",
    "    def backward(self, dA_out):\n",
    "        # 反向传播      \n",
    "        A_in = self.x       \n",
    "        dZ = self.dZ_(dA_out)\n",
    "        \n",
    "        self.dW = np.dot(A_in.T, dZ)\n",
    "        self.db = np.sum(dZ, axis=0, keepdims=True)          \n",
    "        dA_in = np.dot(dZ, np.transpose(self.W))    \n",
    "        return dA_in\n",
    "    \n",
    "    def g(self,z):\n",
    "        if self.activation=='relu':\n",
    "            return np.maximum(0, z)  \n",
    "        elif self.activation=='sogmiod':\n",
    "            return 1 / (1 + np.exp(-z)) \n",
    "        else:\n",
    "            return z\n",
    "        \n",
    "    def dZ_(self,dA_out):\n",
    "        if self.activation=='relu':\n",
    "            grad_g_z = 1. * (self.A > 0)  # 实际应该是 1. * (self.Z > 0)，但两者等价\n",
    "            return np.multiply(dA_out,grad_g_z)\n",
    "        elif self.activation=='sogmiod':\n",
    "            grad_g_z = self.A(1-self.A) \n",
    "            return np.multiply(dA_out,grad_g_z)\n",
    "        else:\n",
    "            return dA_out"
   ]
  },
  {
   "cell_type": "markdown",
   "metadata": {},
   "source": [
    "可以测试一下这个神经网络层Dense的forward()函数"
   ]
  },
  {
   "cell_type": "code",
   "execution_count": 31,
   "metadata": {},
   "outputs": [
    {
     "name": "stdout",
     "output_type": "stream",
     "text": [
      "(3, 10)\n",
      "[[-0.03953509 -0.00214997  0.00743433 -0.16926214 -0.05162853  0.06734225\n",
      "  -0.00221485 -0.11710758 -0.07046456  0.02609659]\n",
      " [ 0.00848392  0.08259757 -0.09858177  0.0374092  -0.08303008  0.04151241\n",
      "  -0.01407859 -0.02415486  0.04236149  0.0648261 ]\n",
      " [-0.13877363 -0.04122276 -0.00984716 -0.03461381  0.11513754  0.1043094\n",
      "   0.00170353 -0.00449278 -0.0057236  -0.01403174]]\n"
     ]
    }
   ],
   "source": [
    "import numpy as np\n",
    "np.random.seed(1)\n",
    "x = np.random.randn(3,48)  #3个样本，3个通道，每个通道是4x4图像\n",
    "dense = Dense(48,10,'none')\n",
    "o = dense.forward(x)\n",
    "print(o.shape)\n",
    "print(o)"
   ]
  },
  {
   "cell_type": "markdown",
   "metadata": {},
   "source": [
    "### 4.3.3 网络层的梯度检验\n",
    "\n",
    "下面的代码假设$f$是一个多变量参数$p$的函数，即给了$p$，可以计算$f(p)$的函数值，如果知道了损失函数$\\mathcal{L}$关于$f$的梯度$ \\frac{\\partial \\mathcal{L}}{\\partial f}$，则可以在此基础上计算损失函数$\\mathcal{L}$关于$p$的梯度。即：\n",
    "\n",
    "$$\\frac{\\partial \\mathcal{L} }{\\partial p} = \\frac{\\partial \\mathcal{L}}{\\partial f}\\frac{\\partial f}{\\partial p}  \\tag{4-73}$$\n",
    "\n",
    "用grad、df表示$\\frac{\\partial \\mathcal{L}}{\\partial p}、\\frac{\\partial \\mathcal{L}}{\\partial f}$，即：\n",
    "\n",
    "$$grad = df \\frac{\\partial f}{\\partial p} \\tag{4-74}$$\n",
    "\n",
    "即：\n",
    "\n",
    "$$\\frac{\\partial \\mathcal{L} }{\\partial p_j } = \\sum_{i}\\frac{\\partial \\mathcal{L}}{\\partial f_i}\\frac{f_i(p+\\epsilon) - f_i(p-\\epsilon)} {2\\epsilon} = \\frac{\\partial \\mathcal{L}}{\\partial f} \\cdot \\frac{ f(p_j+\\epsilon) - f(p_j-\\epsilon)}{2\\epsilon}  = df \\cdot \\frac{ f(p_j+\\epsilon) - f(p_j-\\epsilon)}{2\\epsilon}\\tag{4-77}$$\n",
    "\n",
    "其中$f$就是网络层dense的forward()输出，如果用$f= dense.forward(x)$表示这个函数计算，这个函数计算依赖于某个参数$p$，损失函数对参数p的数值求导可以用如下的函数实现："
   ]
  },
  {
   "cell_type": "code",
   "execution_count": 32,
   "metadata": {},
   "outputs": [],
   "source": [
    "def numerical_gradient_from_df(f, p, df, h=1e-5):\n",
    "  grad = np.zeros_like(p)\n",
    "  it = np.nditer(p, flags=['multi_index'], op_flags=['readwrite'])\n",
    "  while not it.finished:\n",
    "    idx = it.multi_index\n",
    "    \n",
    "    oldval = p[idx]\n",
    "    p[idx] = oldval + h\n",
    "    pos = f()       #在f的某个依赖参数p[idx]变化后重新调用f()计算其输出\n",
    "    p[idx] = oldval - h\n",
    "    neg = f()       #在f的某个依赖参数p[idx]变化后重新调用f()计算其输出\n",
    "    p[idx] = oldval\n",
    "       \n",
    "    grad[idx] = np.sum((pos - neg) * df) / (2 * h)\n",
    "    #grad[idx] = np.dot((pos - neg), df) / (2 * h)\n",
    "    it.iternext()\n",
    "  return grad"
   ]
  },
  {
   "cell_type": "markdown",
   "metadata": {},
   "source": [
    "下面代码先模拟一个损失函数关于dense输出的梯度df，再调用`dense.backward(df)`去反向求导dense模型参数的梯度，输出的dx是关于dense输入x的梯度dx，再用上面的数值梯度函数numerical_gradient_from_df去计算关于x的数值梯度dx_num，然后比较两者dx和dx_num的误差："
   ]
  },
  {
   "cell_type": "code",
   "execution_count": 33,
   "metadata": {},
   "outputs": [
    {
     "name": "stdout",
     "output_type": "stream",
     "text": [
      "2.1851062625977136e-12\n"
     ]
    }
   ],
   "source": [
    "df = np.random.randn(3, 10)\n",
    "dx = dense.backward(df)\n",
    "dx_num = numerical_gradient_from_df(lambda :dense.forward(x),x,df)\n",
    "\n",
    "diff_error = lambda x, y: np.max(np.abs(x - y)) \n",
    "print(diff_error(dx,dx_num))"
   ]
  },
  {
   "cell_type": "markdown",
   "metadata": {},
   "source": [
    "也可以比较dense模型参数的梯度是否一致，如下代码检验关于dense的模型参数W的梯度是否一致："
   ]
  },
  {
   "cell_type": "code",
   "execution_count": 34,
   "metadata": {},
   "outputs": [
    {
     "name": "stdout",
     "output_type": "stream",
     "text": [
      "2.2715163083830703e-12\n"
     ]
    }
   ],
   "source": [
    "dW_num = numerical_gradient_from_df(lambda :dense.forward(x),dense.W,df)\n",
    "print(diff_error(dense.dW,dW_num))"
   ]
  },
  {
   "cell_type": "markdown",
   "metadata": {},
   "source": [
    "### 4.3.4 神经网络类\n",
    "\n",
    "在层的基础上，可以定义一个表示整个神经网络的类NeuralNetwork："
   ]
  },
  {
   "cell_type": "code",
   "execution_count": 35,
   "metadata": {},
   "outputs": [],
   "source": [
    "class NeuralNetwork:   \n",
    "    def __init__(self):\n",
    "        self._layers = []\n",
    " \n",
    "    def add_layer(self, layer):       \n",
    "        self._layers.append(layer)\n",
    "    \n",
    "    def forward(self, X):    \n",
    "        self.X = X\n",
    "        for layer in self._layers:           \n",
    "            X = layer.forward(X)      \n",
    "        return X     \n",
    "    \n",
    "    def predict(self, X):        \n",
    "        p = self.forward(X)\n",
    "     \n",
    "        if p.ndim == 1:     #单样本\n",
    "            return np.argmax(ff)\n",
    "        \n",
    "        # 多样本\n",
    "        return np.argmax(p, axis=1)\n",
    "  \n",
    "\n",
    "    def backward(self,loss_grad,reg = 0.):\n",
    "        for i in reversed(range(len(self._layers))):\n",
    "            layer = self._layers[i] \n",
    "            loss_grad = layer.backward(loss_grad)\n",
    "            \n",
    "        for i in range(len(self._layers)):\n",
    "            self._layers[i].dW += 2*reg * self._layers[i].W\n",
    "    \n",
    "    def reg_loss(self,reg):\n",
    "        loss = 0\n",
    "        for i in range(len(self._layers)):\n",
    "            loss+= reg*np.sum(self._layers[i].W*self._layers[i].W)\n",
    "        return loss\n",
    "    \n",
    "    def update_parameters(self,learning_rate):\n",
    "        for i in range(len(self._layers)):  \n",
    "            self._layers[i].W += -learning_rate *  self._layers[i].dW\n",
    "            self._layers[i].b += -learning_rate * self._layers[i].db \n",
    "            \n",
    "    def parameters(self):\n",
    "        params = []\n",
    "        for i in range(len(self._layers)):\n",
    "            params.append(self._layers[i].W)\n",
    "            params.append(self._layers[i].b)\n",
    "        return params\n",
    "    \n",
    "    def grads(self):\n",
    "        grads = []\n",
    "        for i in range(len(self._layers)):\n",
    "            grads.append(self._layers[i].dW)\n",
    "            grads.append(self._layers[i].db)\n",
    "        return grads"
   ]
  },
  {
   "cell_type": "markdown",
   "metadata": {},
   "source": [
    "有了网络层Layer和神经网络类NeuralNetwork，就可以对于实际问题如2为平面的点集分类问题定义一个2层神经网络模型："
   ]
  },
  {
   "cell_type": "code",
   "execution_count": 36,
   "metadata": {},
   "outputs": [],
   "source": [
    "nn = NeuralNetwork()\n",
    "nn.add_layer(Dense(2, 100, 'relu'))\n",
    "nn.add_layer(Dense(100, 3, 'softmax'))"
   ]
  },
  {
   "cell_type": "markdown",
   "metadata": {},
   "source": [
    "对于多分类问题，可以用前面的softmax_cross_entropy()和cross_entropy_grad计算一个对于多分类交叉熵损失和关于加权和的梯度："
   ]
  },
  {
   "cell_type": "code",
   "execution_count": 37,
   "metadata": {},
   "outputs": [
    {
     "name": "stdout",
     "output_type": "stream",
     "text": [
      "1.098695480580774 -9.25185853854297e-18\n"
     ]
    }
   ],
   "source": [
    "X_temp = np.random.randn(2,2)\n",
    "y_temp = np.random.randint(3, size=2)\n",
    "F = nn.forward(X_temp)\n",
    "loss = softmax_cross_entropy(F,y_temp)\n",
    "loss_grad =  cross_entropy_grad(F,y_temp)\n",
    "print(loss,np.mean(loss_grad))"
   ]
  },
  {
   "cell_type": "markdown",
   "metadata": {},
   "source": [
    "### 4.3.5 神经网络的梯度检验\n",
    "\n",
    "为了确保神经网络的正向计算、损失函数计算和反向求导的计算正确，可以比较数值梯度与分析梯度。"
   ]
  },
  {
   "cell_type": "code",
   "execution_count": 38,
   "metadata": {},
   "outputs": [
    {
     "name": "stdout",
     "output_type": "stream",
     "text": [
      "(2, 100) (2, 100)\n",
      "(1, 100) (1, 100)\n",
      "(100, 3) (100, 3)\n",
      "(1, 3) (1, 3)\n"
     ]
    },
    {
     "data": {
      "text/plain": [
       "2.3017241064515748e-10"
      ]
     },
     "execution_count": 38,
     "metadata": {},
     "output_type": "execute_result"
    }
   ],
   "source": [
    "import util\n",
    "\n",
    "#根据损失函数关于输出的梯度loss_grad计算模型参数的梯度\n",
    "nn.backward(loss_grad)\n",
    "grads= nn.grads()\n",
    "\n",
    "def loss_fun():\n",
    "    F = nn.forward(X_temp)\n",
    "    return softmax_cross_entropy(F,y_temp)\n",
    "\n",
    "params = nn.parameters()\n",
    "numerical_grads = util.numerical_gradient(loss_fun,params,1e-6)\n",
    "\n",
    "for i in range(len(params)):\n",
    "    print(numerical_grads[i].shape,grads[i].shape)\n",
    "  \n",
    "\n",
    "def diff_error(x, y):\n",
    "  return np.max(np.abs(x - y)) \n",
    "\n",
    "def diff_errors(xs, ys):\n",
    "    errors = []\n",
    "    for i in range(len(xs)):\n",
    "        errors.append(diff_error(xs[i],ys[i]))\n",
    "    return np.max(errors)\n",
    "\n",
    "diff_errors(numerical_grads,grads)"
   ]
  },
  {
   "cell_type": "markdown",
   "metadata": {},
   "source": [
    "数值梯度和分析梯度误差很小，说明分析梯度基本正确。下面是梯度下降算法的代码："
   ]
  },
  {
   "cell_type": "code",
   "execution_count": 39,
   "metadata": {},
   "outputs": [],
   "source": [
    "def cross_entropy_grad_loss(F,y,softmax_out=False,onehot=False):\n",
    "    if softmax_out:\n",
    "        loss = cross_entropy_loss(F,y,onehot)\n",
    "    else:    \n",
    "        loss = softmax_cross_entropy(F,y,onehot)\n",
    "    loss_grad =  cross_entropy_grad(F,y,onehot,softmax_out)\n",
    "    return loss,loss_grad"
   ]
  },
  {
   "cell_type": "code",
   "execution_count": 41,
   "metadata": {},
   "outputs": [],
   "source": [
    "   \n",
    "def train(nn,X,y,loss_function,epochs=10000,learning_rate=1e-0,reg = 1e-3,print_n=10):\n",
    "    for epoch in range(epochs):\n",
    "        f = nn.forward(X)        \n",
    "        loss,loss_grad = loss_function(f,y)        \n",
    "        loss+=nn.reg_loss(reg)\n",
    "        \n",
    "        nn.backward(loss_grad,reg)\n",
    "      \n",
    "        nn.update_parameters(learning_rate);        \n",
    "       \n",
    "        if epoch % print_n == 0:\n",
    "            print(\"iteration %d: loss %f\" % (epoch, loss)) "
   ]
  },
  {
   "cell_type": "markdown",
   "metadata": {},
   "source": [
    "用上面的数据训练集训练模型，并输出模型预测的准确度："
   ]
  },
  {
   "cell_type": "code",
   "execution_count": 42,
   "metadata": {},
   "outputs": [
    {
     "name": "stdout",
     "output_type": "stream",
     "text": [
      "iteration 0: loss 1.098749\n",
      "iteration 1000: loss 0.199245\n",
      "iteration 2000: loss 0.129508\n",
      "iteration 3000: loss 0.116411\n",
      "iteration 4000: loss 0.110031\n",
      "iteration 5000: loss 0.105776\n",
      "iteration 6000: loss 0.103647\n",
      "iteration 7000: loss 0.102508\n",
      "iteration 8000: loss 0.101521\n",
      "iteration 9000: loss 0.100991\n",
      "0.9933333333333333\n"
     ]
    }
   ],
   "source": [
    "import  data_set  as ds\n",
    "\n",
    "np.random.seed(89)\n",
    "X,y = ds.gen_spiral_dataset()\n",
    "\n",
    "epochs=10000\n",
    "learning_rate=1e-0\n",
    "reg = 1e-4\n",
    "print_n = epochs//10\n",
    "train(nn,X,y,cross_entropy_grad_loss,epochs,learning_rate,reg,print_n)\n",
    "print(np.mean(nn.predict(X)==y))"
   ]
  },
  {
   "cell_type": "markdown",
   "metadata": {},
   "source": [
    "通常采用批梯度下降算法train_batch()"
   ]
  },
  {
   "cell_type": "code",
   "execution_count": 43,
   "metadata": {},
   "outputs": [],
   "source": [
    "def data_iter(X,y,batch_size,shuffle=False):\n",
    "    m = len(X)  \n",
    "    indices = list(range(m))\n",
    "    if shuffle:                 # shuffle是True表示打乱次序\n",
    "        np.random.shuffle(indices)\n",
    "    for i in range(0, m - batch_size + 1, batch_size):\n",
    "        batch_indices = np.array(indices[i: min(i + batch_size, m)])      \n",
    "        yield X.take(batch_indices,axis=0), y.take(batch_indices,axis=0)"
   ]
  },
  {
   "cell_type": "code",
   "execution_count": 44,
   "metadata": {},
   "outputs": [],
   "source": [
    "   \n",
    "def train_batch(nn,XX,YY,loss_function,epochs=10000,batch_size=50,learning_rate=1e-0,reg = 1e-3,print_n=10):\n",
    "    iter = 0\n",
    "    for epoch in range(epochs):\n",
    "        for X,y in data_iter(XX,YY,batch_size,True):             \n",
    "            f = nn.forward(X)        \n",
    "            loss,loss_grad = loss_function(f,y)        \n",
    "            loss+=nn.reg_loss(reg)\n",
    "\n",
    "            nn.backward(loss_grad,reg)\n",
    "\n",
    "            nn.update_parameters(learning_rate);        \n",
    "\n",
    "            if iter % print_n == 0:\n",
    "                print(\"iteration %d: loss %f\" % (iter, loss)) \n",
    "            iter+=1"
   ]
  },
  {
   "cell_type": "markdown",
   "metadata": {},
   "source": [
    "用批梯度下降法训练一个2层神经网络："
   ]
  },
  {
   "cell_type": "code",
   "execution_count": 45,
   "metadata": {},
   "outputs": [
    {
     "name": "stdout",
     "output_type": "stream",
     "text": [
      "iteration 0: loss 1.098579\n",
      "iteration 600: loss 0.377089\n",
      "iteration 1200: loss 0.198609\n",
      "iteration 1800: loss 0.129696\n",
      "iteration 2400: loss 0.208457\n",
      "iteration 3000: loss 0.090015\n",
      "iteration 3600: loss 0.110976\n",
      "iteration 4200: loss 0.095018\n",
      "iteration 4800: loss 0.084522\n",
      "iteration 5400: loss 0.095629\n",
      "0.9866666666666667\n"
     ]
    }
   ],
   "source": [
    "nn = NeuralNetwork()\n",
    "nn.add_layer(Dense(2, 100, 'relu'))\n",
    "nn.add_layer(Dense(100, 3))\n",
    "\n",
    "epochs=1000\n",
    "batch_size=50\n",
    "learning_rate=1e-0\n",
    "reg = 1e-4\n",
    "print_n = epochs*len(X)//batch_size//10\n",
    "\n",
    "train_batch(nn,X,y,cross_entropy_grad_loss,epochs,batch_size,learning_rate,reg,print_n)\n",
    "print(np.mean(nn.predict(X)==y))"
   ]
  },
  {
   "cell_type": "markdown",
   "metadata": {},
   "source": [
    "### 4.3.6 基于深度学习框架的MNIST数据手写数字识别"
   ]
  },
  {
   "cell_type": "code",
   "execution_count": 46,
   "metadata": {},
   "outputs": [
    {
     "name": "stdout",
     "output_type": "stream",
     "text": [
      "float32\n",
      "(50000, 784)\n",
      "(10000, 784)\n"
     ]
    }
   ],
   "source": [
    "#%%time \n",
    "import pickle, gzip, urllib.request, json\n",
    "import numpy as np\n",
    "import os.path\n",
    "\n",
    "if not os.path.isfile(\"mnist.pkl.gz\"):\n",
    "    # Load the dataset\n",
    "    urllib.request.urlretrieve(\"http://deeplearning.net/data/mnist/mnist.pkl.gz\", \"mnist.pkl.gz\")\n",
    "    \n",
    "with gzip.open('mnist.pkl.gz', 'rb') as f:\n",
    "    train_set, valid_set, test_set = pickle.load(f, encoding='latin1')\n",
    "\n",
    "train_X, train_y = train_set\n",
    "valid_X, valid_y = valid_set\n",
    "print(train_X.dtype)\n",
    "print(train_set[0].shape)\n",
    "print(valid_X.shape)"
   ]
  },
  {
   "cell_type": "code",
   "execution_count": 47,
   "metadata": {},
   "outputs": [
    {
     "data": {
      "image/png": "[encoded data removed]",
      "text/plain": [
       "<Figure size 432x288 with 2 Axes>"
      ]
     },
     "metadata": {
      "needs_background": "light"
     },
     "output_type": "display_data"
    }
   ],
   "source": [
    "import matplotlib.pyplot as plt\n",
    "%matplotlib inline\n",
    "\n",
    "digit = train_set[0][9].reshape(28,28)\n",
    "\n",
    "plt.imshow(digit,cmap='gray')\n",
    "plt.colorbar()\n",
    "plt.show()"
   ]
  },
  {
   "cell_type": "code",
   "execution_count": 21,
   "metadata": {},
   "outputs": [
    {
     "name": "stdout",
     "output_type": "stream",
     "text": [
      "(50000, 784)\n"
     ]
    }
   ],
   "source": [
    "print(train_X.shape)"
   ]
  },
  {
   "cell_type": "code",
   "execution_count": 48,
   "metadata": {},
   "outputs": [
    {
     "name": "stdout",
     "output_type": "stream",
     "text": [
      "iteration 0: loss 2.320527\n",
      "iteration 3906: loss 0.436557\n",
      "iteration 7812: loss 0.363573\n",
      "iteration 11718: loss 0.289885\n",
      "iteration 15624: loss 0.177679\n",
      "iteration 19530: loss 0.286339\n",
      "iteration 23436: loss 0.189970\n",
      "iteration 27342: loss 0.143797\n",
      "iteration 31248: loss 0.158769\n",
      "iteration 35154: loss 0.153224\n",
      "0.98474\n",
      "0.9766\n",
      "[4] 4\n"
     ]
    }
   ],
   "source": [
    "nn = NeuralNetwork()\n",
    "nn.add_layer(Dense(784, 200, 'relu'))\n",
    "nn.add_layer(Dense(200, 100, 'relu'))\n",
    "nn.add_layer(Dense(100, 10, ))\n",
    "\n",
    "epochs = 25\n",
    "batch_size = 32\n",
    "learning_rate = 0.1\n",
    "reg = 1e-3\n",
    "print_n = 25*len(train_X)//32//10\n",
    "train_batch(nn,train_X,train_y,cross_entropy_grad_loss,epochs,batch_size,learning_rate,reg,print_n)\n",
    "\n",
    "#nn.train_batch(train_X,train_y,ds.data_iter,loss_gradient_softmax_crossentropy,25,0.1,32,True,1e-3,2)\n",
    "print(np.mean(nn.predict(train_X)==train_y))\n",
    "print(np.mean(nn.predict(valid_X)==valid_y))\n",
    "print(nn.predict(valid_X[9]),valid_y[9])"
   ]
  },
  {
   "cell_type": "markdown",
   "metadata": {},
   "source": [
    "### 4.3.7 改进的通用神经网络框架：分离加权和与激活函数\n",
    "\n",
    "Layer类添加了以成员变量params保存模型的参数，用于保存模型的参数，并且添加了一个方法reg_loss_grad用来给模型参数的梯度增加损失函数中的正则项的梯度。\n",
    "\n",
    "Dense类仅仅进行加权和计算，其构造函数接受一个对权值参数随机初始化的参数，根据不同的随机初始化方法对权值参数初始化。Dense类接受的单个数据特征不仅仅是一个向量，还可以是多通道的二维图像，如彩色图像包含红绿蓝三种颜色的图像，每个颜色通道是一个二维数组，因此forward()和backwrd()方法都会用下列代码先将多通道的输入数据摊平为一个一维向量。"
   ]
  },
  {
   "cell_type": "code",
   "execution_count": null,
   "metadata": {},
   "outputs": [],
   "source": [
    "x1 = x.reshape(x.shape[0],np.prod(x.shape[1:]))  #将多通道的x摊平"
   ]
  },
  {
   "cell_type": "code",
   "execution_count": 49,
   "metadata": {},
   "outputs": [],
   "source": [
    "class Layer:\n",
    "    def __init__(self):\n",
    "        self.params = None\n",
    "        pass\n",
    "    def forward(self, x):       \n",
    "        raise NotImplementedError\n",
    "    def backward(self, x, grad):        \n",
    "        raise NotImplementedError\n",
    "    def reg_grad(self,reg):\n",
    "        pass\n",
    "    def reg_loss(self,reg):\n",
    "        return 0.  \n",
    "    \n",
    "#----------加权和计算------------    \n",
    "class Dense(Layer): \n",
    "    # Z = XW+b\n",
    "    def __init__(self, input_dim, out_dim,init_method = ('random',0.01)):  \n",
    "        super().__init__()\n",
    "        random_method_name,random_value = init_method      \n",
    "        if random_method_name == \"random\":\n",
    "            self.W = np.random.randn(input_dim, out_dim) * random_value  #0.01 * np.random.randn\n",
    "            self.b = np.random.randn(1,out_dim)* random_value  \n",
    "        elif random_method_name == \"he\":\n",
    "            self.W = np.random.randn(input_dim, out_dim)*np.sqrt(2/input_dim)\n",
    "            #self.b = np.random.randn(1,out_dim)* random_value\n",
    "            self.b = np.zeros((1,out_dim))\n",
    "        elif random_method_name == \"xavier\":\n",
    "            self.W = np.random.randn(input_dim, out_dim)*np.sqrt(1/input_dim)\n",
    "            self.b = np.random.randn(1,out_dim)* random_value  \n",
    "        elif random_method_name == \"zeros\":\n",
    "            self.W = np.zeros((input_dim, out_dim))\n",
    "            self.b = np.zeros((1,out_dim))   \n",
    "        else:            \n",
    "            self.W = np.random.randn(input_dim, out_dim)* random_value\n",
    "            self.b = np.zeros((1,out_dim))  \n",
    "            \n",
    "        self.params = [self.W,self.b]\n",
    "        self.grads = [np.zeros_like(self.W),np.zeros_like(self.b)]\n",
    "      #  self.activation = activation\n",
    "      #  self.A = None\n",
    "        \n",
    "    def forward(self, x): \n",
    "        self.x = x        \n",
    "        x1 = x.reshape(x.shape[0],np.prod(x.shape[1:]))  #将多通道的x摊平      \n",
    "        Z = np.matmul(x1, self.W) + self.b        \n",
    "        return Z\n",
    "    \n",
    "    def backward(self, dZ):\n",
    "        # 反向传播      \n",
    "        x = self.x\n",
    "        x1 = x.reshape(x.shape[0],np.prod(x.shape[1:]))  #将多通道的x摊平\n",
    "        dW = np.dot(x1.T, dZ)\n",
    "        db = np.sum(dZ, axis=0, keepdims=True)          \n",
    "        dx = np.dot(dZ, np.transpose(self.W)) \n",
    "        dx = dx.reshape(x.shape)    #反摊平为多通道的x的形状   \n",
    "        \n",
    "        #self.grads = [dW, db]\n",
    "        self.grads[0] += dW\n",
    "        self.grads[1] += db\n",
    "       \n",
    "        return dx\n",
    "    \n",
    "    #--------添加正则项的梯度-----\n",
    "    def reg_grad(self,reg):\n",
    "        self.grads[0]+= 2*reg * self.W\n",
    "        \n",
    "    def reg_loss(self,reg):\n",
    "        return  reg*np.sum(self.W**2)\n",
    "    \n",
    "    def reg_loss_grad(self,reg):\n",
    "        self.grads[0]+= 2*reg * self.W\n",
    "        return  reg*np.sum(self.W**2)"
   ]
  },
  {
   "cell_type": "markdown",
   "metadata": {},
   "source": [
    "假如x是6个样本，每个样本是3个通道而每个通道是```4*4```的图像，下面代码是这3个样本作为输入的正向计算："
   ]
  },
  {
   "cell_type": "code",
   "execution_count": 50,
   "metadata": {},
   "outputs": [
    {
     "name": "stdout",
     "output_type": "stream",
     "text": [
      "(3, 10)\n",
      "[[-0.03953509 -0.00214997  0.00743433 -0.16926214 -0.05162853  0.06734225\n",
      "  -0.00221485 -0.11710758 -0.07046456  0.02609659]\n",
      " [ 0.00848392  0.08259757 -0.09858177  0.0374092  -0.08303008  0.04151241\n",
      "  -0.01407859 -0.02415486  0.04236149  0.0648261 ]\n",
      " [-0.13877363 -0.04122276 -0.00984716 -0.03461381  0.11513754  0.1043094\n",
      "   0.00170353 -0.00449278 -0.0057236  -0.01403174]]\n"
     ]
    }
   ],
   "source": [
    "import numpy as np\n",
    "np.random.seed(1)\n",
    "x = np.random.randn(3,3,4, 4)  #3个样本，3个通道，每个通道是4x4图像\n",
    "dense = Dense(3*4*4,10,('no',0.01))\n",
    "o = dense.forward(x)\n",
    "print(o.shape)\n",
    "print(o)"
   ]
  },
  {
   "cell_type": "markdown",
   "metadata": {},
   "source": [
    "梯度验证"
   ]
  },
  {
   "cell_type": "code",
   "execution_count": 51,
   "metadata": {},
   "outputs": [
    {
     "name": "stdout",
     "output_type": "stream",
     "text": [
      "3.638244314951079e-09\n",
      "1.3450414982951384e-11\n",
      "[[ 1.77463167  0.11663492  1.87794917  0.27986781  1.27243915 -2.44375556\n",
      "  -2.1266117   0.99629747 -0.73720237 -0.68570287]\n",
      " [-0.69807196  0.22547472 -0.93721649  0.3286185  -1.0421723   0.66487528\n",
      "   1.33111205  0.25677848 -0.58451408  0.71015412]\n",
      " [ 0.12251147 -0.4041516   0.57764614  0.89962639 -0.35195022  0.77829011\n",
      "  -0.01618803 -0.62209694 -1.28543176 -0.37554316]]\n",
      "[[ 1.77463167  0.11663492  1.87794917  0.27986781  1.27243915 -2.44375556\n",
      "  -2.1266117   0.99629747 -0.73720237 -0.68570287]\n",
      " [-0.69807196  0.22547472 -0.93721649  0.3286185  -1.0421723   0.66487528\n",
      "   1.33111205  0.25677848 -0.58451408  0.71015412]\n",
      " [ 0.12251147 -0.4041516   0.57764614  0.89962639 -0.35195022  0.77829011\n",
      "  -0.01618803 -0.62209694 -1.28543176 -0.37554316]]\n"
     ]
    }
   ],
   "source": [
    "do = np.random.randn(3, 10)\n",
    "dx = dense.backward(do)\n",
    "dx_num = numerical_gradient_from_df(lambda :dense.forward(x),x,do)\n",
    "\n",
    "diff_error = lambda x, y: np.max(np.abs(x - y)/(np.maximum(1e-8, np.abs(x) + np.abs(y) )) )\n",
    "print(diff_error(dx,dx_num))\n",
    "\n",
    "dW_num = numerical_gradient_from_df(lambda :dense.forward(x),dense.params[0],do)\n",
    "print(diff_error(dense.grads[0],dW_num))\n",
    "print(dense.grads[0][:3])\n",
    "print(dW_num[:3])"
   ]
  },
  {
   "cell_type": "markdown",
   "metadata": {},
   "source": [
    "还可以给Dense层后面接一个损失函数，比较损失函数关于Dense模型参数的分析梯度和数值梯度："
   ]
  },
  {
   "cell_type": "code",
   "execution_count": 52,
   "metadata": {},
   "outputs": [
    {
     "name": "stdout",
     "output_type": "stream",
     "text": [
      "2.0148860313259954e-07\n",
      "[[ 0.47568681 -0.06324119 -0.29294422 -0.76304343 -0.09660146  0.62794569\n",
      "   1.16087896  0.06261028 -0.6611078  -0.02940735]\n",
      " [-0.10777785 -1.47174583  0.63258553  1.22381944 -0.35702633  0.4409597\n",
      "  -2.42444873 -0.28804741 -1.33377026  0.66775208]]\n",
      "[array([ 0.47568681, -0.06324119, -0.29294422, -0.76304343, -0.09660146,\n",
      "        0.62794569,  1.16087896,  0.06261028, -0.6611078 , -0.02940735]), array([-0.10777785, -1.47174583,  0.63258553,  1.22381944, -0.35702633,\n",
      "        0.4409597 , -2.42444873, -0.28804741, -1.33377026,  0.66775208])]\n"
     ]
    }
   ],
   "source": [
    "import util\n",
    "x = np.random.randn(3,3,4, 4)\n",
    "y = np.random.randn(3,10) \n",
    "\n",
    "dense = Dense(3*4*4,10,('no',0.01))\n",
    "\n",
    "f = dense.forward(x)\n",
    "loss,do = mse_loss_grad(f,y)\n",
    "dx = dense.backward(do)\n",
    "def loss_f():\n",
    "    f = dense.forward(x)\n",
    "    loss= mse_loss(f,y)\n",
    "    return loss\n",
    "    \n",
    "dW_num = util.numerical_gradient(loss_f,dense.params[0],1e-6)\n",
    "print(diff_error(dense.grads[0],dW_num))\n",
    "print(dense.grads[0][:2])\n",
    "print(dW_num[:2])"
   ]
  },
  {
   "cell_type": "markdown",
   "metadata": {},
   "source": [
    "Dense层只计算加权和，而不需要在其中根据激活函数不同计算激活函数的值或求激活函数的导数，变得很简单。不同的激活函数可以单独实现为一个激活函数层类，下面代码定义了神经网络中最长使用的激活函数对应的激活函数层："
   ]
  },
  {
   "cell_type": "code",
   "execution_count": 53,
   "metadata": {},
   "outputs": [],
   "source": [
    "class Relu(Layer):\n",
    "    def __init__(self):\n",
    "        super().__init__()\n",
    "        pass\n",
    "    def forward(self, x):\n",
    "        self.x = x  \n",
    "        return np.maximum(0, x)\n",
    "    def backward(self, grad_output):\n",
    "        # 如果x>0，导数为1,否则0\n",
    "        x = self.x\n",
    "        relu_grad = x > 0\n",
    "        return grad_output * relu_grad \n",
    "    \n",
    "class Sigmoid(Layer):\n",
    "    def __init__(self):\n",
    "        super().__init__()\n",
    "        pass\n",
    "    def forward(self, x):\n",
    "        self.x = x  \n",
    "        return 1.0/(1.0 + np.exp(-x))     \n",
    "    def backward(self, grad_output): \n",
    "        x = self.x  \n",
    "        a  = 1.0/(1.0 + np.exp(-x))         \n",
    "        return grad_output * a*(1-a) \n",
    "    \n",
    "class Tanh(Layer):\n",
    "    def __init__(self):\n",
    "        super().__init__()\n",
    "        pass\n",
    "    def forward(self, x):\n",
    "        self.x = x  \n",
    "        self.a = np.tanh(x)  \n",
    "        return self.a    \n",
    "    def backward(self, grad_output):           \n",
    "        d = (1-np.square(self.a))           \n",
    "        return grad_output * d\n",
    "    \n",
    "class Leaky_relu(Layer):\n",
    "    def __init__(self,leaky_slope):\n",
    "        super().__init__()\n",
    "        self.leaky_slope = leaky_slope        \n",
    "    def forward(self, x):\n",
    "        self.x = x  \n",
    "        return np.maximum(self.leaky_slope*x,x)            \n",
    "    def backward(self, grad_output): \n",
    "        x = self.x    \n",
    "        d=np.zeros_like(x)\n",
    "        d[x<=0]=self.leaky_slope\n",
    "        d[x>0]=1       \n",
    "        return grad_output * d"
   ]
  },
  {
   "cell_type": "markdown",
   "metadata": {},
   "source": [
    "激活层没有模型参数，只是将输入x经过变换产生一个输出。输入和输出张量的形状是一样的。同样，可以用数值梯度检查激活曾的分析梯度是否正确。下面代码用模拟的损失函数关于激活层输出的梯度do，检查了上面每个激活层的分析梯度和数值梯度的误差："
   ]
  },
  {
   "cell_type": "code",
   "execution_count": 54,
   "metadata": {},
   "outputs": [
    {
     "name": "stdout",
     "output_type": "stream",
     "text": [
      "3.2756345281587516e-12\n",
      "7.43892997215858e-12\n",
      "5.170019175240593e-11\n",
      "3.282573028416693e-11\n"
     ]
    }
   ],
   "source": [
    "import numpy as np\n",
    "np.random.seed(1)\n",
    "x = np.random.randn(3,3,4, 4)\n",
    "do = np.random.randn(3,3,4, 4)\n",
    "\n",
    "relu = Relu()\n",
    "relu.forward(x)\n",
    "dx = relu.backward(do)\n",
    "dx_num = numerical_gradient_from_df(lambda :relu.forward(x),x,do)\n",
    "print(diff_error(dx,dx_num))\n",
    "\n",
    "leaky_relu = Leaky_relu(0.1)\n",
    "leaky_relu.forward(x)\n",
    "dx = leaky_relu.backward(do)\n",
    "dx_num = numerical_gradient_from_df(lambda :leaky_relu.forward(x),x,do)\n",
    "print(diff_error(dx,dx_num))\n",
    "\n",
    "tanh = Tanh()\n",
    "tanh.forward(x)\n",
    "dx = tanh.backward(do)\n",
    "dx_num = numerical_gradient_from_df(lambda :tanh.forward(x),x,do)\n",
    "print(diff_error(dx,dx_num))\n",
    "\n",
    "sigmoid = Sigmoid()\n",
    "sigmoid.forward(x)\n",
    "dx = sigmoid.backward(do)\n",
    "dx_num = numerical_gradient_from_df(lambda :sigmoid.forward(x),x,do)\n",
    "print(diff_error(dx,dx_num))"
   ]
  },
  {
   "cell_type": "markdown",
   "metadata": {},
   "source": [
    "从这些激活层的分梯度和数值梯度误差几乎相等，可以基本确信分析梯度代码的正确性。\n",
    "\n",
    "在dense层和各个激活层的基础上，可以定义一个表示神经网络的类NeuralNetwork:"
   ]
  },
  {
   "cell_type": "code",
   "execution_count": 55,
   "metadata": {},
   "outputs": [],
   "source": [
    "class NeuralNetwork:  \n",
    "    def __init__(self):\n",
    "        self._layers = []\n",
    "        self._params = []\n",
    " \n",
    "    def add_layer(self, layer):      \n",
    "        self._layers.append(layer)\n",
    "        if layer.params: \n",
    "           # for  i in range(len(layer.params)): \n",
    "            for  i, _ in enumerate(layer.params):                         \n",
    "                self._params.append([layer.params[i],layer.grads[i]])            \n",
    "    \n",
    "    def forward(self, X): \n",
    "        for layer in self._layers:\n",
    "            X = layer.forward(X) \n",
    "        return X   \n",
    "\n",
    "    def __call__(self, X):\n",
    "        return self.forward(X)\n",
    "    \n",
    "    def predict(self, X):\n",
    "        \"\"\"\n",
    "        输入X，预测其分类\n",
    "        \"\"\"\n",
    "        p = self.forward(X)\n",
    "        # One row\n",
    "        if p.ndim == 1:     #单样本\n",
    "            return np.argmax(ff)        \n",
    "        # 多样本\n",
    "        return np.argmax(p, axis=1)\n",
    "  \n",
    "   \n",
    "    def backward(self,loss_grad,reg = 0.):\n",
    "        for i in reversed(range(len(self._layers))):\n",
    "            layer = self._layers[i] \n",
    "            loss_grad = layer.backward(loss_grad)\n",
    "            layer.reg_grad(reg) \n",
    "        return loss_grad\n",
    "    \n",
    "    \n",
    "    def backpropagation(self, X, y,loss_function,reg=0):\n",
    "        \"\"\"\n",
    "        反向计算，loss_function函数用于计算损失函数关于输出层的梯度\n",
    "        \"\"\"        \n",
    "        # Feed forward for the output\n",
    "        f = self.forward(X)          \n",
    "        #损失函数关于输出f的梯度\n",
    "        loss,loss_grad = loss_function(f,y)         \n",
    "      \n",
    "        #从loss_grad反向求导\n",
    "        self.zero_grad()\n",
    "        self.backward(loss_grad)  \n",
    "        reg_loss = self.reg_loss_grad(reg)       \n",
    "        return loss+reg_loss\n",
    "        #return np.mean(loss)\n",
    "    \n",
    "    def reg_loss(self,reg):\n",
    "        reg_loss = 0\n",
    "        for i in range(len(self._layers)):\n",
    "            reg_loss+=self._layers[i].reg_loss(reg)\n",
    "        return reg_loss\n",
    "    \n",
    "    def parameters(self): \n",
    "        return self._params\n",
    "    \n",
    "    def zero_grad(self):\n",
    "        for i,_ in enumerate(self._params):           \n",
    "            #self.params[i][1].fill(0.) \n",
    "            self._params[i][1][:] = 0 \n",
    "            \n",
    "    def get_parameters(self):\n",
    "        return self._params "
   ]
  },
  {
   "cell_type": "markdown",
   "metadata": {},
   "source": [
    "为了确保forward()和backward()方法的正确性，可以用数值梯度的方法检验它们的正确性。下面代码定义了一个简单的神经网络，并用一组随机生成的样本(x,y)来计算比较backward()计算的分析梯度和用1.4节的通用数值梯度函数求得的数值梯度，看看它们的计算结果是否一致。"
   ]
  },
  {
   "cell_type": "code",
   "execution_count": 56,
   "metadata": {},
   "outputs": [
    {
     "name": "stdout",
     "output_type": "stream",
     "text": [
      "1.892395698905401e-06\n",
      "1.7651393552515298e-06\n",
      "2.306498772862026e-06\n",
      "2.3545204992835373e-10\n"
     ]
    }
   ],
   "source": [
    "import util\n",
    "\n",
    "np.random.seed(1)\n",
    "nn = NeuralNetwork()\n",
    "nn.add_layer(Dense(2, 100,('no',0.01)))\n",
    "nn.add_layer(Relu())\n",
    "nn.add_layer(Dense(100, 3,('no',0.01)))\n",
    "\n",
    "x = np.random.randn(5,2)\n",
    "y = np.random.randint(3, size=5)\n",
    "\n",
    "f = nn.forward(x)\n",
    "dZ = cross_entropy_grad(f,y)  #util.grad_softmax_cross_entropy(f,y) #\n",
    "nn.zero_grad()                            #梯度清零\n",
    "reg = 0.1\n",
    "dx =  nn.backward(dZ,reg)\n",
    "\n",
    "#-----计算数值梯度-----------\n",
    "params = nn.parameters()\n",
    "nn_params=[]\n",
    "for i in range(len(params) ):    \n",
    "    nn_params.append(params[i][0]) \n",
    "    \n",
    "def loss_fn():\n",
    "    f = nn.forward(x)\n",
    "    loss =  softmax_cross_entropy(f,y) #util.softmax_cross_entropy(f,y) # \n",
    "    return loss+nn.reg_loss(reg)\n",
    "\n",
    "numerical_grads = util.numerical_gradient(loss_fn,nn_params,1e-6)\n",
    "for i in range(len(numerical_grads)):\n",
    "    print(diff_error(params[i][1],numerical_grads[i]))"
   ]
  },
  {
   "cell_type": "code",
   "execution_count": 57,
   "metadata": {},
   "outputs": [
    {
     "name": "stdout",
     "output_type": "stream",
     "text": [
      "1.892395698905401e-06\n",
      "1.7651393552515298e-06\n",
      "2.306498772862026e-06\n",
      "2.3545204992835373e-10\n"
     ]
    }
   ],
   "source": [
    "import util\n",
    "\n",
    "np.random.seed(1)\n",
    "nn = NeuralNetwork()\n",
    "nn.add_layer(Dense(2, 100,('no',0.01)))\n",
    "nn.add_layer(Relu())\n",
    "nn.add_layer(Dense(100, 3,('no',0.01)))\n",
    "\n",
    "x = np.random.randn(5,2)\n",
    "y = np.random.randint(3, size=5)\n",
    "\n",
    "f = nn.forward(x)\n",
    "dZ = cross_entropy_grad(f,y)  #util.grad_softmax_cross_entropy(f,y) #\n",
    "nn.zero_grad()                            #梯度清零\n",
    "reg = 0.1\n",
    "dx =  nn.backward(dZ,reg)\n",
    "\n",
    "#-----计算数值梯度-----------\n",
    "params = nn.parameters()\n",
    "nn_params=[]\n",
    "for i in range(len(params) ):    \n",
    "    nn_params.append(params[i][0]) \n",
    "    \n",
    "def loss_fn():\n",
    "    f = nn.forward(x)\n",
    "    loss =  softmax_cross_entropy(f,y) #util.softmax_cross_entropy(f,y) # \n",
    "    return loss+nn.reg_loss(reg)\n",
    "\n",
    "numerical_grads = util.numerical_gradient(loss_fn,nn_params,1e-6)\n",
    "for i in range(len(numerical_grads)):\n",
    "    print(diff_error(params[i][1],numerical_grads[i]))"
   ]
  },
  {
   "cell_type": "markdown",
   "metadata": {},
   "source": [
    "可见数值梯度和分析梯度非常接近，初步确定模型的forward()和backward()没什么问题。\n",
    "\n",
    "### 4.3.8 独立的参数优化器\n",
    "\n",
    "为了方便用不同的梯度下降优化策略更新模型参数，可以将它们编写为一个单独的类，如："
   ]
  },
  {
   "cell_type": "code",
   "execution_count": 59,
   "metadata": {},
   "outputs": [],
   "source": [
    "class SGD():\n",
    "    def __init__(self,model_params,learning_rate=0.01, momentum=0.9):\n",
    "        self.params,self.lr,self.momentum = model_params,learning_rate,momentum\n",
    "        self.vs = []\n",
    "        for p,grad in self.params:\n",
    "            v = np.zeros_like(p)\n",
    "            self.vs.append(v)\n",
    "        \n",
    "    def zero_grad(self):        \n",
    "        #for p,grad in params:\n",
    "        for i,_ in enumerate(self.params):           \n",
    "            #self.params[i][1][:] = 0.          \n",
    "            self.params[i][1].fill(0) \n",
    "                \n",
    "    def step(self):           \n",
    "        for i,_ in enumerate(self.params):     \n",
    "            p,grad = self.params[i]           \n",
    "            self.vs[i] = self.momentum*self.vs[i]+self.lr* grad             \n",
    "            self.params[i][0] -= self.vs[i] \n",
    "            #self.params[i][0][:] =  self.params[i][0] - self.vs[i] \n",
    "      \n",
    "    def scale_learning_rate(self,scale):\n",
    "        self.lr *= scale"
   ]
  },
  {
   "cell_type": "code",
   "execution_count": 60,
   "metadata": {},
   "outputs": [],
   "source": [
    "learning_rate = 1e-1\n",
    "momentum = 0.9\n",
    "optimizer = SGD(nn.parameters(),learning_rate,momentum)"
   ]
  },
  {
   "cell_type": "markdown",
   "metadata": {},
   "source": [
    "同样，也可以定义其他的优化器类，如下面的Adam优化器："
   ]
  },
  {
   "cell_type": "code",
   "execution_count": 61,
   "metadata": {},
   "outputs": [],
   "source": [
    "class Adam():\n",
    "    def __init__(self,model_params,learning_rate=0.01, beta_1 = 0.9,beta_2 = 0.999,epsilon =1e-8):\n",
    "        self.params,self.lr = model_params,learning_rate\n",
    "        self.beta_1,self.beta_2,self.epsilon = beta_1,beta_2,epsilon\n",
    "        self.ms = []\n",
    "        self.vs = []\n",
    "        self.t = 0\n",
    "        for p,grad in self.params:\n",
    "            m = np.zeros_like(p)\n",
    "            v = np.zeros_like(p)\n",
    "            self.ms.append(m)\n",
    "            self.vs.append(v)\n",
    "        \n",
    "    def zero_grad(self):        \n",
    "        #for p,grad in params:        \n",
    "        for i,_ in enumerate(self.params):\n",
    "            #self.params[i][1][:] = 0.          \n",
    "            self.params[i][1].fill(0) \n",
    "                \n",
    "    def step(self):   \n",
    "        #for  i in range(len(self.params)): \n",
    "        beta_1,beta_2,lr = self.beta_1,self.beta_2,self.lr\n",
    "        self.t+=1\n",
    "        t = self.t\n",
    "        for i,_ in enumerate(self.params):     \n",
    "            p,grad = self.params[i]       \n",
    "            \n",
    "            self.ms[i] = beta_1*self.ms[i]+(1-beta_1)*grad\n",
    "            self.vs[i] = beta_2*self.vs[i]+(1-beta_2)*grad**2 \n",
    "            \n",
    "            m_1 = self.ms[i]/(1-np.power(beta_1, t))\n",
    "            v_1 = self.vs[i]/(1-np.power(beta_2, t))  \n",
    "            self.params[i][0]-= lr*m_1/(np.sqrt(v_1)+self.epsilon)\n",
    "      \n",
    "    def scale_learning_rate(self,scale):\n",
    "        self.lr *= scale"
   ]
  },
  {
   "cell_type": "markdown",
   "metadata": {},
   "source": [
    "下面的训练函数train()接受一个数据迭代器，每次从中取出一批训练样本（input, target），对每批样本，先执行forwrd()计算输出output，然后用损失函数计算其损失loss和损失函数关于输出output的梯度loss_grad，将这个梯度loss_grad通过backward()函数反向回传，求得模型参数和中间变量的梯度。随后用optimizer的step()函数更新模型参数。"
   ]
  },
  {
   "cell_type": "code",
   "execution_count": 62,
   "metadata": {},
   "outputs": [],
   "source": [
    "def data_iterator(X,y,batch_size,shuffle=False):\n",
    "    m = len(X)  \n",
    "    indices = list(range(m))\n",
    "    if shuffle:                 # shuffle是True表示打乱次序\n",
    "        np.random.shuffle(indices)\n",
    "    for i in range(0, m - batch_size + 1, batch_size):\n",
    "        batch_indices = np.array(indices[i: min(i + batch_size, m)])      \n",
    "        yield X.take(batch_indices,axis=0), y.take(batch_indices,axis=0)"
   ]
  },
  {
   "cell_type": "code",
   "execution_count": 63,
   "metadata": {},
   "outputs": [],
   "source": [
    "def train_nn(nn,X,y,optimizer,loss_fn,epochs=100,batch_size = 50,reg = 1e-3,print_n=10):\n",
    "    iter = 0\n",
    "    losses = [] \n",
    "    for epoch in range(epochs):\n",
    "        for X_batch,y_bacth in data_iter(X,y,batch_size):     \n",
    "            optimizer.zero_grad()      \n",
    "            \n",
    "            f = nn(X_batch) # nn.forward(X_batch)      \n",
    "            loss,loss_grad = loss_fn(f, y_bacth)       \n",
    "            nn.backward(loss_grad,reg)               \n",
    "            loss += nn.reg_loss(reg)\n",
    "          \n",
    "            optimizer.step()\n",
    "\n",
    "            losses.append(loss)\n",
    "            \n",
    "            if iter%print_n==0:\n",
    "                print(iter,\"iter:\",loss)\n",
    "            iter +=1          \n",
    "\n",
    "    return losses"
   ]
  },
  {
   "cell_type": "markdown",
   "metadata": {},
   "source": [
    "现在可以用这个神经网络去训练前面的3分类的问题"
   ]
  },
  {
   "cell_type": "code",
   "execution_count": 65,
   "metadata": {},
   "outputs": [
    {
     "name": "stdout",
     "output_type": "stream",
     "text": [
      "0 iter: 1.0985916677722303\n",
      "480 iter: 0.7056240023920841\n",
      "960 iter: 0.6422407772314334\n",
      "1440 iter: 0.5246104670488081\n",
      "1920 iter: 0.4186441561530432\n",
      "2400 iter: 0.37118840941018727\n",
      "2880 iter: 0.34583485668931857\n",
      "3360 iter: 0.32954842747580104\n",
      "3840 iter: 0.31961537369884196\n",
      "4320 iter: 0.3124394704919282\n",
      "4800 iter: 0.30620107113884415\n"
     ]
    },
    {
     "data": {
      "text/plain": [
       "[<matplotlib.lines.Line2D at 0x1e4f78f69d0>]"
      ]
     },
     "execution_count": 65,
     "metadata": {},
     "output_type": "execute_result"
    },
    {
     "data": {
      "image/png": "[encoded data removed]",
      "text/plain": [
       "<Figure size 432x288 with 1 Axes>"
      ]
     },
     "metadata": {
      "needs_background": "light"
     },
     "output_type": "display_data"
    }
   ],
   "source": [
    "\n",
    "import data_set as ds\n",
    "import util\n",
    "\n",
    "np.random.seed(1)\n",
    "nn = NeuralNetwork()\n",
    "nn.add_layer(Dense(2, 100,('no',0.01)))\n",
    "nn.add_layer(Relu())\n",
    "nn.add_layer(Dense(100, 3,('no',0.01)))\n",
    "\n",
    "X,y = ds.gen_spiral_dataset()\n",
    "epochs=5000\n",
    "batch_size = len(X)\n",
    "reg = 0.5e-3\n",
    "print_n=480\n",
    "\n",
    "learning_rate = 1e-1\n",
    "momentum = 0.5#\n",
    "optimizer = SGD(nn.parameters(),learning_rate,momentum)\n",
    "\n",
    "losses = train_nn(nn,X,y,optimizer,cross_entropy_grad_loss,epochs,batch_size,reg,print_n)\n",
    "\n",
    "import matplotlib.pylab as plt\n",
    "%matplotlib inline\n",
    "plt.plot(losses)"
   ]
  },
  {
   "cell_type": "markdown",
   "metadata": {},
   "source": [
    "### 4.3.9 fashion-mnist的分类训练"
   ]
  },
  {
   "cell_type": "code",
   "execution_count": 66,
   "metadata": {},
   "outputs": [
    {
     "name": "stdout",
     "output_type": "stream",
     "text": [
      "(60000, 784) (60000,)\n",
      "uint8 uint8\n"
     ]
    }
   ],
   "source": [
    "import mnist_reader\n",
    "X_train, y_train = mnist_reader.load_mnist('data/fashion', kind='train')\n",
    "X_test, y_test = mnist_reader.load_mnist('data/fashion', kind='t10k')\n",
    "print(X_train.shape,y_train.shape)\n",
    "print(X_train.dtype,y_train.dtype)"
   ]
  },
  {
   "cell_type": "code",
   "execution_count": 67,
   "metadata": {},
   "outputs": [
    {
     "name": "stdout",
     "output_type": "stream",
     "text": [
      "(60000, 28, 28)\n"
     ]
    },
    {
     "data": {
      "image/png": "[encoded data removed]",
      "text/plain": [
       "<Figure size 432x288 with 9 Axes>"
      ]
     },
     "metadata": {
      "needs_background": "light"
     },
     "output_type": "display_data"
    }
   ],
   "source": [
    "import numpy as np\n",
    "import matplotlib.pyplot as plt\n",
    "%matplotlib inline\n",
    "trainX = X_train.reshape(-1,28,28)\n",
    "print(trainX.shape)\n",
    "#lot first few images\n",
    "for i in range(9):\n",
    "    # define subplot\n",
    "    plt.subplot(330 + 1 + i)\n",
    "    # plot raw pixel data\n",
    "    plt.imshow(trainX[i], cmap=plt.get_cmap('gray'))\n",
    "# show the figure\n",
    "plt.show()"
   ]
  },
  {
   "cell_type": "code",
   "execution_count": 68,
   "metadata": {},
   "outputs": [
    {
     "name": "stdout",
     "output_type": "stream",
     "text": [
      "72.94035223214286 0.2860402\n"
     ]
    }
   ],
   "source": [
    "train_X = trainX.astype('float32')/255.0\n",
    "print(np.mean(trainX),np.mean(train_X))"
   ]
  },
  {
   "cell_type": "markdown",
   "metadata": {},
   "source": [
    "定义训练的神经网络模型"
   ]
  },
  {
   "cell_type": "code",
   "execution_count": 102,
   "metadata": {},
   "outputs": [],
   "source": [
    "import numpy as np\n",
    "import util\n",
    "##from NeuralNetwork import *\n",
    "##from train import *\n",
    "np.random.seed(1)\n",
    "\n",
    "nn = NeuralNetwork()\n",
    "nn.add_layer(Dense(784, 500))\n",
    "nn.add_layer(Relu())\n",
    "nn.add_layer(Dense(500, 200))\n",
    "nn.add_layer(Relu())\n",
    "nn.add_layer(Dense(200, 100))\n",
    "nn.add_layer(Relu())\n",
    "nn.add_layer(Dense(100, 10))\n",
    "#nn.add_layer(Tanh())"
   ]
  },
  {
   "cell_type": "markdown",
   "metadata": {},
   "source": [
    "定义优化器对象"
   ]
  },
  {
   "cell_type": "code",
   "execution_count": 103,
   "metadata": {},
   "outputs": [],
   "source": [
    "learning_rate = 0.01\n",
    "momentum = 0.9\n",
    "optimizer = SGD(nn.parameters(),learning_rate,momentum)"
   ]
  },
  {
   "cell_type": "code",
   "execution_count": 104,
   "metadata": {},
   "outputs": [
    {
     "name": "stdout",
     "output_type": "stream",
     "text": [
      "0 iter: 2.3016755298047347\n",
      "1000 iter: 1.1510374540057933\n",
      "2000 iter: 0.47471113470221005\n",
      "3000 iter: 0.5333139450988945\n",
      "4000 iter: 0.259167391843765\n",
      "5000 iter: 0.3629363583454308\n",
      "6000 iter: 0.3486191552507917\n",
      "7000 iter: 0.4914253677369693\n"
     ]
    },
    {
     "data": {
      "text/plain": [
       "[<matplotlib.lines.Line2D at 0x1e486700790>]"
      ]
     },
     "execution_count": 104,
     "metadata": {},
     "output_type": "execute_result"
    },
    {
     "data": {
      "image/png": "[encoded data removed]",
      "text/plain": [
       "<Figure size 432x288 with 1 Axes>"
      ]
     },
     "metadata": {
      "needs_background": "light"
     },
     "output_type": "display_data"
    }
   ],
   "source": [
    "epochs=8\n",
    "batch_size = 64\n",
    "reg = 0#1e-3\n",
    "print_n=1000\n",
    "\n",
    "losses = train_nn(nn,train_X,y_train,optimizer,cross_entropy_grad_loss,epochs,batch_size,reg,print_n)\n",
    "\n",
    "plt.plot(losses)"
   ]
  },
  {
   "cell_type": "code",
   "execution_count": 105,
   "metadata": {},
   "outputs": [
    {
     "name": "stdout",
     "output_type": "stream",
     "text": [
      "0.87965\n",
      "0.8585\n"
     ]
    }
   ],
   "source": [
    "print(np.mean(nn.predict(train_X)==y_train))\n",
    "test_X = X_test.reshape(-1,28,28).astype('float32')/255.0\n",
    "print(np.mean(nn.predict(test_X)==y_test))"
   ]
  },
  {
   "cell_type": "markdown",
   "metadata": {},
   "source": [
    "### 4.3. 9 读写模型参数"
   ]
  },
  {
   "cell_type": "code",
   "execution_count": 56,
   "metadata": {},
   "outputs": [],
   "source": [
    "class NeuralNetwork:  \n",
    "    def __init__(self):\n",
    "        self._layers = []\n",
    "        self._params = []\n",
    " \n",
    "    def add_layer(self, layer):      \n",
    "        self._layers.append(layer)\n",
    "        if layer.params: \n",
    "           # for  i in range(len(layer.params)): \n",
    "            for  i, _ in enumerate(layer.params):                         \n",
    "                self._params.append([layer.params[i],layer.grads[i]])            \n",
    "    \n",
    "    def forward(self, X): \n",
    "        for layer in self._layers:\n",
    "            X = layer.forward(X) \n",
    "        return X   \n",
    "\n",
    "    def __call__(self, X):\n",
    "        return self.forward(X)\n",
    "    \n",
    "    def predict(self, X):\n",
    "        \"\"\"\n",
    "        输入X，预测其分类\n",
    "        \"\"\"\n",
    "        p = self.forward(X)\n",
    "        # One row\n",
    "        if p.ndim == 1:     #单样本\n",
    "            return np.argmax(ff)        \n",
    "        # 多样本\n",
    "        return np.argmax(p, axis=1)\n",
    "  \n",
    "   \n",
    "    def backward(self,loss_grad,reg = 0.):\n",
    "        for i in reversed(range(len(self._layers))):\n",
    "            layer = self._layers[i] \n",
    "            loss_grad = layer.backward(loss_grad)\n",
    "            layer.reg_grad(reg) \n",
    "        return loss_grad\n",
    "    \n",
    "    \n",
    "    def backpropagation(self, X, y,loss_function,reg=0):\n",
    "        \"\"\"\n",
    "        反向计算，loss_function函数用于计算损失函数关于输出层的梯度\n",
    "        \"\"\"        \n",
    "        # Feed forward for the output\n",
    "        f = self.forward(X)          \n",
    "        #损失函数关于输出f的梯度\n",
    "        loss,loss_grad = loss_function(f,y)         \n",
    "      \n",
    "        #从loss_grad反向求导\n",
    "        self.zero_grad()\n",
    "        self.backward(loss_grad)  \n",
    "        reg_loss = self.reg_loss_grad(reg)       \n",
    "        return loss+reg_loss\n",
    "        #return np.mean(loss)\n",
    "    \n",
    "    def reg_loss(self,reg):\n",
    "        reg_loss = 0\n",
    "        for i in range(len(self._layers)):\n",
    "            reg_loss+=self._layers[i].reg_loss(reg)\n",
    "        return reg_loss\n",
    "    \n",
    "    def parameters(self): \n",
    "        return self._params\n",
    "    \n",
    "    def zero_grad(self):\n",
    "        for i,_ in enumerate(self._params):           \n",
    "            #self.params[i][1].fill(0.) \n",
    "            self.params[i][1][:] = 0 \n",
    "            \n",
    "    def get_parameters(self):\n",
    "        return self._params \n",
    "    \n",
    "    \n",
    "    def save_parameters(self,filename):\n",
    "        params = {}\n",
    "        for i in range(len(self._layers)):\n",
    "            if self._layers[i].params:\n",
    "                params[i] = self._layers[i].params\n",
    "        np.save(filename, params)\n",
    "                \n",
    "        \n",
    "    def load_parameters(self,filename):\n",
    "        params = np.load(filename,allow_pickle = True)\n",
    "        count = 0\n",
    "        for i in range(len(self._layers)):\n",
    "            if self._layers[i].params:\n",
    "                layer_params = params.item().get(i)\n",
    "                self._layers[i].params = layer_params                \n",
    "                for j in range(len(layer_params)):                   \n",
    "                    self._params[count][0] = layer_params[j]\n",
    "                    count+=1  "
   ]
  },
  {
   "cell_type": "code",
   "execution_count": 57,
   "metadata": {},
   "outputs": [
    {
     "name": "stdout",
     "output_type": "stream",
     "text": [
      "p [[-1.1933103  -0.34171091]\n",
      " [-0.08202091  0.07448119]\n",
      " [ 0.71977306 -0.08260996]]\n",
      "\n",
      "p [[ 0.00687304 -0.0052508 ]]\n",
      "\n",
      "p [[ 1.25016925 -0.27714009 -0.27932718 -1.07294965]\n",
      " [-0.98489125 -0.23448778  0.31553585 -0.80151211]]\n",
      "\n",
      "p [[-0.00451004  0.01688496  0.01032032 -0.01244033]]\n",
      "\n",
      "p [[-1.1933103  -0.34171091]\n",
      " [-0.08202091  0.07448119]\n",
      " [ 0.71977306 -0.08260996]]\n",
      "\n",
      "p [[ 0.00687304 -0.0052508 ]]\n",
      "\n",
      "p [[ 1.25016925 -0.27714009 -0.27932718 -1.07294965]\n",
      " [-0.98489125 -0.23448778  0.31553585 -0.80151211]]\n",
      "\n",
      "p [[-0.00451004  0.01688496  0.01032032 -0.01244033]]\n",
      "\n"
     ]
    }
   ],
   "source": [
    "#from NeuralNetwork import *\n",
    "nn = NeuralNetwork()\n",
    "nn.add_layer(Dense(3, 2,('xavier',0.01)))\n",
    "nn.add_layer(Relu())\n",
    "nn.add_layer(Dense(2, 4,('xavier',0.01)))\n",
    "nn.add_layer(Relu())\n",
    "\n",
    "def print_nn_parameters(params,print_grad=False): \n",
    "    for p,grad in params:  \n",
    "        print(\"p\",p)\n",
    "        if print_grad:\n",
    "            print(\"grad\",grad)\n",
    "        print()    \n",
    "print_nn_parameters(nn.get_parameters())\n",
    "nn.save_parameters('model_params.npy')\n",
    "nn.load_parameters('model_params.npy')\n",
    "print_nn_parameters(nn.get_parameters())"
   ]
  },
  {
   "cell_type": "code",
   "execution_count": null,
   "metadata": {},
   "outputs": [],
   "source": []
  }
 ],
 "metadata": {
  "kernelspec": {
   "display_name": "Python 3",
   "language": "python",
   "name": "python3"
  },
  "language_info": {
   "codemirror_mode": {
    "name": "ipython",
    "version": 3
   },
   "file_extension": ".py",
   "mimetype": "text/x-python",
   "name": "python",
   "nbconvert_exporter": "python",
   "pygments_lexer": "ipython3",
   "version": "3.8.2"
  }
 },
 "nbformat": 4,
 "nbformat_minor": 4
}
