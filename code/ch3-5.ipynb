{
 "cells": [
  {
   "cell_type": "markdown",
   "metadata": {},
   "source": [
    "本书配套视频课程：[解剖深度学习原理，从0实现深度学习库](https://ke.qq.com/course/2900371?tuin=ac5537fd) \n",
    "\n",
    "更多代码或学习资料将向购买视频课程或书的学生提供。\n",
    "\n",
    "\n",
    "+ 博客网站：[https://hwdong-net.github.io](https://hwdong-net.github.io)\n",
    "+ youtube频道: [hwdong](http://www.youtube.com/c/hwdong)\n",
    "+ bilibili网站：[hw-dong](https://space.bilibili.com/281453312)\n",
    "\n",
    "## 3.5 逻辑回归\n",
    "\n",
    "\n",
    "二分类交叉熵损失：\n",
    "\n",
    "$$\\mathcal L(\\pmb w) = -\\frac{1}{m}\\sum_{i=1}^{m}\\bigl (y^i log(f_{\\pmb w}({\\pmb x}^i)) +(1-y^i) log(1-f_{\\pmb w}({\\pmb x}^i))\\bigr ) $$\n",
    "\n",
    "将样本写成行向量形式，梯度$\\nabla_{\\pmb w} { L(\\pmb w)}$也写成行向量形式，可表示为：\n",
    "\n",
    " $$\\nabla_{\\pmb w} { L(\\pmb w)} = \\frac{1}{m} {\\bigl( \\pmb f- \\pmb y \\bigr )}^T X =  \\frac{1}{m} {\\bigl( \\sigma(\\pmb X \\pmb w)- \\pmb  y \\bigr )}^T X \\tag{3-38}$$\n",
    " \n",
    "将样本写成列向量形式， 将梯度写成行向量形式，则：\n",
    "\n",
    "$$\\begin{aligned} \\nabla_{\\pmb w} { L(\\pmb w)} &= \\begin{bmatrix}\n",
    "\\frac {\\partial L(\\pmb w)} {\\partial {w_0} }  &\n",
    "\\frac {\\partial L(\\pmb w)} {\\partial {w_1} } &\n",
    "\\frac {\\partial L(\\pmb w)} {\\partial {w_2} } &\n",
    "\\cdots &\n",
    "\\frac {\\partial L(\\pmb w)} {\\partial {w_K} } &\n",
    "\\end{bmatrix}= \\frac{1}{m} {\\bigl (\\pmb f-\\pmb y\\bigr )} {\\pmb X}^T \\end{aligned} \\tag{3-39}$$\n",
    "\n",
    "给逻辑回归的损失函数添加正则化，即$L(\\pmb w)$为：\n",
    "\n",
    "$$L(\\pmb w) = -\\frac{1}{m}\\sum_{i=1}^{m}(y^i log(f_{\\pmb w}({\\pmb x}^i)) +(1-y^i) log(1-f_{\\pmb w}({\\pmb x}^i))) + \\lambda \\|{\\pmb w}\\|^2 \\tag{3-40}$$\n",
    "\n",
    "相应的，$L(\\pmb w)$关于$\\pmb w$的梯度就是：\n",
    "\n",
    "$$ \\nabla_{\\pmb w} { L(\\pmb w)}  = \\frac{1}{m}\\sum_{i=1}^{m} (f_{\\pmb w}({\\pmb x}^i)-y^i){\\pmb x}^i+2\\lambda \\pmb w \\tag{3-41}$$\n",
    "\n",
    "如果每个样本$\\pmb x$是行向量形式，多个样本的$\\pmb f, \\pmb y$和模型参数$\\pmb w$都是列向量形式，则可以写成如下的向量形式：\n",
    "\n",
    " $$\\nabla_{\\pmb w} { L(\\pmb w)} = \\frac{1}{m} {\\bigl( \\pmb f- \\pmb y \\bigr )}^T X + 2\\lambda \\pmb w =  \\frac{1}{m} {\\bigl( \\sigma(\\pmb X \\pmb w)- \\pmb  y \\bigr )}^T X + 2\\lambda \\pmb w \\tag{3-42}$$"
   ]
  },
  {
   "cell_type": "markdown",
   "metadata": {},
   "source": [
    "### 3.5.2 逻辑回归的numpy实现\n",
    "\n",
    "#### 1. 生成数据\n",
    "\n",
    "用np.random.normal()生成服从不同正态分布的2组二维坐标点数据集合Xa和Xb，每个样本表示二维平面上的一个坐标点。Xa中的样本是围绕中心点(10,12)的正态分布的采样点，Xb中的样本是围绕中心点(5,6)的正态分布的采样点。代码用不同颜色表示这些样本以区别它们所属的类别。"
   ]
  },
  {
   "cell_type": "code",
   "execution_count": 1,
   "metadata": {},
   "outputs": [
    {
     "name": "stdout",
     "output_type": "stream",
     "text": [
      "[[13.52810469 15.76630139]\n",
      " [ 8.20906688 11.86351679]\n",
      " [ 4.26163632  3.3869463 ]\n",
      " [ 6.04212975  4.47171215]]\n",
      "[0. 0. 1. 1.]\n"
     ]
    }
   ],
   "source": [
    "import numpy as np\n",
    "import matplotlib.pyplot as plt\n",
    "%matplotlib inline\n",
    "\n",
    "# Persistent random data\n",
    "np.random.seed(0)\n",
    "\n",
    "n_pts = 100\n",
    "D = 2\n",
    "\n",
    "#x0 = np.ones(n_pts)\n",
    "Xa = np.array([#x0,\n",
    "               np.random.normal(10, 2, n_pts),\n",
    "               np.random.normal(12, 2, n_pts)])\n",
    "Xb = np.array([#x0,\n",
    "               np.random.normal(5, 2, n_pts),\n",
    "               np.random.normal(6, 2, n_pts)])\n",
    "\n",
    "\n",
    "X = np.append(Xa, Xb, axis=1).T\n",
    "#y = np.matrix(np.append(np.zeros(n_pts), np.ones(n_pts))).T\n",
    "y = (np.append(np.zeros(n_pts), np.ones(n_pts))).T\n",
    "print(X[::50])\n",
    "print(y[::50])"
   ]
  },
  {
   "cell_type": "code",
   "execution_count": 2,
   "metadata": {},
   "outputs": [
    {
     "data": {
      "image/png": "[encoded data removed]",
      "text/plain": [
       "<Figure size 288x288 with 1 Axes>"
      ]
     },
     "metadata": {
      "needs_background": "light"
     },
     "output_type": "display_data"
    }
   ],
   "source": [
    "fig, ax = plt.subplots(figsize=(4,4))\n",
    "ax.scatter(X[:n_pts,0], X[:n_pts,1], color='lightcoral',\n",
    "          label='$Y = 0$')\n",
    "ax.scatter(X[n_pts:,0], X[n_pts:,1], color='blue',\n",
    "          label='$Y = 1$')\n",
    "ax.set_title('Sample Dataset')\n",
    "ax.set_xlabel('$x_1$')\n",
    "ax.set_ylabel('$x_2$')\n",
    "ax.legend(loc=4);"
   ]
  },
  {
   "cell_type": "markdown",
   "metadata": {},
   "source": [
    "#### 2. 梯度下降法的代码实现\n",
    "\n",
    "逻辑回归的基于动量法的梯度下降法："
   ]
  },
  {
   "cell_type": "code",
   "execution_count": 5,
   "metadata": {},
   "outputs": [],
   "source": [
    "def sigmoid(z):    \n",
    "    return 1 / (1 + np.exp(-z))\n",
    "\n",
    "def gradient_descent_logistic_reg(X, y, lambda_, alpha, num_iters,gamma = 0.8,epsilon=1e-8):\n",
    "    #cost_history = []          # create a vector to store the cost history\n",
    "    w_history = []          # 记录迭代过程中的参数\n",
    "    X = np.hstack((np.ones((X.shape[0], 1), dtype=X.dtype),X))  #添加一列特征1    \n",
    "    num_features = X.shape[1] \n",
    "    v= np.zeros_like(num_features)\n",
    "    w = np.zeros(num_features)    \n",
    "    for n in range(num_iters):\n",
    "        predictions = sigmoid(X @ w)                 #求假设函数的预测值，即f(x)\n",
    "        errors = predictions - y                   # 预测值和真实值的误差\n",
    "        #gradient = X.transpose() @ errors /len(y)        #计算梯度\n",
    "        gradient = errors.transpose() @ X /len(y)        #计算梯度\n",
    "        loss_grad = errors /len(y)\n",
    "       \n",
    "       \n",
    "        gradient += 2*lambda_*w\n",
    "        if np.max(np.abs(gradient))<epsilon:\n",
    "            print(\"gradient is small enough!\")\n",
    "            print(\"iterated num is :\",n)\n",
    "            break\n",
    "        #w -= alpha * gradient        #更新模型的参数\n",
    "        v = gamma*v+alpha* gradient\n",
    "        w= w-v             \n",
    "        \n",
    "        #cost = - np.mean((np.log(predictions).T * y+np.log(1-predictions).T *(1-y) ))\n",
    "        #cost_history.append(cost) \n",
    "        w_history.append(w)     \n",
    "            \n",
    "    return w_history                  # return optimized parameters and cost history"
   ]
  },
  {
   "cell_type": "markdown",
   "metadata": {},
   "source": [
    "#### 3. 计算损失函数值\n",
    "\n",
    "对于一个$w$和一组样本$(X,y)$，可用下列函数计算损失函数值："
   ]
  },
  {
   "cell_type": "code",
   "execution_count": 6,
   "metadata": {},
   "outputs": [],
   "source": [
    "def loss_logistic(w,X,y,reg=0.):   \n",
    "    f = sigmoid(X @ w[1:]+w[0])\n",
    "    loss = -np.mean((np.log(f).T * y+np.log(1-f).T *(1-y) ))\n",
    "    loss += reg*( np.sum(np.square(w)))\n",
    "    return loss\n",
    "\n",
    "def loss_history_logistic(w_history,X,y,reg=0.):\n",
    "    #X = np.hstack((np.ones((X.shape[0], 1), dtype=X.dtype),X)) \n",
    "    loss_history = []\n",
    "    for w in w_history:\n",
    "        loss_history.append(loss_logistic(w,X,y,reg))\n",
    "    return loss_history"
   ]
  },
  {
   "cell_type": "code",
   "execution_count": 7,
   "metadata": {},
   "outputs": [
    {
     "name": "stdout",
     "output_type": "stream",
     "text": [
      "w: [11.3920102  -0.55377808 -0.83931251]\n",
      "[0.6577262444936194, 0.2267463703642394, 0.15646446608041154, 0.12698570286225017, 0.11034864425987873, 0.09949355960364478, 0.09177469381378581, 0.08596435646154407, 0.08141010065377202, 0.07773089221384288]\n"
     ]
    },
    {
     "data": {
      "text/plain": [
       "[<matplotlib.lines.Line2D at 0x2553a44ffd0>]"
      ]
     },
     "execution_count": 7,
     "metadata": {},
     "output_type": "execute_result"
    },
    {
     "data": {
      "image/png": "[encoded data removed]",
      "text/plain": [
       "<Figure size 432x288 with 1 Axes>"
      ]
     },
     "metadata": {
      "needs_background": "light"
     },
     "output_type": "display_data"
    }
   ],
   "source": [
    "reg = 0.0\n",
    "alpha=0.01\n",
    "iterations=10000\n",
    "w_history = gradient_descent_logistic_reg(X,y,reg,alpha,iterations)\n",
    "w = w_history[-1]\n",
    "print(\"w:\",w)\n",
    "\n",
    "loss_history = loss_history_logistic(w_history,X,y,reg)\n",
    "print(loss_history[:-1:len(loss_history)//10])\n",
    "plt.plot(loss_history)"
   ]
  },
  {
   "cell_type": "markdown",
   "metadata": {},
   "source": [
    "#### 4. 决策曲线\n",
    "\n",
    "对一组{$x_1$}，根据$\\pmb w$算出其对应的{$x_2 = -w_0/w_2-w_1*x_1/w_2$}，然后在$(x_1,x_2)$坐标平面上绘制这些点对应的决策直线，可以看出学习到的模型可以很好地区分这2个类别的样本。绘制的代价曲线也反应了算法是逐渐收敛的。"
   ]
  },
  {
   "cell_type": "code",
   "execution_count": 8,
   "metadata": {},
   "outputs": [
    {
     "data": {
      "image/png": "[encoded data removed]",
      "text/plain": [
       "<Figure size 576x288 with 2 Axes>"
      ]
     },
     "metadata": {
      "needs_background": "light"
     },
     "output_type": "display_data"
    }
   ],
   "source": [
    "fig, ax = plt.subplots(nrows=1, ncols=2, figsize=(8,4))\n",
    "\n",
    "x1 = np.array([X[:,0].min()-1, X[:,0].max()+1])\n",
    "x2 = - w.item(0) / w.item(2) + x1 * (- w.item(1) / w.item(2))\n",
    "\n",
    "# Plot decision boundary？？？\n",
    "ax[0].plot(x1, x2, color='k', ls='--', lw=2)\n",
    "\n",
    "ax[0].scatter(X[:int(n_pts),0], X[:int(n_pts),1], color='lightcoral', label='$y = 0$')\n",
    "ax[0].scatter(X[int(n_pts):,0], X[int(n_pts):,1], color='blue', label='$y = 1$')\n",
    "ax[0].set_title('$x_1$ vs. $x_2$')\n",
    "ax[0].set_xlabel('$x_1$')\n",
    "ax[0].set_ylabel('$x_2$')\n",
    "ax[0].legend(loc=4)\n",
    "\n",
    "ax[1].plot(loss_history, color='r')\n",
    "ax[1].set_ylim(0,ax[1].get_ylim()[1])\n",
    "ax[1].set_title(r'$J(w)$ vs. Iteration')\n",
    "ax[1].set_xlabel('Iteration')\n",
    "ax[1].set_ylabel(r'$J(w)$')\n",
    "\n",
    "fig.tight_layout()"
   ]
  },
  {
   "cell_type": "markdown",
   "metadata": {},
   "source": [
    "#### 5. 预测的准确性"
   ]
  },
  {
   "cell_type": "code",
   "execution_count": 9,
   "metadata": {},
   "outputs": [
    {
     "name": "stdout",
     "output_type": "stream",
     "text": [
      "预测的准确度是: 98 % \n"
     ]
    }
   ],
   "source": [
    "X_1 = np.hstack((np.ones((X.shape[0], 1), dtype=X.dtype),X))  #添加一列特征1\n",
    "y_predictions = sigmoid(X_1 @ w)>=0.5\n",
    "\n",
    "print ('预测的准确度是: %d ' % float((np.dot(y, y_predictions) \n",
    "                               + np.dot(1 - y,1 - y_predictions)) / float(y.size) * 100) +'% ')"
   ]
  },
  {
   "cell_type": "markdown",
   "metadata": {},
   "source": [
    "#### 6. Scikit-Learn库的逻辑回归"
   ]
  },
  {
   "cell_type": "code",
   "execution_count": 10,
   "metadata": {},
   "outputs": [
    {
     "name": "stdout",
     "output_type": "stream",
     "text": [
      "Scikit score:  0.98\n",
      "预测的准确度是: 98 % \n"
     ]
    },
    {
     "data": {
      "text/plain": [
       "[<matplotlib.lines.Line2D at 0x2554ab76850>]"
      ]
     },
     "execution_count": 10,
     "metadata": {},
     "output_type": "execute_result"
    },
    {
     "data": {
      "image/png": "[encoded data removed]",
      "text/plain": [
       "<Figure size 288x288 with 1 Axes>"
      ]
     },
     "metadata": {
      "needs_background": "light"
     },
     "output_type": "display_data"
    }
   ],
   "source": [
    "import sklearn\n",
    "from sklearn.linear_model import LogisticRegression\n",
    "from sklearn.model_selection import train_test_split\n",
    "\n",
    "scikit_log_reg = sklearn.linear_model.LogisticRegression();\n",
    "scikit_log_reg.fit(X,y)\n",
    "\n",
    "#Score is Mean Accuracy\n",
    "scikit_score = scikit_log_reg.score(X,y)\n",
    "print('Scikit score: ', scikit_score)\n",
    "\n",
    "# Print accuracy\n",
    "y_predictions = scikit_log_reg.predict(X)\n",
    "print ('预测的准确度是: %d ' % float((np.dot(y, y_predictions) \n",
    "        + np.dot(1 - y,1 - y_predictions)) / float(y.size) * 100) +    '% ' )\n",
    "\n",
    "#plot_decision_boundary(lambda x: clf.predict(x), X, Y)\n",
    "# Plot decision boundary\n",
    "x1 = np.array([X[:,0].min()-1, X[:,0].max()+1])\n",
    "x2 = - w.item(0) / w.item(2) + x1 * (- w.item(1) / w.item(2))\n",
    "\n",
    "fig, ax = plt.subplots(figsize=(4,4))\n",
    "ax.scatter(X[:n_pts,0], X[:n_pts,1], color='lightcoral',\n",
    "          label='$Y = 0$')\n",
    "ax.scatter(X[n_pts:,0], X[n_pts:,1], color='blue',\n",
    "          label='$Y = 1$')\n",
    "ax.set_title('Sample Dataset')\n",
    "ax.set_xlabel('$x_1$')\n",
    "ax.set_ylabel('$x_2$')\n",
    "\n",
    "ax.plot(x1, x2, color='k', ls='--', lw=2)"
   ]
  },
  {
   "cell_type": "code",
   "execution_count": null,
   "metadata": {},
   "outputs": [],
   "source": []
  }
 ],
 "metadata": {
  "kernelspec": {
   "display_name": "Python 3",
   "language": "python",
   "name": "python3"
  },
  "language_info": {
   "codemirror_mode": {
    "name": "ipython",
    "version": 3
   },
   "file_extension": ".py",
   "mimetype": "text/x-python",
   "name": "python",
   "nbconvert_exporter": "python",
   "pygments_lexer": "ipython3",
   "version": "3.8.2"
  }
 },
 "nbformat": 4,
 "nbformat_minor": 4
}
