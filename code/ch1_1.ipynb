{
 "cells": [
  {
   "cell_type": "markdown",
   "metadata": {},
   "source": [
    "本书配套视频课程：[解剖深度学习原理，从0实现深度学习库](https://ke.qq.com/course/2900371?tuin=ac5537fd) \n",
    "\n",
    "更多代码或学习资料将向购买视频课程或书的学生提供。\n",
    "\n",
    "\n",
    "+ 博客网站：[https://hwdong-net.github.io](https://hwdong-net.github.io)\n",
    "+ youtube频道: [hwdong](http://www.youtube.com/c/hwdong)\n",
    "+ bilibili网站：[hw-dong](https://space.bilibili.com/281453312)\n",
    "\n",
    "\n",
    "## 1.1 Python快读入门\n",
    "\n",
    "#### 安装Python\n",
    "\n",
    "Ubuntu系统：\n",
    "```python\n",
    "$ sudo apt-get update\n",
    "$ sudo apt-get install python3.6\n",
    "```\n",
    "Mac系统\n",
    "```python\n",
    "brew install python3\n",
    "```\n",
    "windows系统：官网https://www.python.org/downloads 下载并运行Python3安装程序。\n",
    "\n",
    "运行python解释器：\n",
    "```\n",
    "C:\\Users\\hwdon>python\n",
    "Python 3.8.2 (tags/v3.8.2:7b3ab59, Feb 25 2020, 23:03:10) [MSC v.1916 64 bit (AMD64)] on win32\n",
    "Type \"help\", \"copyright\", \"credits\" or \"license\" for more information.\n",
    ">>>\n",
    "```\n",
    "\n",
    "#### 安装jupyter notebook\n",
    "```python\n",
    "pip install --upgrade pip\n",
    "pip install jupyter\n",
    "```\n",
    "\n",
    "#### Anaconda安装工具\n",
    "\n",
    "在Anaconda官网[https://www.anaconda.com](https://www.anaconda.com) 下载并安装Anaconda即可"
   ]
  },
  {
   "cell_type": "markdown",
   "metadata": {},
   "source": [
    "### 1.1.2  对象和变量\n",
    "\n",
    "#### 1.  对象\n",
    "\n",
    "用type()查询数据的类型："
   ]
  },
  {
   "cell_type": "code",
   "execution_count": 2,
   "metadata": {},
   "outputs": [
    {
     "data": {
      "text/plain": [
       "int"
      ]
     },
     "execution_count": 2,
     "metadata": {},
     "output_type": "execute_result"
    }
   ],
   "source": [
    "type(2)"
   ]
  },
  {
   "cell_type": "code",
   "execution_count": 3,
   "metadata": {},
   "outputs": [
    {
     "data": {
      "text/plain": [
       "float"
      ]
     },
     "execution_count": 3,
     "metadata": {},
     "output_type": "execute_result"
    }
   ],
   "source": [
    "type(3.14)"
   ]
  },
  {
   "cell_type": "code",
   "execution_count": 4,
   "metadata": {},
   "outputs": [
    {
     "data": {
      "text/plain": [
       "str"
      ]
     },
     "execution_count": 4,
     "metadata": {},
     "output_type": "execute_result"
    }
   ],
   "source": [
    "type(\"http://hwdong-net.github.io\")"
   ]
  },
  {
   "cell_type": "code",
   "execution_count": 5,
   "metadata": {},
   "outputs": [
    {
     "data": {
      "text/plain": [
       "bool"
      ]
     },
     "execution_count": 5,
     "metadata": {},
     "output_type": "execute_result"
    }
   ],
   "source": [
    "type(True)"
   ]
  },
  {
   "cell_type": "markdown",
   "metadata": {},
   "source": [
    "内置函数print()函数可以输出一系列用逗号','隔开的对象，如："
   ]
  },
  {
   "cell_type": "code",
   "execution_count": 6,
   "metadata": {},
   "outputs": [
    {
     "name": "stdout",
     "output_type": "stream",
     "text": [
      "2 3.14\n",
      "youtube频道：hwdong True\n"
     ]
    }
   ],
   "source": [
    "print(2,3.14)\n",
    "print(\"youtube频道：hwdong\",True)"
   ]
  },
  {
   "cell_type": "markdown",
   "metadata": {},
   "source": [
    "类型转换"
   ]
  },
  {
   "cell_type": "code",
   "execution_count": 7,
   "metadata": {},
   "outputs": [
    {
     "name": "stdout",
     "output_type": "stream",
     "text": [
      "3\n",
      "<class 'int'>\n",
      "3.14\n",
      "<class 'float'>\n"
     ]
    }
   ],
   "source": [
    "print(int(3.14))             # 将3.14从float浮点类型转化为int整数类型\n",
    "print(type(int(3.14)))       #输出int(3.14)的类型\n",
    "print(float(\"3.14\"))\n",
    "print(type(float(\"3.14\")))    # 将\"3.14\"从str字符串类型转化为float浮点类型"
   ]
  },
  {
   "cell_type": "markdown",
   "metadata": {},
   "source": [
    "#### 变量\n",
    "\n",
    "给一个对象起一个名字，叫做**变量**。"
   ]
  },
  {
   "cell_type": "code",
   "execution_count": 8,
   "metadata": {},
   "outputs": [
    {
     "name": "stdout",
     "output_type": "stream",
     "text": [
      "3.14\n",
      "6.28\n"
     ]
    }
   ],
   "source": [
    "pi = 3.14\n",
    "print(pi)\n",
    "print(2*pi)"
   ]
  },
  {
   "cell_type": "markdown",
   "metadata": {},
   "source": [
    "python的变量可以随时“变换大王旗”。"
   ]
  },
  {
   "cell_type": "code",
   "execution_count": null,
   "metadata": {},
   "outputs": [],
   "source": [
    "a = 3.14              #a是对象3.14的引用\n",
    "b = a                 #b和a引用同一个对象3.14\n",
    "a = \"hwdong-net.github.io\"      # a引用了新的字符串对象\"hwdong-net.github.io\"\n",
    "print(a)\n",
    "print(b)"
   ]
  },
  {
   "cell_type": "markdown",
   "metadata": {},
   "source": [
    "内置函数input()可以用于从键盘输入一个字符串，并可以给该函数传递一个提示串。可以将输入的字符串类型转换为其他类型的数据，如："
   ]
  },
  {
   "cell_type": "code",
   "execution_count": 9,
   "metadata": {},
   "outputs": [
    {
     "name": "stdout",
     "output_type": "stream",
     "text": [
      "王安\n",
      "name:  王安\n",
      "请输入分数：67.5\n",
      "score:  67.5\n"
     ]
    }
   ],
   "source": [
    "name = input()\n",
    "print(\"name: \",name)\n",
    "score = float(input(\"请输入分数：\"))  #先显示提示串，再等待输入，最后将输入字符串转化为float类型 \n",
    "print(\"score: \",score)"
   ]
  },
  {
   "cell_type": "markdown",
   "metadata": {},
   "source": [
    "### 1.1.3  运算\n",
    "\n",
    "算数运算符："
   ]
  },
  {
   "cell_type": "code",
   "execution_count": null,
   "metadata": {},
   "outputs": [],
   "source": [
    "x = 15\n",
    "y = 2\n",
    "print('x + y =',x+y)\n",
    "print('x - y =',x-y)\n",
    "print('x * y =',x*y)\n",
    "print('x / y =',x/y)\n",
    "print('x // y =',x//y)\n",
    "print('x ** y =',x**y)\n",
    "print('x % y =',x%y)"
   ]
  },
  {
   "cell_type": "markdown",
   "metadata": {},
   "source": [
    "比较运算符==、!=、>、<、>=、<="
   ]
  },
  {
   "cell_type": "code",
   "execution_count": 10,
   "metadata": {},
   "outputs": [
    {
     "name": "stdout",
     "output_type": "stream",
     "text": [
      "x > y is True\n",
      "x < y is False\n",
      "x == y is False\n",
      "x != y is True\n",
      "x >= y is True\n",
      "x <= y is False\n"
     ]
    }
   ],
   "source": [
    "x = 15\n",
    "y = 2\n",
    "print('x > y is',x>y)\n",
    "print('x < y is',x<y)\n",
    "print('x == y is',x==y)\n",
    "print('x != y is',x!=y)\n",
    "print('x >= y is',x>=y)\n",
    "print('x <= y is',x<=y)"
   ]
  },
  {
   "cell_type": "markdown",
   "metadata": {},
   "source": [
    "逻辑运算符and、or、not分别表示逻辑与、逻辑或、逻辑非。\n",
    "\n",
    "- 对一个对象x，当x是真 （True或非0值或非空值）时，not x就是False，当x是假（False或0或空值）时，not x就是True（真）。"
   ]
  },
  {
   "cell_type": "code",
   "execution_count": 11,
   "metadata": {},
   "outputs": [
    {
     "name": "stdout",
     "output_type": "stream",
     "text": [
      "True True True False False\n"
     ]
    }
   ],
   "source": [
    "print(not 0,end = ' ')               #print()默认输出后换行，通过传给end参数一个空格' '，使得只输出空格而不换行\n",
    "print(not \"\",end = ' ')       \n",
    "print(not False,end = ' ')\n",
    "print(not 2,end = ' ')\n",
    "print(not \"hwdong\")   "
   ]
  },
  {
   "cell_type": "markdown",
   "metadata": {},
   "source": [
    "- 对于2个对象x、y，当x是真时，x or y的结果就是x，当x是假时，x or y的结果就是y。"
   ]
  },
  {
   "cell_type": "code",
   "execution_count": 13,
   "metadata": {},
   "outputs": [
    {
     "name": "stdout",
     "output_type": "stream",
     "text": [
      "3 2 True 2\n"
     ]
    }
   ],
   "source": [
    "print(3 or 2,end = ' ')            #因为3是真，3 or 2的结果就是3\n",
    "print(0 or 2,end = ' ')            #因为0是假，0 or 2的结果就是2\n",
    "print(False or True,end = ' ') \n",
    "print(\"\" or 2)                    #因为空字符串\"\"是假，\"\" or 2的结果就是2"
   ]
  },
  {
   "cell_type": "markdown",
   "metadata": {},
   "source": [
    "- 对于2个对象x、y，当x是真时，x and y的结果就是y，当x是假时，x and y的结果就是x。"
   ]
  },
  {
   "cell_type": "code",
   "execution_count": 14,
   "metadata": {},
   "outputs": [
    {
     "name": "stdout",
     "output_type": "stream",
     "text": [
      "2 0  False\n"
     ]
    }
   ],
   "source": [
    "print(3 and 2,end = ' ')           #因为3是真，3 and 2的结果就是2\n",
    "print(0 and 2,end = ' ')           #因为0是假，0 and 2的结果就是0\n",
    "print(\"\" and 2,end = ' ')          #因为空字符串\"\"是假，\"\" and 2的结果就是\"\"，因此没有输出\n",
    "print(False and True)"
   ]
  },
  {
   "cell_type": "markdown",
   "metadata": {},
   "source": [
    "Python还有移位运算符（如位与&、位或|、异或^、取反~、左移<<、右移>>）等其他运算符。\n",
    "\n",
    "运算符=也可以与其他的算术运算符、位运算符结合使用。如：\n",
    "```\n",
    "+=  -+   *=  /=   %=   **=  &=  |=  ^=  ~= <<= >>=  \n",
    "```"
   ]
  },
  {
   "cell_type": "markdown",
   "metadata": {},
   "source": [
    "id()函数"
   ]
  },
  {
   "cell_type": "code",
   "execution_count": 18,
   "metadata": {},
   "outputs": [
    {
     "name": "stdout",
     "output_type": "stream",
     "text": [
      "140705807324864\n",
      "140705807324960\n"
     ]
    }
   ],
   "source": [
    "x=2                   # 给对象2起了一个变量名x\n",
    "print(id(x))          # 内置函数id()输出一个对象的id（相当于内存地址）\n",
    "x+=3                  # 等价于 x= x+2,即变量名x指向了原来x引用的2和3相加的结果对象。\n",
    "print(id(x))      "
   ]
  },
  {
   "cell_type": "markdown",
   "metadata": {},
   "source": [
    "除id()函数外，还可以用身份运算符is和is not用于判断两个变量（标识符）是不是引用的同一个对象。"
   ]
  },
  {
   "cell_type": "code",
   "execution_count": 20,
   "metadata": {},
   "outputs": [
    {
     "name": "stdout",
     "output_type": "stream",
     "text": [
      "1914089469328 1914089469424 1914089469328\n",
      "False\n",
      "True\n",
      "True\n"
     ]
    }
   ],
   "source": [
    "a = 3.14\n",
    "b = 3.15\n",
    "c = a\n",
    "print(id(a),id(b),id(c))\n",
    "print(a is b)\n",
    "print(a is not b)\n",
    "print(a is  c)"
   ]
  },
  {
   "cell_type": "markdown",
   "metadata": {},
   "source": [
    "运算符in、not in用于判断一个值（对象）是否在一个容器对象中。如："
   ]
  },
  {
   "cell_type": "code",
   "execution_count": 21,
   "metadata": {},
   "outputs": [
    {
     "name": "stdout",
     "output_type": "stream",
     "text": [
      "True\n",
      "False\n"
     ]
    }
   ],
   "source": [
    "print(\"h\"in\"hwdong\")\n",
    "print(\"h\"not in\"hwdong\")"
   ]
  },
  {
   "cell_type": "markdown",
   "metadata": {},
   "source": [
    "### 1.1.4 控制语句\n",
    "\n",
    "#### 1.  if语句"
   ]
  },
  {
   "cell_type": "code",
   "execution_count": 23,
   "metadata": {},
   "outputs": [
    {
     "name": "stdout",
     "output_type": "stream",
     "text": [
      "67.5\n",
      "恭喜你!\n",
      "通过了考试。\n"
     ]
    }
   ],
   "source": [
    "score = float(input())\n",
    "if score>=60:\n",
    "   print(\"恭喜你!\")\n",
    "   print(\"通过了考试。\")"
   ]
  },
  {
   "cell_type": "code",
   "execution_count": 24,
   "metadata": {},
   "outputs": [
    {
     "name": "stdout",
     "output_type": "stream",
     "text": [
      "请输入成绩：45.5\n",
      "你未通过考试。\n",
      "继续努力，加油！\n"
     ]
    }
   ],
   "source": [
    "score= float(input(\"请输入成绩：\"));\n",
    "if score>=60:                            #如果score>=60就执行if里的程序块\n",
    "    print(\"恭喜你!\")\n",
    "    print(\"通过了考试。\")\n",
    "else:                                    #否则，执行else程序块\n",
    "    print(\"你未通过考试。\")\n",
    "    print(\"继续努力，加油！\")"
   ]
  },
  {
   "cell_type": "code",
   "execution_count": 25,
   "metadata": {},
   "outputs": [
    {
     "name": "stdout",
     "output_type": "stream",
     "text": [
      "请输入学生成绩：78.6\n",
      "中等\n"
     ]
    }
   ],
   "source": [
    "score= float(input(\"请输入学生成绩：\"));\n",
    "if score<60:                #如果score<60，就执行这个if程序块\n",
    "    print(\"不及格\")\n",
    "elif score<70:              #否则如果score<60，就执行这个elif程序块\n",
    "    print(\"及格\")\n",
    "elif score<80:              #否则如果score<80，就执行这个elif程序块\n",
    "    print(\"中等\")\n",
    "elif score<90:              #否则如果score<69，就执行这个elif程序块\n",
    "    print(\"良好\")\n",
    "else:                       #否则（其他情况），就执行这个else程序块\n",
    "    print(\"优秀\");     "
   ]
  },
  {
   "cell_type": "markdown",
   "metadata": {},
   "source": [
    "#### 2. while语句"
   ]
  },
  {
   "cell_type": "code",
   "execution_count": 26,
   "metadata": {},
   "outputs": [
    {
     "name": "stdout",
     "output_type": "stream",
     "text": [
      "5050\n"
     ]
    }
   ],
   "source": [
    "i = 1\n",
    "s = 0\n",
    "while i<=100:\n",
    "   s = s+i;      #等价于  s += i\n",
    "   i+=1\n",
    "print(s)"
   ]
  },
  {
   "cell_type": "code",
   "execution_count": 27,
   "metadata": {},
   "outputs": [
    {
     "name": "stdout",
     "output_type": "stream",
     "text": [
      "请输入学生成绩：45.7\n",
      "请输入学生成绩：78.6\n",
      "请输入学生成绩：89.4\n",
      "请输入学生成绩：56.2\n",
      "请输入学生成绩：-9\n",
      "平均成绩为： 67.475\n"
     ]
    }
   ],
   "source": [
    "total_score=0\n",
    "i= 0\n",
    "score = float(input(\"请输入学生成绩：\"))\n",
    "while True:\n",
    "    total_score += score\n",
    "    i += 1\n",
    "    score = float(input(\"请输入学生成绩：\"))\n",
    "    if  score<0:\n",
    "        break                           #关键字break用于跳出循环   \n",
    "    \n",
    "print('平均成绩为：', total_score/i) "
   ]
  },
  {
   "cell_type": "markdown",
   "metadata": {},
   "source": [
    "#### 3. for语句"
   ]
  },
  {
   "cell_type": "code",
   "execution_count": 28,
   "metadata": {},
   "outputs": [
    {
     "name": "stdout",
     "output_type": "stream",
     "text": [
      "h w d o n g "
     ]
    }
   ],
   "source": [
    "for ch in \"hwdong\":\n",
    "    print(ch,end=\" \")"
   ]
  },
  {
   "cell_type": "markdown",
   "metadata": {},
   "source": [
    "### 1.1.5  Python常用容器类型\n",
    "\n",
    "#### 1.  list（列表）\n",
    "\n",
    "定义列表对象是用一对左右方括号```[ ]```包围，数据元素之间用逗号隔开。"
   ]
  },
  {
   "cell_type": "code",
   "execution_count": 29,
   "metadata": {},
   "outputs": [
    {
     "name": "stdout",
     "output_type": "stream",
     "text": [
      "[2, 5, 8]\n"
     ]
    },
    {
     "data": {
      "text/plain": [
       "list"
      ]
     },
     "execution_count": 29,
     "metadata": {},
     "output_type": "execute_result"
    }
   ],
   "source": [
    "a = [2,5,8]\n",
    "print(a)\n",
    "type(a)"
   ]
  },
  {
   "cell_type": "markdown",
   "metadata": {},
   "source": [
    "列表中元素可以是任意对象："
   ]
  },
  {
   "cell_type": "code",
   "execution_count": 30,
   "metadata": {},
   "outputs": [
    {
     "name": "stdout",
     "output_type": "stream",
     "text": [
      "[2, 3.14, True, [3, 6, 9], 'python']\n",
      "<class 'list'>\n"
     ]
    }
   ],
   "source": [
    "my_list =[2, 3.14,True,[3,6,9],'python']\n",
    "print(my_list)\n",
    "print(type(my_list))  #打印my_list的类型，即list类型"
   ]
  },
  {
   "cell_type": "code",
   "execution_count": 31,
   "metadata": {},
   "outputs": [
    {
     "name": "stdout",
     "output_type": "stream",
     "text": [
      "[[1, 2, 3], [4, 5, 6]]\n"
     ]
    }
   ],
   "source": [
    "a = [[1,2,3],[4,5,6]]\n",
    "print(a)"
   ]
  },
  {
   "cell_type": "markdown",
   "metadata": {},
   "source": [
    "和字符串一样，可以用一个下标访问其中的一个元素，"
   ]
  },
  {
   "cell_type": "code",
   "execution_count": 33,
   "metadata": {},
   "outputs": [
    {
     "name": "stdout",
     "output_type": "stream",
     "text": [
      "my_list[0]: 2\n",
      "my_list[3]: [3, 6, 9]\n",
      "my_list[-2]: python\n"
     ]
    }
   ],
   "source": [
    "print(\"my_list[0]:\",my_list[0])\n",
    "print(\"my_list[3]:\",my_list[3])\n",
    "print(\"my_list[-2]:\",my_list[-1])"
   ]
  },
  {
   "cell_type": "code",
   "execution_count": 34,
   "metadata": {},
   "outputs": [
    {
     "name": "stdout",
     "output_type": "stream",
     "text": [
      "[2, 3.14, True, [3, 6, 9], 'python']\n",
      "[2, 3.14, True, [8, 9], 'python']\n"
     ]
    }
   ],
   "source": [
    "print(my_list)\n",
    "my_list[-2]=[8,9]\n",
    "print(my_list)"
   ]
  },
  {
   "cell_type": "markdown",
   "metadata": {},
   "source": [
    "可以用[start:end:step]访问一个列表对象的由起始下标、结束下标、步长所筛选出来元素构成的一个子列表。这种访问列表对象的方式称为切片。"
   ]
  },
  {
   "cell_type": "code",
   "execution_count": 35,
   "metadata": {},
   "outputs": [
    {
     "name": "stdout",
     "output_type": "stream",
     "text": [
      "[2, True]\n",
      "[True, [8, 9]]\n"
     ]
    }
   ],
   "source": [
    "print(my_list[0:4:2])\n",
    "print(my_list[2:4])"
   ]
  },
  {
   "cell_type": "markdown",
   "metadata": {},
   "source": [
    "如果起始下标start未指定，默认为0，如果结束下标start未指定，默认为最后一个元素的后一个位置。例如："
   ]
  },
  {
   "cell_type": "code",
   "execution_count": 36,
   "metadata": {},
   "outputs": [
    {
     "name": "stdout",
     "output_type": "stream",
     "text": [
      "[2, 3.14, True, [8, 9], 'python']\n"
     ]
    }
   ],
   "source": [
    "list_2 = my_list[:]  #所有元素\n",
    "print(list_2)"
   ]
  },
  {
   "cell_type": "markdown",
   "metadata": {},
   "source": [
    "注意：切片操作创建的是一个新的列表对象，"
   ]
  },
  {
   "cell_type": "code",
   "execution_count": 37,
   "metadata": {},
   "outputs": [
    {
     "name": "stdout",
     "output_type": "stream",
     "text": [
      "1914089462592\n",
      "1914089369344\n"
     ]
    }
   ],
   "source": [
    "print(id(my_list))\n",
    "print(id(list_2))"
   ]
  },
  {
   "cell_type": "markdown",
   "metadata": {},
   "source": [
    "如果切片操作放在赋值语句的左边，表示修改该切片对应的子列表内容，如："
   ]
  },
  {
   "cell_type": "code",
   "execution_count": 38,
   "metadata": {},
   "outputs": [
    {
     "name": "stdout",
     "output_type": "stream",
     "text": [
      "[2, 3.14, True, [8, 9], 'python']\n",
      "[2, 3.14, 13, 9, 'python']\n"
     ]
    }
   ],
   "source": [
    "print(my_list)\n",
    "my_list[2:4] = [13, 9]\n",
    "print(my_list)"
   ]
  },
  {
   "cell_type": "markdown",
   "metadata": {},
   "source": [
    "和字符串一样，当然可以用for循环等访问一个list对象中的元素。如："
   ]
  },
  {
   "cell_type": "code",
   "execution_count": 39,
   "metadata": {},
   "outputs": [
    {
     "name": "stdout",
     "output_type": "stream",
     "text": [
      "2 3.14 13 9 python "
     ]
    }
   ],
   "source": [
    "for e in my_list:\n",
    "    print(e,end=\" \")"
   ]
  },
  {
   "cell_type": "markdown",
   "metadata": {},
   "source": [
    "甚至可以用for循环遍历一个容器或可迭代对象的方式来创建一个新的list对象。如："
   ]
  },
  {
   "cell_type": "code",
   "execution_count": null,
   "metadata": {},
   "outputs": [],
   "source": [
    "alist = [e**2 for e in [0,1,2,3,4,5]]\n",
    "print(alist)"
   ]
  },
  {
   "cell_type": "markdown",
   "metadata": {},
   "source": [
    "这种通过在[]中迭代计算产生值创建一个新list对象的式子，叫做**列表解析式**。"
   ]
  },
  {
   "cell_type": "code",
   "execution_count": 41,
   "metadata": {},
   "outputs": [
    {
     "name": "stdout",
     "output_type": "stream",
     "text": [
      "[0, 4, 16]\n"
     ]
    }
   ],
   "source": [
    "alist = [0, 1, 2, 3, 4,5]\n",
    "alist = [x ** 2 for x in alist if x % 2 == 0]\n",
    "print(alist)  "
   ]
  },
  {
   "cell_type": "markdown",
   "metadata": {},
   "source": [
    "内置函数range(n)是一个产生0到n之间整数（不包括n）的迭代器对象"
   ]
  },
  {
   "cell_type": "code",
   "execution_count": 42,
   "metadata": {},
   "outputs": [
    {
     "name": "stdout",
     "output_type": "stream",
     "text": [
      "0 1 2 3 4 5 \n",
      "[0, 1, 4, 9, 16, 25]\n"
     ]
    }
   ],
   "source": [
    "for e in range(6):\n",
    "    print(e, end = ' ')\n",
    "print()\n",
    "alist = [e**2 for e in range(6)]\n",
    "print(alist)"
   ]
  },
  {
   "cell_type": "markdown",
   "metadata": {},
   "source": [
    "#### 2. tuple（元组）\n",
    "\n",
    "定义tuple是用圆括号而不是方括号。如："
   ]
  },
  {
   "cell_type": "code",
   "execution_count": 43,
   "metadata": {},
   "outputs": [
    {
     "name": "stdout",
     "output_type": "stream",
     "text": [
      "<class 'tuple'>\n",
      "([2, 5], 37, 3.14)\n",
      "('https://hwdong.net', 3.14, 37)\n"
     ]
    }
   ],
   "source": [
    "t = ('python',[2,5],37,3.14,\"https://hwdong.net\")\n",
    "print(type(t))\n",
    "print(t[1:4])\n",
    "print(t[-1:-4:-1])"
   ]
  },
  {
   "cell_type": "markdown",
   "metadata": {},
   "source": [
    "list中的元素是可以修改的。"
   ]
  },
  {
   "cell_type": "code",
   "execution_count": 44,
   "metadata": {},
   "outputs": [
    {
     "name": "stdout",
     "output_type": "stream",
     "text": [
      "[0, 1, 4, 9, 16, 25]\n",
      "[0, 22, 4, 9, 16, 25]\n"
     ]
    }
   ],
   "source": [
    "print(alist)\n",
    "alist[1] = 22\n",
    "print(alist)"
   ]
  },
  {
   "cell_type": "markdown",
   "metadata": {},
   "source": [
    "tuple中的元素是不可以被修改的，如同字符串中的元素是不可以被修改的。"
   ]
  },
  {
   "cell_type": "code",
   "execution_count": 45,
   "metadata": {},
   "outputs": [
    {
     "ename": "TypeError",
     "evalue": "'tuple' object does not support item assignment",
     "output_type": "error",
     "traceback": [
      "\u001b[1;31m---------------------------------------------------------------------------\u001b[0m",
      "\u001b[1;31mTypeError\u001b[0m                                 Traceback (most recent call last)",
      "\u001b[1;32m<ipython-input-45-70d00e4ef536>\u001b[0m in \u001b[0;36m<module>\u001b[1;34m\u001b[0m\n\u001b[1;32m----> 1\u001b[1;33m \u001b[0mt\u001b[0m\u001b[1;33m[\u001b[0m\u001b[1;36m1\u001b[0m\u001b[1;33m]\u001b[0m\u001b[1;33m=\u001b[0m\u001b[1;36m22\u001b[0m\u001b[1;33m\u001b[0m\u001b[1;33m\u001b[0m\u001b[0m\n\u001b[0m",
      "\u001b[1;31mTypeError\u001b[0m: 'tuple' object does not support item assignment"
     ]
    }
   ],
   "source": [
    "t[1]=22"
   ]
  },
  {
   "cell_type": "markdown",
   "metadata": {},
   "source": [
    "**注意**：和list不同，用()的解析式创建一个可迭代对象而不是tuple对象，如："
   ]
  },
  {
   "cell_type": "code",
   "execution_count": 46,
   "metadata": {},
   "outputs": [
    {
     "name": "stdout",
     "output_type": "stream",
     "text": [
      "<generator object <genexpr> at 0x000001BDA8AE3890>\n",
      "0 1 4 9 16 25 "
     ]
    }
   ],
   "source": [
    "nums = (x**2 for x in range(6))\n",
    "print(nums) \n",
    "for e in nums:\n",
    "    print(e,end= \" \")"
   ]
  },
  {
   "cell_type": "markdown",
   "metadata": {},
   "source": [
    "#### 3. set（集合）\n",
    "​\n",
    "set是不包含重复元素的无序集合。set是用左右花括号{}包围的以逗号隔开的一组元素。元素的类型可以是不同的。如："
   ]
  },
  {
   "cell_type": "code",
   "execution_count": 47,
   "metadata": {},
   "outputs": [
    {
     "name": "stdout",
     "output_type": "stream",
     "text": [
      "<class 'set'>\n",
      "{2, 3.14, 5, 'python', 8}\n"
     ]
    }
   ],
   "source": [
    "s = {5,5,3.14,2,'python',8}\n",
    "print(type(s))\n",
    "print(s)"
   ]
  },
  {
   "cell_type": "markdown",
   "metadata": {},
   "source": [
    "可以用add()和remove()函数向一个集合中添加和删除一个元素，而list对象可以用append()或insert()函数追加或插入元素，pop() 用于删除最后一个元素，remove()则是删除第一个指定值的元素。"
   ]
  },
  {
   "cell_type": "code",
   "execution_count": 48,
   "metadata": {},
   "outputs": [
    {
     "name": "stdout",
     "output_type": "stream",
     "text": [
      "{2, 3.14, 5, 'python', 8, 'hwdong'}\n",
      "{2, 3.14, 5, 'python', 8}\n",
      "[0, 22, 4, 9, 16, 25, 'hwdong']\n",
      "[0, 22, 'net', 4, 9, 16, 25, 'hwdong']\n",
      "[0, 22, 'net', 4, 9, 16, 25]\n",
      "[0, 22, 4, 9, 16, 25]\n"
     ]
    }
   ],
   "source": [
    "s.add(\"hwdong\")\n",
    "print(s)\n",
    "s.remove(\"hwdong\")\n",
    "print(s)\n",
    "alist.append(\"hwdong\")\n",
    "print(alist)\n",
    "alist.insert(2,\"net\")\n",
    "print(alist)\n",
    "alist.pop()\n",
    "print(alist)\n",
    "alist.remove(\"net\")\n",
    "print(alist)"
   ]
  },
  {
   "cell_type": "markdown",
   "metadata": {},
   "source": [
    "但不可修改对象如tuple则没有append()或insert()之类的函数用于添加元素。下列代码是错误的："
   ]
  },
  {
   "cell_type": "code",
   "execution_count": 49,
   "metadata": {},
   "outputs": [
    {
     "ename": "AttributeError",
     "evalue": "'tuple' object has no attribute 'append'",
     "output_type": "error",
     "traceback": [
      "\u001b[1;31m---------------------------------------------------------------------------\u001b[0m",
      "\u001b[1;31mAttributeError\u001b[0m                            Traceback (most recent call last)",
      "\u001b[1;32m<ipython-input-49-34fd50c7f43a>\u001b[0m in \u001b[0;36m<module>\u001b[1;34m\u001b[0m\n\u001b[1;32m----> 1\u001b[1;33m \u001b[0mt\u001b[0m\u001b[1;33m.\u001b[0m\u001b[0mappend\u001b[0m\u001b[1;33m(\u001b[0m\u001b[1;34m\"hwdong\"\u001b[0m\u001b[1;33m)\u001b[0m\u001b[1;33m\u001b[0m\u001b[1;33m\u001b[0m\u001b[0m\n\u001b[0m",
      "\u001b[1;31mAttributeError\u001b[0m: 'tuple' object has no attribute 'append'"
     ]
    }
   ],
   "source": [
    "t.append(\"hwdong\")"
   ]
  },
  {
   "cell_type": "markdown",
   "metadata": {},
   "source": [
    "可以用{}的解析式创建一个set对象，如"
   ]
  },
  {
   "cell_type": "code",
   "execution_count": 50,
   "metadata": {},
   "outputs": [
    {
     "name": "stdout",
     "output_type": "stream",
     "text": [
      "{0, 1, 4, 9, 16, 25}\n"
     ]
    }
   ],
   "source": [
    "nums = {x**2 for x in range(6)}\n",
    "print(nums) "
   ]
  },
  {
   "cell_type": "markdown",
   "metadata": {},
   "source": [
    "#### 4. dict（字典）\n",
    "\n",
    "dict是一个 (key-value pairs) “键-值”对的无序集合。每个元素都以“键:值(key:value)”的形式存储的。如："
   ]
  },
  {
   "cell_type": "code",
   "execution_count": 52,
   "metadata": {},
   "outputs": [
    {
     "name": "stdout",
     "output_type": "stream",
     "text": [
      "<class 'dict'>\n",
      "{1: 'value', 'key': 2, 'hello': [4, 7]}\n"
     ]
    }
   ],
   "source": [
    "d = {1:'value', 'key':2, 'hello': [4,7]}\n",
    "print(type(d))\n",
    "print(d)"
   ]
  },
  {
   "cell_type": "markdown",
   "metadata": {},
   "source": [
    "通过key(键，也称为关键字)才能访问dict中这个key对应元素的值value。如："
   ]
  },
  {
   "cell_type": "code",
   "execution_count": 53,
   "metadata": {},
   "outputs": [
    {
     "data": {
      "text/plain": [
       "[4, 7]"
      ]
     },
     "execution_count": 53,
     "metadata": {},
     "output_type": "execute_result"
    }
   ],
   "source": [
    "d['hello']"
   ]
  },
  {
   "cell_type": "markdown",
   "metadata": {},
   "source": [
    "如果一个key对应的元素不存在，通过这个key访问元素是非法的，如："
   ]
  },
  {
   "cell_type": "code",
   "execution_count": 54,
   "metadata": {},
   "outputs": [
    {
     "ename": "KeyError",
     "evalue": "3",
     "output_type": "error",
     "traceback": [
      "\u001b[1;31m---------------------------------------------------------------------------\u001b[0m",
      "\u001b[1;31mKeyError\u001b[0m                                  Traceback (most recent call last)",
      "\u001b[1;32m<ipython-input-54-0acadf17a380>\u001b[0m in \u001b[0;36m<module>\u001b[1;34m\u001b[0m\n\u001b[1;32m----> 1\u001b[1;33m \u001b[0md\u001b[0m\u001b[1;33m[\u001b[0m\u001b[1;36m3\u001b[0m\u001b[1;33m]\u001b[0m\u001b[1;33m\u001b[0m\u001b[1;33m\u001b[0m\u001b[0m\n\u001b[0m",
      "\u001b[1;31mKeyError\u001b[0m: 3"
     ]
    }
   ],
   "source": [
    "d[3]"
   ]
  },
  {
   "cell_type": "markdown",
   "metadata": {},
   "source": [
    "但可以给一个不存在的key赋一个值（value），将在这个set中添加一个“键-值”对的元素。如："
   ]
  },
  {
   "cell_type": "code",
   "execution_count": 55,
   "metadata": {},
   "outputs": [
    {
     "name": "stdout",
     "output_type": "stream",
     "text": [
      "{1: 'value', 'key': 2, 'hello': [4, 7], 3: 'python'}\n",
      "python\n"
     ]
    }
   ],
   "source": [
    "d[3] = \"python\"\n",
    "print(d)\n",
    "print(d[3])"
   ]
  },
  {
   "cell_type": "markdown",
   "metadata": {},
   "source": [
    "以名字作为关键字的dict对象表示学生信息表："
   ]
  },
  {
   "cell_type": "code",
   "execution_count": 56,
   "metadata": {},
   "outputs": [
    {
     "name": "stdout",
     "output_type": "stream",
     "text": [
      "{'LiPing': [21, '计科01', 15370203152], 'ZhangWei': [20, '计科02', 17331203312], 'ZhaoSi': [22, '机械03', 16908092516]}\n",
      "[20, '计科02', 17331203312]\n"
     ]
    }
   ],
   "source": [
    "students={\"LiPing\":[21,\"计科01\",15370203152],\"ZhangWei\":[20,\"计科02\",17331203312]\n",
    "         ,\"ZhaoSi\":[22,\"机械03\",16908092516]}\n",
    "print(students)\n",
    "print(students[\"ZhangWei\"])"
   ]
  },
  {
   "cell_type": "markdown",
   "metadata": {},
   "source": [
    "可以通过for...in循环语句访问字典中的元素，如："
   ]
  },
  {
   "cell_type": "code",
   "execution_count": 57,
   "metadata": {},
   "outputs": [
    {
     "name": "stdout",
     "output_type": "stream",
     "text": [
      "LiPing's info: [21, '计科01', 15370203152] \n",
      "ZhangWei's info: [20, '计科02', 17331203312] \n",
      "ZhaoSi's info: [22, '机械03', 16908092516] \n"
     ]
    }
   ],
   "source": [
    "for name in students:\n",
    "    info = students[name]\n",
    "    print('{}\\'s info: {} '.format(name, info)) "
   ]
  },
  {
   "cell_type": "markdown",
   "metadata": {},
   "source": [
    "如果想同时获得键（key）和值（value），则可以用dict类的item()方法获得一个字典对象的所有键-值："
   ]
  },
  {
   "cell_type": "code",
   "execution_count": 58,
   "metadata": {},
   "outputs": [
    {
     "name": "stdout",
     "output_type": "stream",
     "text": [
      "LiPing's info: [21, '计科01', 15370203152] \n",
      "ZhangWei's info: [20, '计科02', 17331203312] \n",
      "ZhaoSi's info: [22, '机械03', 16908092516] \n"
     ]
    }
   ],
   "source": [
    "for key,value in students.items():\n",
    "    value = students[key]\n",
    "    print('{}\\'s info: {} '.format(key,value)) "
   ]
  },
  {
   "cell_type": "markdown",
   "metadata": {},
   "source": [
    "当然，也可以用一个{}解析式创建一个字典对象，如："
   ]
  },
  {
   "cell_type": "code",
   "execution_count": 59,
   "metadata": {},
   "outputs": [
    {
     "name": "stdout",
     "output_type": "stream",
     "text": [
      "{0: 0, 1: 1, 2: 4, 3: 9, 4: 16, 5: 25}\n"
     ]
    }
   ],
   "source": [
    "points = {x:x**2 for x in range(6)}\n",
    "print(points) "
   ]
  },
  {
   "cell_type": "markdown",
   "metadata": {},
   "source": [
    "### 1.1.6  函数\n",
    "\n",
    "Python通过关键字**def**定义函数，给一个程序块起一个名字。如："
   ]
  },
  {
   "cell_type": "code",
   "execution_count": 60,
   "metadata": {},
   "outputs": [],
   "source": [
    "def hwdong():\n",
    "    print(\"我的youtube频道是：\",\"hwdong\")              #调用内置函数print()\n",
    "    print(\"我的B站号是：hw-dong\")\n",
    "    print(\"我的博客是：https://hwdong-net.github.io\")"
   ]
  },
  {
   "cell_type": "markdown",
   "metadata": {},
   "source": [
    "然后就可以通过函数名去调用执行这个函数块中的代码。"
   ]
  },
  {
   "cell_type": "code",
   "execution_count": 61,
   "metadata": {},
   "outputs": [
    {
     "name": "stdout",
     "output_type": "stream",
     "text": [
      "我的youtube频道是： hwdong\n",
      "我的B站号是：hw-dong\n",
      "我的博客是：https://hwdong-net.github.io\n",
      "\n",
      "我的youtube频道是： hwdong\n",
      "我的B站号是：hw-dong\n",
      "我的博客是：https://hwdong-net.github.io\n",
      "\n",
      "我的youtube频道是： hwdong\n",
      "我的B站号是：hw-dong\n",
      "我的博客是：https://hwdong-net.github.io\n"
     ]
    }
   ],
   "source": [
    "hwdong()\n",
    "print()   #调用内置函数print()\n",
    "hwdong()\n",
    "print()   #调用内置函数print()\n",
    "hwdong()"
   ]
  },
  {
   "cell_type": "markdown",
   "metadata": {},
   "source": [
    "函数可以有参数，使得调用函数时，可以传递相应的参数给这个函数，如下面函数计算$x^n$："
   ]
  },
  {
   "cell_type": "code",
   "execution_count": 62,
   "metadata": {},
   "outputs": [],
   "source": [
    "def pow(x,n):    \n",
    "    ret = 1\n",
    "    for i in range(n): #0,1,2,...,n-1\n",
    "        ret *=x # ret  = ret*x\n",
    "    return ret             # return返回函数的值"
   ]
  },
  {
   "cell_type": "markdown",
   "metadata": {},
   "source": [
    "其中的return称为返回语句，函数执行到return 就返回（结束函数执行），并可以返回一个值。\n",
    "\n",
    "调用这个函数，可以给函数的形式参数x和n传递2个实际的参数。如："
   ]
  },
  {
   "cell_type": "code",
   "execution_count": 64,
   "metadata": {},
   "outputs": [
    {
     "name": "stdout",
     "output_type": "stream",
     "text": [
      "9\n",
      "16\n"
     ]
    }
   ],
   "source": [
    "print(pow(3,2))    # 3.5传递给x,2传递给n\n",
    "print(pow(2,4))"
   ]
  },
  {
   "cell_type": "markdown",
   "metadata": {},
   "source": [
    "函数的参数可以有默认值，如果调用函数时，没有提供相应的参数，则这个参数就用其默认值。"
   ]
  },
  {
   "cell_type": "code",
   "execution_count": 65,
   "metadata": {},
   "outputs": [],
   "source": [
    "def pow(x,n=2):   \n",
    "    ret = 1\n",
    "    for i in range(n):\n",
    "        ret *=x\n",
    "    return ret"
   ]
  },
  {
   "cell_type": "markdown",
   "metadata": {},
   "source": [
    "该函数的参数n默认值是2，即计算$x^2$。调用该函数时，可以传递或不传递实际参数给形式参数n。"
   ]
  },
  {
   "cell_type": "code",
   "execution_count": 67,
   "metadata": {},
   "outputs": [
    {
     "name": "stdout",
     "output_type": "stream",
     "text": [
      "12.25\n",
      "42.875\n"
     ]
    }
   ],
   "source": [
    "print(pow(3.5))    # 3.5传递给x, n的默认值时2\n",
    "print(pow(3.5,3))"
   ]
  },
  {
   "cell_type": "markdown",
   "metadata": {},
   "source": [
    "一个函数可以在其内部调用自身，这种函数称为**递归函数**。"
   ]
  },
  {
   "cell_type": "code",
   "execution_count": 69,
   "metadata": {},
   "outputs": [
    {
     "data": {
      "text/plain": [
       "24"
      ]
     },
     "execution_count": 69,
     "metadata": {},
     "output_type": "execute_result"
    }
   ],
   "source": [
    "def fact(n):\n",
    "    if n==1:             #如果n等于1，就直接返回值1\n",
    "        return 1\n",
    "    return n * fact(n - 1)  #如果n大于1，就是n和fact(n-1)的乘积\n",
    "\n",
    "fact(4)             # 输出： 24"
   ]
  },
  {
   "cell_type": "markdown",
   "metadata": {},
   "source": [
    "当然，也可以直接用循环来计算$n! = 1*2*3*\\cdots n$"
   ]
  },
  {
   "cell_type": "code",
   "execution_count": 70,
   "metadata": {},
   "outputs": [
    {
     "data": {
      "text/plain": [
       "24"
      ]
     },
     "execution_count": 70,
     "metadata": {},
     "output_type": "execute_result"
    }
   ],
   "source": [
    "def fact(n):\n",
    "    ret = 1\n",
    "    i = 1\n",
    "    while i<=n:\n",
    "        ret *= i\n",
    "        i += 1\n",
    "    return ret\n",
    "\n",
    "fact(4)             # 输出： 24"
   ]
  },
  {
   "cell_type": "markdown",
   "metadata": {},
   "source": [
    "#### math数学包\n",
    "\n",
    "math包里定义了许多数学函数库，要使用该包的函数，需要import这个包。(导入)"
   ]
  },
  {
   "cell_type": "code",
   "execution_count": 71,
   "metadata": {},
   "outputs": [
    {
     "name": "stdout",
     "output_type": "stream",
     "text": [
      "1.4142135623730951\n"
     ]
    }
   ],
   "source": [
    "import math\n",
    "print(math.sqrt(2))"
   ]
  },
  {
   "cell_type": "code",
   "execution_count": 73,
   "metadata": {},
   "outputs": [
    {
     "name": "stdout",
     "output_type": "stream",
     "text": [
      "1.4142135623730951\n",
      "12.25\n"
     ]
    }
   ],
   "source": [
    "import math as mt #import... as可以给一个import的包起一个别名\n",
    "print(mt.sqrt(2))\n",
    "print(mt.pow(3.5,2))"
   ]
  },
  {
   "cell_type": "code",
   "execution_count": 74,
   "metadata": {},
   "outputs": [
    {
     "name": "stdout",
     "output_type": "stream",
     "text": [
      "半径是2.5的圆面积和周长是：19.63,15.71\n",
      "半径是3.5的圆面积和周长是：38.48,21.99\n"
     ]
    }
   ],
   "source": [
    "import math             \n",
    "def circle(r):\n",
    "    area = math.pi*r**2\n",
    "    perimeter = 2*math.pi*r\n",
    "    return area,perimeter    \n",
    "\n",
    "area,p = circle(2.5)   \n",
    "print(\"半径是2.5的圆面积和周长是：%5.2f,%5.2f\"%(area,p))\n",
    "area,p =circle(3.5)   \n",
    "print(\"半径是3.5的圆面积和周长是：%5.2f,%5.2f\"%(area,p))"
   ]
  },
  {
   "cell_type": "markdown",
   "metadata": {},
   "source": [
    "函数可以返回多个值，这多个值实际上是以一个tuple对象返回的。"
   ]
  },
  {
   "cell_type": "code",
   "execution_count": 75,
   "metadata": {},
   "outputs": [
    {
     "name": "stdout",
     "output_type": "stream",
     "text": [
      "<class 'tuple'>\n",
      "19.634954084936208 15.707963267948966\n"
     ]
    }
   ],
   "source": [
    "ret = circle(2.5)  #(area,perimeter) \n",
    "print(type(ret))\n",
    "area,p = ret               \n",
    "print(area,p )"
   ]
  },
  {
   "cell_type": "markdown",
   "metadata": {},
   "source": [
    "#### 全局变量和局部变量\n",
    "\n",
    "在函数外部定义的变量称为**全局变量**，函数内部定义的变量称为**局部变量**。"
   ]
  },
  {
   "cell_type": "code",
   "execution_count": 76,
   "metadata": {},
   "outputs": [],
   "source": [
    "global_x = 6\n",
    "def f():\n",
    "    x = 3\n",
    "    global_x = 5\n",
    "    print(x,global_x)"
   ]
  },
  {
   "cell_type": "code",
   "execution_count": 77,
   "metadata": {},
   "outputs": [
    {
     "name": "stdout",
     "output_type": "stream",
     "text": [
      "3 5\n",
      "6\n"
     ]
    }
   ],
   "source": [
    "f()    \n",
    "print(global_x)"
   ]
  },
  {
   "cell_type": "markdown",
   "metadata": {},
   "source": [
    "如果希望能访问全局变量，需要在函数内部用关键字global声明一个变量是全局变量，如："
   ]
  },
  {
   "cell_type": "code",
   "execution_count": 78,
   "metadata": {},
   "outputs": [],
   "source": [
    "global_x = 6\n",
    "def f():\n",
    "    global global_x\n",
    "    x = 3\n",
    "    global_x = 5\n",
    "    print(x,global_x)"
   ]
  },
  {
   "cell_type": "code",
   "execution_count": 79,
   "metadata": {},
   "outputs": [
    {
     "name": "stdout",
     "output_type": "stream",
     "text": [
      "3 5\n",
      "5\n"
     ]
    }
   ],
   "source": [
    "f()    \n",
    "print(global_x)"
   ]
  },
  {
   "cell_type": "markdown",
   "metadata": {},
   "source": [
    "另外一种修改全局变量的方法就是将全局变量作为参数传递给函数，但这个全局变量必须是非基本类型的对象。"
   ]
  },
  {
   "cell_type": "code",
   "execution_count": 80,
   "metadata": {},
   "outputs": [
    {
     "name": "stdout",
     "output_type": "stream",
     "text": [
      "5\n",
      "[10, 2, 3]\n",
      "6\n",
      "[10, 2, 3]\n"
     ]
    }
   ],
   "source": [
    "global_x = 6\n",
    "a = [1,2,3]\n",
    "\n",
    "def f(y,z):    \n",
    "    x = 3\n",
    "    y = 5\n",
    "    z[0] = 10\n",
    "    print(y)\n",
    "    print(z)\n",
    "    \n",
    "f(global_x,a)    \n",
    "print(global_x)\n",
    "print(a)"
   ]
  },
  {
   "cell_type": "markdown",
   "metadata": {},
   "source": [
    "#### Anonymous/Lambda Function（匿名/lambda函数）\n",
    "\n",
    "```\n",
    "lambda arguments: expression\n",
    "```\n",
    "即省略了函数名的函数。"
   ]
  },
  {
   "cell_type": "code",
   "execution_count": 81,
   "metadata": {},
   "outputs": [
    {
     "data": {
      "text/plain": [
       "<function __main__.<lambda>(x)>"
      ]
     },
     "execution_count": 81,
     "metadata": {},
     "output_type": "execute_result"
    }
   ],
   "source": [
    "lambda x: x ** 2"
   ]
  },
  {
   "cell_type": "code",
   "execution_count": 82,
   "metadata": {},
   "outputs": [
    {
     "data": {
      "text/plain": [
       "12.25"
      ]
     },
     "execution_count": 82,
     "metadata": {},
     "output_type": "execute_result"
    }
   ],
   "source": [
    "double = lambda x: x ** 2\n",
    "\n",
    "double(3.5)"
   ]
  },
  {
   "cell_type": "markdown",
   "metadata": {},
   "source": [
    "#### 嵌套函数、闭包\n",
    "\n",
    "定义在另一个函数内部的函数称为**嵌套函数**。"
   ]
  },
  {
   "cell_type": "code",
   "execution_count": 83,
   "metadata": {},
   "outputs": [
    {
     "name": "stdout",
     "output_type": "stream",
     "text": [
      "Hello\n"
     ]
    }
   ],
   "source": [
    "def print_msg(msg):  #包围函数   \n",
    "    def printer():  #嵌套函数        \n",
    "        print(msg)\n",
    "    return printer  # 返回嵌套函数\n",
    "\n",
    "\n",
    "another = print_msg(\"Hello\")\n",
    "another()"
   ]
  },
  {
   "cell_type": "markdown",
   "metadata": {},
   "source": [
    "嵌套函数可以访问包围范围内的变量。"
   ]
  },
  {
   "cell_type": "code",
   "execution_count": 84,
   "metadata": {},
   "outputs": [],
   "source": [
    "def make_pow(n):\n",
    "    def pow(x):\n",
    "        return x ** n  #pow()可以访问make_pow()的变量（即n）。\n",
    "    return pow"
   ]
  },
  {
   "cell_type": "code",
   "execution_count": 85,
   "metadata": {},
   "outputs": [
    {
     "name": "stdout",
     "output_type": "stream",
     "text": [
      "729\n",
      "243\n",
      "32768\n"
     ]
    }
   ],
   "source": [
    "pow3 = make_pow(3)         \n",
    "\n",
    "pow5 = make_pow(5)\n",
    "\n",
    "print(pow3(9))\n",
    "print(pow5(3))\n",
    "print(pow5(pow3(2)))"
   ]
  },
  {
   "cell_type": "markdown",
   "metadata": {},
   "source": [
    "#### yield和生成器\n",
    "生成器是一个可以返回一个迭代器(对象)的函数。"
   ]
  },
  {
   "cell_type": "code",
   "execution_count": 86,
   "metadata": {},
   "outputs": [],
   "source": [
    "def infinite_sequence():\n",
    "    num = 0\n",
    "    while True:\n",
    "        yield num\n",
    "        num += 1"
   ]
  },
  {
   "cell_type": "code",
   "execution_count": 88,
   "metadata": {},
   "outputs": [
    {
     "name": "stdout",
     "output_type": "stream",
     "text": [
      "0 1 2 3 4 5 6 7 8 9 10 11 12 13 14 15 16 17 18 19 20 21 "
     ]
    }
   ],
   "source": [
    "for i in infinite_sequence():\n",
    "      print(i, end=\" \")\n",
    "      if i>20:\n",
    "             break"
   ]
  },
  {
   "cell_type": "markdown",
   "metadata": {},
   "source": [
    "### 1.1.7  类和对象"
   ]
  },
  {
   "cell_type": "markdown",
   "metadata": {},
   "source": [
    "前面的str、list等都是类。一般的，可以通过类名创建一个类对象，类对象是一个具体的对象。如："
   ]
  },
  {
   "cell_type": "code",
   "execution_count": 89,
   "metadata": {},
   "outputs": [
    {
     "name": "stdout",
     "output_type": "stream",
     "text": [
      "<class 'str'>\n",
      "7\n",
      "[0, 1, 2, 3, 4, 5]\n",
      "[0, 1, 20, 3, 4, 5]\n"
     ]
    }
   ],
   "source": [
    "s = str(\"http://hwdong.net\")\n",
    "print(type(s)) #str\n",
    "location = s.find(\"hwdong\")     #通过str的find()方法查询是否存在一个子串，返回子串的位置\n",
    "print(location)\n",
    "alist = list(range(6))  #[0,1,2,3,4,5]  list\n",
    "blist = alist.copy()          #通过list的copy()方法产生alist修地一个复制（拷贝）list\n",
    "blist[2] = 20\n",
    "print(alist)\n",
    "print(blist)"
   ]
  },
  {
   "cell_type": "markdown",
   "metadata": {},
   "source": [
    "Python中用关键字class定义一个类。为了刻画所有学生的共同属性，可以定义一个Student类。"
   ]
  },
  {
   "cell_type": "code",
   "execution_count": 90,
   "metadata": {},
   "outputs": [],
   "source": [
    "class Student:\n",
    "    def __init__(self, name, score):\n",
    "        self.name = name\n",
    "        self.score = score\n",
    "        \n",
    "    def print(self):\n",
    "        print(self.name,\",\",self.score)"
   ]
  },
  {
   "cell_type": "markdown",
   "metadata": {},
   "source": [
    "类的中__init__()方法是一个特殊方法，称为**构造函数**，在定义类的对象时，会自动调用这个构造函数，对self指向的类对象进行初始化。"
   ]
  },
  {
   "cell_type": "code",
   "execution_count": 91,
   "metadata": {},
   "outputs": [
    {
     "name": "stdout",
     "output_type": "stream",
     "text": [
      "LiPing , 67\n",
      "WangQiang , 83\n"
     ]
    }
   ],
   "source": [
    "s1 = Student(\"LiPing\",67)\n",
    "s2 = Student(\"WangQiang\",83)\n",
    "s1.print()\n",
    "s2.print()"
   ]
  },
  {
   "cell_type": "markdown",
   "metadata": {},
   "source": [
    "类属性是类的所有对象都共享的属性。Student类添加了一个类属性count："
   ]
  },
  {
   "cell_type": "code",
   "execution_count": 92,
   "metadata": {},
   "outputs": [],
   "source": [
    "class Student:\n",
    "    count=0\n",
    "    def __init__(self, name, score):\n",
    "        self.name = name\n",
    "        self.score = score\n",
    "        Student.count +=1\n",
    "        \n",
    "    def print(self):\n",
    "        print(self.name,\",\",self.score)"
   ]
  },
  {
   "cell_type": "code",
   "execution_count": 93,
   "metadata": {},
   "outputs": [
    {
     "name": "stdout",
     "output_type": "stream",
     "text": [
      "0\n",
      "1\n",
      "2\n"
     ]
    }
   ],
   "source": [
    "print(Student.count)\n",
    "s1 = Student(\"LiPing\",67)\n",
    "print(s1.count)\n",
    "s2 = Student(\"WangQiang\",83)\n",
    "print(Student.count)"
   ]
  },
  {
   "cell_type": "markdown",
   "metadata": {},
   "source": [
    "### Matplotlib\n",
    "Matplotlib是一个用于2D图形的Python软件包，可以用来绘制图形或显示图像。\n",
    "windows系统下以管理员权限打开命令行窗口，然后执行下列命令安装它。\n",
    "```\n",
    "pip install matplotlib\n",
    "```\n",
    "Linux或Mac需要管理员权限，即执行：\n",
    "```\n",
    "sudo pip install matplotlib\n",
    "```\n",
    "\n",
    "matplotlib.pyplot为matplotlib面向对象的绘图库提供了方便的类似Matlab的接口函数。可以用下面的代码导入matplotlib.pyplot模块并命名为plt，可避免在代码中写一长串的matplotlib.pyplot。"
   ]
  },
  {
   "cell_type": "code",
   "execution_count": 94,
   "metadata": {},
   "outputs": [],
   "source": [
    "import matplotlib.pyplot as plt\n",
    "%matplotlib inline       "
   ]
  },
  {
   "cell_type": "markdown",
   "metadata": {},
   "source": [
    "可以直接绘制1D数据，如："
   ]
  },
  {
   "cell_type": "code",
   "execution_count": 96,
   "metadata": {},
   "outputs": [
    {
     "name": "stdout",
     "output_type": "stream",
     "text": [
      "[0.0, 0.5, 1.0, 1.5, 2.0, 2.5, 3.0, 3.5, 4.0, 4.5]\n"
     ]
    },
    {
     "data": {
      "image/png": "[encoded data removed]",
      "text/plain": [
       "<Figure size 432x288 with 1 Axes>"
      ]
     },
     "metadata": {
      "needs_background": "light"
     },
     "output_type": "display_data"
    }
   ],
   "source": [
    "y = [i*0.5 for i in range(10)]\n",
    "print(y)\n",
    "plt.plot(y)           #  绘制y作为纵轴坐标点构成的图形\n",
    "plt.show()            #  调用plt.show()显示图形"
   ]
  },
  {
   "cell_type": "markdown",
   "metadata": {},
   "source": [
    "绘制2D数据"
   ]
  },
  {
   "cell_type": "code",
   "execution_count": 98,
   "metadata": {},
   "outputs": [
    {
     "name": "stdout",
     "output_type": "stream",
     "text": [
      "['0.00', '0.10', '0.20', '0.30', '0.40', '0.50', '0.60', '0.70', '0.80', '0.90']\n",
      "['0.00', '0.01', '0.04', '0.09', '0.16', '0.25', '0.36', '0.49', '0.64', '0.81']\n"
     ]
    },
    {
     "data": {
      "image/png": "[encoded data removed]",
      "text/plain": [
       "<Figure size 432x288 with 1 Axes>"
      ]
     },
     "metadata": {
      "needs_background": "light"
     },
     "output_type": "display_data"
    }
   ],
   "source": [
    "x = [i*0.1 for i in range(10)]\n",
    "y = [xi**2 for xi in x]\n",
    "print([\"{0:0.2f}\".format(i) for i in x])\n",
    "print([\"{0:0.2f}\".format(i) for i in y])\n",
    "plt.plot(x, y)        #  绘制(x,y)坐标点构成的图形\n",
    "plt.show()            #  调用plt.show()显示图形"
   ]
  },
  {
   "cell_type": "markdown",
   "metadata": {},
   "source": [
    "同时绘制几个曲线。"
   ]
  },
  {
   "cell_type": "code",
   "execution_count": 99,
   "metadata": {},
   "outputs": [
    {
     "data": {
      "image/png": "[encoded data removed]",
      "text/plain": [
       "<Figure size 432x288 with 1 Axes>"
      ]
     },
     "metadata": {
      "needs_background": "light"
     },
     "output_type": "display_data"
    }
   ],
   "source": [
    "x = [i*0.2 for i in range(10)]\n",
    "y = [xi**2 for xi in x]\n",
    "y2 = [3*xi-1 for xi in x]\n",
    "\n",
    "plt.plot(x, y)        #  绘制(x,y)坐标点构成的图形\n",
    "plt.plot(x, y2)  \n",
    "plt.ylim(0,5)\n",
    "plt.xlabel('x axis label')\n",
    "plt.ylabel('y axis label')\n",
    "plt.title('y=x^2 and y=3x-1')\n",
    "plt.legend(['y=x^2', 'y=3x-1'])   #  指定图例的标签labels\n",
    "plt.show()                        #  调用plt.show()显示图形"
   ]
  },
  {
   "cell_type": "markdown",
   "metadata": {},
   "source": [
    "plot()函数还可以接受一些参数，用于定制绘制的图形的样式，如："
   ]
  },
  {
   "cell_type": "code",
   "execution_count": 100,
   "metadata": {},
   "outputs": [
    {
     "data": {
      "image/png": "[encoded data removed]",
      "text/plain": [
       "<Figure size 432x288 with 1 Axes>"
      ]
     },
     "metadata": {
      "needs_background": "light"
     },
     "output_type": "display_data"
    }
   ],
   "source": [
    "import math\n",
    "x = [i*0.2 for i in range(50)]\n",
    "y = [math.sin(xi) for xi in x]\n",
    "y2 = [math.cos(xi) for xi in x]\n",
    "y3 = [0.2*xi for xi in x]\n",
    "plt.plot(x, y,'r-')        \n",
    "plt.plot(x, y2,'bo')  \n",
    "plt.plot(x, y3,'g:')  \n",
    "plt.legend(['sin(x)', 'cos(x)','0.2x'])\n",
    "plt.show()    "
   ]
  },
  {
   "cell_type": "markdown",
   "metadata": {},
   "source": [
    "scatter()用于绘制散乱点图。"
   ]
  },
  {
   "cell_type": "code",
   "execution_count": 101,
   "metadata": {},
   "outputs": [
    {
     "data": {
      "image/png": "[encoded data removed]",
      "text/plain": [
       "<Figure size 432x288 with 1 Axes>"
      ]
     },
     "metadata": {
      "needs_background": "light"
     },
     "output_type": "display_data"
    }
   ],
   "source": [
    "import math\n",
    "x = [i*0.2 for i in range(50)]\n",
    "y = [math.sin(xi) for xi in x]\n",
    "y2 = [math.cos(xi) for xi in x]\n",
    "y3 = [0.2*xi for xi in x]\n",
    "plt.scatter(x, y, c='r', s=6, alpha=0.2)        \n",
    "plt.scatter(x, y2,c='g', s=18, alpha=0.9)  \n",
    "plt.scatter(x, y3,c='b', s=3, alpha=0.4)  \n",
    "plt.legend(['sin(x)', 'cos(x)','0.2x'])\n",
    "plt.show() "
   ]
  },
  {
   "cell_type": "markdown",
   "metadata": {},
   "source": [
    "其中参数c表示颜色，其值'r'、'g'、'b'分别表示红、绿、蓝，s参数表示点的大小，alpha表示图的透明性。"
   ]
  },
  {
   "cell_type": "markdown",
   "metadata": {},
   "source": [
    "#### subplot()\n",
    "\n",
    "可以用subplot()函数指定子图绘制在那个子图窗口中。\n",
    "```\n",
    "subplot(numRows, numCols, plotNum)\n",
    "```"
   ]
  },
  {
   "cell_type": "code",
   "execution_count": 103,
   "metadata": {},
   "outputs": [
    {
     "data": {
      "image/png": "[encoded data removed]",
      "text/plain": [
       "<Figure size 864x288 with 2 Axes>"
      ]
     },
     "metadata": {
      "needs_background": "light"
     },
     "output_type": "display_data"
    }
   ],
   "source": [
    "import math\n",
    "x = [i*0.2 for i in range(50)]\n",
    "y = [math.sin(xi) for xi in x]\n",
    "y2 = [math.cos(xi) for xi in x]\n",
    "y3 = [0.2*xi for xi in x]\n",
    "\n",
    "fig = plt.gcf()\n",
    "fig.set_size_inches(12, 4, forward=True)\n",
    "\n",
    "plt.subplot(1, 2, 1)\n",
    "plt.plot(x, y,'r-') \n",
    "plt.plot(x, y2,'bo')  \n",
    "plt.title('sin(x) and cos(x)')\n",
    "plt.legend(['sin(x)', 'cos(x)'])\n",
    "\n",
    "plt.subplot(1, 2, 2)\n",
    "plt.plot(x, y3,'g:')  \n",
    "plt.title('0.2x') \n",
    "\n",
    "plt.show()    "
   ]
  },
  {
   "cell_type": "markdown",
   "metadata": {},
   "source": [
    "#### Axes objects\n",
    "\n",
    "subplot()函数返回一个axes对象。我们可以使用它随时指定哪个subplot(子图)处于活动状态："
   ]
  },
  {
   "cell_type": "code",
   "execution_count": 104,
   "metadata": {},
   "outputs": [
    {
     "data": {
      "image/png": "[encoded data removed]",
      "text/plain": [
       "<Figure size 576x288 with 2 Axes>"
      ]
     },
     "metadata": {
      "needs_background": "light"
     },
     "output_type": "display_data"
    }
   ],
   "source": [
    "from math import pi\n",
    "plt.figure(figsize=(8,4))\n",
    "\n",
    "x = [i*0.03 for i in range(300)]\n",
    "y = [math.sin(2*xi) for xi in x]\n",
    "y2 = [math.sin(10*xi) for xi in x]\n",
    "y3 =[math.cos(2*xi) for xi in x]\n",
    "\n",
    "plt.subplots_adjust(hspace=0.4)\n",
    "\n",
    "ax1 = plt.subplot(2,1,1) # subplot(2,1,1) is active, plotting will be done there\n",
    "plt.xlim(0, 9)\n",
    "plt.plot(x, y)\n",
    "plt.title('subplot(2,1,1)')\n",
    "\n",
    "ax2 = plt.subplot(2,1,2) # subplot(2,1,2) is now active\n",
    "plt.xlim(0, 9)\n",
    "plt.plot(x, y2)\n",
    "plt.title('subplot(2,1,2)')\n",
    "\n",
    "plt.axes(ax1)            # we activate subplot(2,1,1) to do more plotting on this subplot\n",
    "plt.plot(x, y3, 'r--')\n",
    "\n",
    "plt.show()"
   ]
  },
  {
   "cell_type": "markdown",
   "metadata": {},
   "source": [
    "#### mplot3d\n",
    "\n",
    "与其他axes(轴)一样，使用projection ='3d'关键字创建Axes3D对象。创建一个 matplotlib.figure.Figure，并添加一个类型 Axes3D的axes(轴)："
   ]
  },
  {
   "cell_type": "code",
   "execution_count": 105,
   "metadata": {},
   "outputs": [
    {
     "data": {
      "image/png": "[encoded data removed]",
      "text/plain": [
       "<Figure size 432x288 with 1 Axes>"
      ]
     },
     "metadata": {
      "needs_background": "light"
     },
     "output_type": "display_data"
    }
   ],
   "source": [
    "from mpl_toolkits.mplot3d import Axes3D\n",
    "fig = plt.figure()\n",
    "ax = fig.add_subplot(111, projection='3d')"
   ]
  },
  {
   "cell_type": "markdown",
   "metadata": {},
   "source": [
    "可以用Axes3D的方法plot()、scatter()、plot_wireframe()、plot_surface()去画线、画点、画线框、画阴影曲面。"
   ]
  },
  {
   "cell_type": "code",
   "execution_count": 106,
   "metadata": {},
   "outputs": [
    {
     "data": {
      "image/png": "[encoded data removed]",
      "text/plain": [
       "<Figure size 432x288 with 1 Axes>"
      ]
     },
     "metadata": {
      "needs_background": "light"
     },
     "output_type": "display_data"
    }
   ],
   "source": [
    "import matplotlib as mpl\n",
    "from mpl_toolkits.mplot3d import Axes3D\n",
    "import numpy as np\n",
    "import matplotlib.pyplot as plt\n",
    "\n",
    "mpl.rcParams['legend.fontsize'] = 10\n",
    "\n",
    "fig = plt.figure()\n",
    "ax = fig.gca(projection='3d')\n",
    "\n",
    "theta = np.linspace(-4 * np.pi, 4 * np.pi, 100)\n",
    "z = np.linspace(-2, 2, 100)\n",
    "r = z**2 + 1\n",
    "x = r * np.sin(theta)\n",
    "y = r * np.cos(theta)\n",
    "ax.plot(x, y, z, label='parametric curve')\n",
    "ax.legend()\n",
    "\n",
    "plt.show()"
   ]
  },
  {
   "cell_type": "code",
   "execution_count": 107,
   "metadata": {},
   "outputs": [
    {
     "data": {
      "image/png": "[encoded data removed]",
      "text/plain": [
       "<Figure size 432x288 with 1 Axes>"
      ]
     },
     "metadata": {
      "needs_background": "light"
     },
     "output_type": "display_data"
    }
   ],
   "source": [
    "from mpl_toolkits.mplot3d import Axes3D\n",
    "import matplotlib.pyplot as plt\n",
    "import numpy as np\n",
    "\n",
    "\n",
    "def randrange(n, vmin, vmax):\n",
    "    '''\n",
    "    Helper function to make an array of random numbers having shape (n, )\n",
    "    with each number distributed Uniform(vmin, vmax).\n",
    "    '''\n",
    "    return (vmax - vmin)*np.random.rand(n) + vmin\n",
    "\n",
    "fig = plt.figure()\n",
    "ax = fig.add_subplot(111, projection='3d')\n",
    "\n",
    "n = 100\n",
    "\n",
    "# For each set of style and range settings, plot n random points in the box\n",
    "# defined by x in [23, 32], y in [0, 100], z in [zlow, zhigh].\n",
    "for c, m, zlow, zhigh in [('r', 'o', -50, -25), ('b', '^', -30, -5)]:\n",
    "    xs = randrange(n, 23, 32)\n",
    "    ys = randrange(n, 0, 100)\n",
    "    zs = randrange(n, zlow, zhigh)\n",
    "    ax.scatter(xs, ys, zs, c=c, marker=m)\n",
    "\n",
    "ax.set_xlabel('X Label')\n",
    "ax.set_ylabel('Y Label')\n",
    "ax.set_zlabel('Z Label')\n",
    "\n",
    "plt.show()\n"
   ]
  },
  {
   "cell_type": "code",
   "execution_count": 108,
   "metadata": {},
   "outputs": [
    {
     "name": "stdout",
     "output_type": "stream",
     "text": [
      "120\n",
      "[[-30.  -29.5 -29.  ...  28.5  29.   29.5]\n",
      " [-30.  -29.5 -29.  ...  28.5  29.   29.5]\n",
      " [-30.  -29.5 -29.  ...  28.5  29.   29.5]\n",
      " ...\n",
      " [-30.  -29.5 -29.  ...  28.5  29.   29.5]\n",
      " [-30.  -29.5 -29.  ...  28.5  29.   29.5]\n",
      " [-30.  -29.5 -29.  ...  28.5  29.   29.5]]\n"
     ]
    },
    {
     "data": {
      "image/png": "[encoded data removed]",
      "text/plain": [
       "<Figure size 432x288 with 1 Axes>"
      ]
     },
     "metadata": {
      "needs_background": "light"
     },
     "output_type": "display_data"
    }
   ],
   "source": [
    "from mpl_toolkits.mplot3d import axes3d\n",
    "import matplotlib.pyplot as plt\n",
    "\n",
    "\n",
    "fig = plt.figure()\n",
    "ax = fig.add_subplot(111, projection='3d')\n",
    "\n",
    "# Grab some test data.\n",
    "X, Y, Z = axes3d.get_test_data(0.05)\n",
    "print(len(X))\n",
    "print(X)\n",
    "\n",
    "# Plot a basic wireframe.\n",
    "ax.plot_wireframe(X, Y, Z, rstride=10, cstride=2)\n",
    "\n",
    "plt.show()"
   ]
  },
  {
   "cell_type": "code",
   "execution_count": 109,
   "metadata": {},
   "outputs": [
    {
     "data": {
      "image/png": "[encoded data removed]",
      "text/plain": [
       "<Figure size 432x288 with 2 Axes>"
      ]
     },
     "metadata": {
      "needs_background": "light"
     },
     "output_type": "display_data"
    }
   ],
   "source": [
    "from mpl_toolkits.mplot3d import Axes3D\n",
    "import matplotlib.pyplot as plt\n",
    "from matplotlib import cm\n",
    "from matplotlib.ticker import LinearLocator, FormatStrFormatter\n",
    "import numpy as np\n",
    "\n",
    "\n",
    "fig = plt.figure()\n",
    "ax = fig.gca(projection='3d')\n",
    "\n",
    "# Make data.\n",
    "X = np.arange(-5, 5, 0.25)\n",
    "Y = np.arange(-5, 5, 0.25)\n",
    "X, Y = np.meshgrid(X, Y)\n",
    "R = np.sqrt(X**2 + Y**2)\n",
    "Z = np.sin(R)\n",
    "\n",
    "# Plot the surface.\n",
    "surf = ax.plot_surface(X, Y, Z, cmap=cm.coolwarm,\n",
    "                       linewidth=0, antialiased=False)\n",
    "\n",
    "# Customize the z axis.\n",
    "ax.set_zlim(-1.01, 1.01)\n",
    "ax.zaxis.set_major_locator(LinearLocator(10))\n",
    "ax.zaxis.set_major_formatter(FormatStrFormatter('%.02f'))\n",
    "\n",
    "# Add a color bar which maps values to colors.\n",
    "fig.colorbar(surf, shrink=0.5, aspect=5)\n",
    "\n",
    "plt.show()"
   ]
  },
  {
   "cell_type": "code",
   "execution_count": null,
   "metadata": {},
   "outputs": [],
   "source": []
  }
 ],
 "metadata": {
  "kernelspec": {
   "display_name": "Python 3",
   "language": "python",
   "name": "python3"
  },
  "language_info": {
   "codemirror_mode": {
    "name": "ipython",
    "version": 3
   },
   "file_extension": ".py",
   "mimetype": "text/x-python",
   "name": "python",
   "nbconvert_exporter": "python",
   "pygments_lexer": "ipython3",
   "version": "3.8.2"
  }
 },
 "nbformat": 4,
 "nbformat_minor": 4
}
